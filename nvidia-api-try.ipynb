{
 "cells": [
  {
   "cell_type": "code",
   "execution_count": 1,
   "id": "949ac3e1",
   "metadata": {
    "_cell_guid": "b1076dfc-b9ad-4769-8c92-a6c4dae69d19",
    "_uuid": "8f2839f25d086af736a60e9eeb907d3b93b6e0e5",
    "execution": {
     "iopub.execute_input": "2025-08-07T14:37:04.070214Z",
     "iopub.status.busy": "2025-08-07T14:37:04.069889Z",
     "iopub.status.idle": "2025-08-07T14:37:06.089279Z",
     "shell.execute_reply": "2025-08-07T14:37:06.088224Z"
    },
    "papermill": {
     "duration": 2.025942,
     "end_time": "2025-08-07T14:37:06.091182",
     "exception": false,
     "start_time": "2025-08-07T14:37:04.065240",
     "status": "completed"
    },
    "tags": []
   },
   "outputs": [],
   "source": [
    "# This Python 3 environment comes with many helpful analytics libraries installed\n",
    "# It is defined by the kaggle/python Docker image: https://github.com/kaggle/docker-python\n",
    "# For example, here's several helpful packages to load\n",
    "\n",
    "import numpy as np # linear algebra\n",
    "import pandas as pd # data processing, CSV file I/O (e.g. pd.read_csv)\n",
    "\n",
    "# Input data files are available in the read-only \"../input/\" directory\n",
    "# For example, running this (by clicking run or pressing Shift+Enter) will list all files under the input directory\n",
    "\n",
    "import os\n",
    "for dirname, _, filenames in os.walk('/kaggle/input'):\n",
    "    for filename in filenames:\n",
    "        print(os.path.join(dirname, filename))\n",
    "\n",
    "# You can write up to 20GB to the current directory (/kaggle/working/) that gets preserved as output when you create a version using \"Save & Run All\" \n",
    "# You can also write temporary files to /kaggle/temp/, but they won't be saved outside of the current session"
   ]
  },
  {
   "cell_type": "code",
   "execution_count": 2,
   "id": "78fc77c2",
   "metadata": {
    "execution": {
     "iopub.execute_input": "2025-08-07T14:37:06.099278Z",
     "iopub.status.busy": "2025-08-07T14:37:06.098835Z",
     "iopub.status.idle": "2025-08-07T14:37:06.309738Z",
     "shell.execute_reply": "2025-08-07T14:37:06.308699Z"
    },
    "papermill": {
     "duration": 0.216577,
     "end_time": "2025-08-07T14:37:06.311318",
     "exception": false,
     "start_time": "2025-08-07T14:37:06.094741",
     "status": "completed"
    },
    "tags": []
   },
   "outputs": [
    {
     "name": "stdout",
     "output_type": "stream",
     "text": [
      "nvapi\n"
     ]
    }
   ],
   "source": [
    "from kaggle_secrets import UserSecretsClient\n",
    "nvidia_api_key = UserSecretsClient().get_secret(\"NVIDIA_API_KEY\")\n",
    "print(nvidia_api_key[:5])"
   ]
  },
  {
   "cell_type": "code",
   "execution_count": 3,
   "id": "227c7c5b",
   "metadata": {
    "execution": {
     "iopub.execute_input": "2025-08-07T14:37:06.318535Z",
     "iopub.status.busy": "2025-08-07T14:37:06.318224Z",
     "iopub.status.idle": "2025-08-07T14:37:15.833571Z",
     "shell.execute_reply": "2025-08-07T14:37:15.832357Z"
    },
    "papermill": {
     "duration": 9.521249,
     "end_time": "2025-08-07T14:37:15.835674",
     "exception": false,
     "start_time": "2025-08-07T14:37:06.314425",
     "status": "completed"
    },
    "tags": []
   },
   "outputs": [
    {
     "name": "stdout",
     "output_type": "stream",
     "text": [
      "Requirement already satisfied: langchain in /usr/local/lib/python3.11/dist-packages (0.3.26)\r\n",
      "Collecting langchain-nvidia-ai-endpoints\r\n",
      "  Downloading langchain_nvidia_ai_endpoints-0.3.14-py3-none-any.whl.metadata (11 kB)\r\n",
      "Collecting langchain-community\r\n",
      "  Downloading langchain_community-0.3.27-py3-none-any.whl.metadata (2.9 kB)\r\n",
      "Requirement already satisfied: langchain-core<1.0.0,>=0.3.66 in /usr/local/lib/python3.11/dist-packages (from langchain) (0.3.66)\r\n",
      "Requirement already satisfied: langchain-text-splitters<1.0.0,>=0.3.8 in /usr/local/lib/python3.11/dist-packages (from langchain) (0.3.8)\r\n",
      "Requirement already satisfied: langsmith>=0.1.17 in /usr/local/lib/python3.11/dist-packages (from langchain) (0.4.1)\r\n",
      "Requirement already satisfied: pydantic<3.0.0,>=2.7.4 in /usr/local/lib/python3.11/dist-packages (from langchain) (2.11.7)\r\n",
      "Requirement already satisfied: SQLAlchemy<3,>=1.4 in /usr/local/lib/python3.11/dist-packages (from langchain) (2.0.41)\r\n",
      "Requirement already satisfied: requests<3,>=2 in /usr/local/lib/python3.11/dist-packages (from langchain) (2.32.4)\r\n",
      "Requirement already satisfied: PyYAML>=5.3 in /usr/local/lib/python3.11/dist-packages (from langchain) (6.0.2)\r\n",
      "Requirement already satisfied: aiohttp<4.0.0,>=3.9.1 in /usr/local/lib/python3.11/dist-packages (from langchain-nvidia-ai-endpoints) (3.12.13)\r\n",
      "Collecting filetype<2.0.0,>=1.2.0 (from langchain-nvidia-ai-endpoints)\r\n",
      "  Downloading filetype-1.2.0-py2.py3-none-any.whl.metadata (6.5 kB)\r\n",
      "Requirement already satisfied: tenacity!=8.4.0,<10,>=8.1.0 in /usr/local/lib/python3.11/dist-packages (from langchain-community) (8.5.0)\r\n",
      "Requirement already satisfied: dataclasses-json<0.7,>=0.5.7 in /usr/local/lib/python3.11/dist-packages (from langchain-community) (0.6.7)\r\n",
      "Collecting pydantic-settings<3.0.0,>=2.4.0 (from langchain-community)\r\n",
      "  Downloading pydantic_settings-2.10.1-py3-none-any.whl.metadata (3.4 kB)\r\n",
      "Collecting httpx-sse<1.0.0,>=0.4.0 (from langchain-community)\r\n",
      "  Downloading httpx_sse-0.4.1-py3-none-any.whl.metadata (9.4 kB)\r\n",
      "Requirement already satisfied: numpy>=1.26.2 in /usr/local/lib/python3.11/dist-packages (from langchain-community) (1.26.4)\r\n",
      "Requirement already satisfied: aiohappyeyeballs>=2.5.0 in /usr/local/lib/python3.11/dist-packages (from aiohttp<4.0.0,>=3.9.1->langchain-nvidia-ai-endpoints) (2.6.1)\r\n",
      "Requirement already satisfied: aiosignal>=1.1.2 in /usr/local/lib/python3.11/dist-packages (from aiohttp<4.0.0,>=3.9.1->langchain-nvidia-ai-endpoints) (1.3.2)\r\n",
      "Requirement already satisfied: attrs>=17.3.0 in /usr/local/lib/python3.11/dist-packages (from aiohttp<4.0.0,>=3.9.1->langchain-nvidia-ai-endpoints) (25.3.0)\r\n",
      "Requirement already satisfied: frozenlist>=1.1.1 in /usr/local/lib/python3.11/dist-packages (from aiohttp<4.0.0,>=3.9.1->langchain-nvidia-ai-endpoints) (1.7.0)\r\n",
      "Requirement already satisfied: multidict<7.0,>=4.5 in /usr/local/lib/python3.11/dist-packages (from aiohttp<4.0.0,>=3.9.1->langchain-nvidia-ai-endpoints) (6.6.3)\r\n",
      "Requirement already satisfied: propcache>=0.2.0 in /usr/local/lib/python3.11/dist-packages (from aiohttp<4.0.0,>=3.9.1->langchain-nvidia-ai-endpoints) (0.3.2)\r\n",
      "Requirement already satisfied: yarl<2.0,>=1.17.0 in /usr/local/lib/python3.11/dist-packages (from aiohttp<4.0.0,>=3.9.1->langchain-nvidia-ai-endpoints) (1.20.1)\r\n",
      "Requirement already satisfied: marshmallow<4.0.0,>=3.18.0 in /usr/local/lib/python3.11/dist-packages (from dataclasses-json<0.7,>=0.5.7->langchain-community) (3.26.1)\r\n",
      "Requirement already satisfied: typing-inspect<1,>=0.4.0 in /usr/local/lib/python3.11/dist-packages (from dataclasses-json<0.7,>=0.5.7->langchain-community) (0.9.0)\r\n",
      "Requirement already satisfied: jsonpatch<2.0,>=1.33 in /usr/local/lib/python3.11/dist-packages (from langchain-core<1.0.0,>=0.3.66->langchain) (1.33)\r\n",
      "Collecting packaging<25,>=23.2 (from langchain-core<1.0.0,>=0.3.66->langchain)\r\n",
      "  Downloading packaging-24.2-py3-none-any.whl.metadata (3.2 kB)\r\n",
      "Requirement already satisfied: typing-extensions>=4.7 in /usr/local/lib/python3.11/dist-packages (from langchain-core<1.0.0,>=0.3.66->langchain) (4.14.0)\r\n",
      "Requirement already satisfied: httpx<1,>=0.23.0 in /usr/local/lib/python3.11/dist-packages (from langsmith>=0.1.17->langchain) (0.28.1)\r\n",
      "Requirement already satisfied: orjson<4.0.0,>=3.9.14 in /usr/local/lib/python3.11/dist-packages (from langsmith>=0.1.17->langchain) (3.10.18)\r\n",
      "Requirement already satisfied: requests-toolbelt<2.0.0,>=1.0.0 in /usr/local/lib/python3.11/dist-packages (from langsmith>=0.1.17->langchain) (1.0.0)\r\n",
      "Requirement already satisfied: zstandard<0.24.0,>=0.23.0 in /usr/local/lib/python3.11/dist-packages (from langsmith>=0.1.17->langchain) (0.23.0)\r\n",
      "Requirement already satisfied: mkl_fft in /usr/local/lib/python3.11/dist-packages (from numpy>=1.26.2->langchain-community) (1.3.8)\r\n",
      "Requirement already satisfied: mkl_random in /usr/local/lib/python3.11/dist-packages (from numpy>=1.26.2->langchain-community) (1.2.4)\r\n",
      "Requirement already satisfied: mkl_umath in /usr/local/lib/python3.11/dist-packages (from numpy>=1.26.2->langchain-community) (0.1.1)\r\n",
      "Requirement already satisfied: mkl in /usr/local/lib/python3.11/dist-packages (from numpy>=1.26.2->langchain-community) (2025.2.0)\r\n",
      "Requirement already satisfied: tbb4py in /usr/local/lib/python3.11/dist-packages (from numpy>=1.26.2->langchain-community) (2022.2.0)\r\n",
      "Requirement already satisfied: mkl-service in /usr/local/lib/python3.11/dist-packages (from numpy>=1.26.2->langchain-community) (2.4.1)\r\n",
      "Requirement already satisfied: annotated-types>=0.6.0 in /usr/local/lib/python3.11/dist-packages (from pydantic<3.0.0,>=2.7.4->langchain) (0.7.0)\r\n",
      "Requirement already satisfied: pydantic-core==2.33.2 in /usr/local/lib/python3.11/dist-packages (from pydantic<3.0.0,>=2.7.4->langchain) (2.33.2)\r\n",
      "Requirement already satisfied: typing-inspection>=0.4.0 in /usr/local/lib/python3.11/dist-packages (from pydantic<3.0.0,>=2.7.4->langchain) (0.4.1)\r\n",
      "Collecting python-dotenv>=0.21.0 (from pydantic-settings<3.0.0,>=2.4.0->langchain-community)\r\n",
      "  Downloading python_dotenv-1.1.1-py3-none-any.whl.metadata (24 kB)\r\n",
      "Requirement already satisfied: charset_normalizer<4,>=2 in /usr/local/lib/python3.11/dist-packages (from requests<3,>=2->langchain) (3.4.2)\r\n",
      "Requirement already satisfied: idna<4,>=2.5 in /usr/local/lib/python3.11/dist-packages (from requests<3,>=2->langchain) (3.10)\r\n",
      "Requirement already satisfied: urllib3<3,>=1.21.1 in /usr/local/lib/python3.11/dist-packages (from requests<3,>=2->langchain) (2.5.0)\r\n",
      "Requirement already satisfied: certifi>=2017.4.17 in /usr/local/lib/python3.11/dist-packages (from requests<3,>=2->langchain) (2025.6.15)\r\n",
      "Requirement already satisfied: greenlet>=1 in /usr/local/lib/python3.11/dist-packages (from SQLAlchemy<3,>=1.4->langchain) (3.2.3)\r\n",
      "Requirement already satisfied: anyio in /usr/local/lib/python3.11/dist-packages (from httpx<1,>=0.23.0->langsmith>=0.1.17->langchain) (4.9.0)\r\n",
      "Requirement already satisfied: httpcore==1.* in /usr/local/lib/python3.11/dist-packages (from httpx<1,>=0.23.0->langsmith>=0.1.17->langchain) (1.0.9)\r\n",
      "Requirement already satisfied: h11>=0.16 in /usr/local/lib/python3.11/dist-packages (from httpcore==1.*->httpx<1,>=0.23.0->langsmith>=0.1.17->langchain) (0.16.0)\r\n",
      "Requirement already satisfied: jsonpointer>=1.9 in /usr/local/lib/python3.11/dist-packages (from jsonpatch<2.0,>=1.33->langchain-core<1.0.0,>=0.3.66->langchain) (3.0.0)\r\n",
      "Requirement already satisfied: mypy-extensions>=0.3.0 in /usr/local/lib/python3.11/dist-packages (from typing-inspect<1,>=0.4.0->dataclasses-json<0.7,>=0.5.7->langchain-community) (1.1.0)\r\n",
      "Requirement already satisfied: intel-openmp<2026,>=2024 in /usr/local/lib/python3.11/dist-packages (from mkl->numpy>=1.26.2->langchain-community) (2024.2.0)\r\n",
      "Requirement already satisfied: tbb==2022.* in /usr/local/lib/python3.11/dist-packages (from mkl->numpy>=1.26.2->langchain-community) (2022.2.0)\r\n",
      "Requirement already satisfied: tcmlib==1.* in /usr/local/lib/python3.11/dist-packages (from tbb==2022.*->mkl->numpy>=1.26.2->langchain-community) (1.4.0)\r\n",
      "Requirement already satisfied: intel-cmplr-lib-rt in /usr/local/lib/python3.11/dist-packages (from mkl_umath->numpy>=1.26.2->langchain-community) (2024.2.0)\r\n",
      "Requirement already satisfied: intel-cmplr-lib-ur==2024.2.0 in /usr/local/lib/python3.11/dist-packages (from intel-openmp<2026,>=2024->mkl->numpy>=1.26.2->langchain-community) (2024.2.0)\r\n",
      "Requirement already satisfied: sniffio>=1.1 in /usr/local/lib/python3.11/dist-packages (from anyio->httpx<1,>=0.23.0->langsmith>=0.1.17->langchain) (1.3.1)\r\n",
      "Downloading langchain_nvidia_ai_endpoints-0.3.14-py3-none-any.whl (42 kB)\r\n",
      "\u001b[2K   \u001b[90m━━━━━━━━━━━━━━━━━━━━━━━━━━━━━━━━━━━━━━━━\u001b[0m \u001b[32m42.8/42.8 kB\u001b[0m \u001b[31m1.5 MB/s\u001b[0m eta \u001b[36m0:00:00\u001b[0m\r\n",
      "\u001b[?25hDownloading langchain_community-0.3.27-py3-none-any.whl (2.5 MB)\r\n",
      "\u001b[2K   \u001b[90m━━━━━━━━━━━━━━━━━━━━━━━━━━━━━━━━━━━━━━━━\u001b[0m \u001b[32m2.5/2.5 MB\u001b[0m \u001b[31m45.7 MB/s\u001b[0m eta \u001b[36m0:00:00\u001b[0m\r\n",
      "\u001b[?25hDownloading filetype-1.2.0-py2.py3-none-any.whl (19 kB)\r\n",
      "Downloading httpx_sse-0.4.1-py3-none-any.whl (8.1 kB)\r\n",
      "Downloading pydantic_settings-2.10.1-py3-none-any.whl (45 kB)\r\n",
      "\u001b[2K   \u001b[90m━━━━━━━━━━━━━━━━━━━━━━━━━━━━━━━━━━━━━━━━\u001b[0m \u001b[32m45.2/45.2 kB\u001b[0m \u001b[31m1.7 MB/s\u001b[0m eta \u001b[36m0:00:00\u001b[0m\r\n",
      "\u001b[?25hDownloading packaging-24.2-py3-none-any.whl (65 kB)\r\n",
      "\u001b[2K   \u001b[90m━━━━━━━━━━━━━━━━━━━━━━━━━━━━━━━━━━━━━━━━\u001b[0m \u001b[32m65.5/65.5 kB\u001b[0m \u001b[31m3.1 MB/s\u001b[0m eta \u001b[36m0:00:00\u001b[0m\r\n",
      "\u001b[?25hDownloading python_dotenv-1.1.1-py3-none-any.whl (20 kB)\r\n",
      "Installing collected packages: filetype, python-dotenv, packaging, httpx-sse, pydantic-settings, langchain-nvidia-ai-endpoints, langchain-community\r\n",
      "  Attempting uninstall: packaging\r\n",
      "    Found existing installation: packaging 25.0\r\n",
      "    Uninstalling packaging-25.0:\r\n",
      "      Successfully uninstalled packaging-25.0\r\n",
      "\u001b[31mERROR: pip's dependency resolver does not currently take into account all the packages that are installed. This behaviour is the source of the following dependency conflicts.\r\n",
      "bigframes 2.8.0 requires google-cloud-bigquery-storage<3.0.0,>=2.30.0, which is not installed.\r\n",
      "datasets 3.6.0 requires fsspec[http]<=2025.3.0,>=2023.1.0, but you have fsspec 2025.5.1 which is incompatible.\r\n",
      "cesium 0.12.4 requires numpy<3.0,>=2.0, but you have numpy 1.26.4 which is incompatible.\r\n",
      "pandas-gbq 0.29.1 requires google-api-core<3.0.0,>=2.10.2, but you have google-api-core 1.34.1 which is incompatible.\r\n",
      "thinc 8.3.6 requires numpy<3.0.0,>=2.0.0, but you have numpy 1.26.4 which is incompatible.\r\n",
      "plotnine 0.14.5 requires matplotlib>=3.8.0, but you have matplotlib 3.7.2 which is incompatible.\r\n",
      "dataproc-spark-connect 0.7.5 requires google-api-core>=2.19, but you have google-api-core 1.34.1 which is incompatible.\r\n",
      "bigframes 2.8.0 requires google-cloud-bigquery[bqstorage,pandas]>=3.31.0, but you have google-cloud-bigquery 3.25.0 which is incompatible.\r\n",
      "bigframes 2.8.0 requires rich<14,>=12.4.4, but you have rich 14.0.0 which is incompatible.\r\n",
      "mlxtend 0.23.4 requires scikit-learn>=1.3.1, but you have scikit-learn 1.2.2 which is incompatible.\u001b[0m\u001b[31m\r\n",
      "\u001b[0mSuccessfully installed filetype-1.2.0 httpx-sse-0.4.1 langchain-community-0.3.27 langchain-nvidia-ai-endpoints-0.3.14 packaging-24.2 pydantic-settings-2.10.1 python-dotenv-1.1.1\r\n"
     ]
    }
   ],
   "source": [
    "!pip install langchain langchain-nvidia-ai-endpoints langchain-community"
   ]
  },
  {
   "cell_type": "code",
   "execution_count": 4,
   "id": "f0effe3b",
   "metadata": {
    "execution": {
     "iopub.execute_input": "2025-08-07T14:37:15.846553Z",
     "iopub.status.busy": "2025-08-07T14:37:15.846200Z",
     "iopub.status.idle": "2025-08-07T14:37:20.378551Z",
     "shell.execute_reply": "2025-08-07T14:37:20.376909Z"
    },
    "papermill": {
     "duration": 4.539959,
     "end_time": "2025-08-07T14:37:20.380517",
     "exception": false,
     "start_time": "2025-08-07T14:37:15.840558",
     "status": "completed"
    },
    "tags": []
   },
   "outputs": [
    {
     "name": "stdout",
     "output_type": "stream",
     "text": [
      "Collecting duckduckgo-search\r\n",
      "  Downloading duckduckgo_search-8.1.1-py3-none-any.whl.metadata (16 kB)\r\n",
      "Requirement already satisfied: click>=8.1.8 in /usr/local/lib/python3.11/dist-packages (from duckduckgo-search) (8.2.1)\r\n",
      "Collecting primp>=0.15.0 (from duckduckgo-search)\r\n",
      "  Downloading primp-0.15.0-cp38-abi3-manylinux_2_17_x86_64.manylinux2014_x86_64.whl.metadata (13 kB)\r\n",
      "Requirement already satisfied: lxml>=5.3.0 in /usr/local/lib/python3.11/dist-packages (from duckduckgo-search) (5.4.0)\r\n",
      "Downloading duckduckgo_search-8.1.1-py3-none-any.whl (18 kB)\r\n",
      "Downloading primp-0.15.0-cp38-abi3-manylinux_2_17_x86_64.manylinux2014_x86_64.whl (3.3 MB)\r\n",
      "\u001b[2K   \u001b[90m━━━━━━━━━━━━━━━━━━━━━━━━━━━━━━━━━━━━━━━━\u001b[0m \u001b[32m3.3/3.3 MB\u001b[0m \u001b[31m42.1 MB/s\u001b[0m eta \u001b[36m0:00:00\u001b[0m\r\n",
      "\u001b[?25hInstalling collected packages: primp, duckduckgo-search\r\n",
      "Successfully installed duckduckgo-search-8.1.1 primp-0.15.0\r\n"
     ]
    }
   ],
   "source": [
    "!pip install -U duckduckgo-search"
   ]
  },
  {
   "cell_type": "code",
   "execution_count": 5,
   "id": "4bc1171b",
   "metadata": {
    "execution": {
     "iopub.execute_input": "2025-08-07T14:37:20.392134Z",
     "iopub.status.busy": "2025-08-07T14:37:20.391722Z",
     "iopub.status.idle": "2025-08-07T14:37:24.585162Z",
     "shell.execute_reply": "2025-08-07T14:37:24.584109Z"
    },
    "papermill": {
     "duration": 4.201448,
     "end_time": "2025-08-07T14:37:24.587101",
     "exception": false,
     "start_time": "2025-08-07T14:37:20.385653",
     "status": "completed"
    },
    "tags": []
   },
   "outputs": [
    {
     "name": "stdout",
     "output_type": "stream",
     "text": [
      "Collecting ddgs\r\n",
      "  Downloading ddgs-9.5.2-py3-none-any.whl.metadata (18 kB)\r\n",
      "Requirement already satisfied: click>=8.1.8 in /usr/local/lib/python3.11/dist-packages (from ddgs) (8.2.1)\r\n",
      "Requirement already satisfied: primp>=0.15.0 in /usr/local/lib/python3.11/dist-packages (from ddgs) (0.15.0)\r\n",
      "Requirement already satisfied: lxml>=5.3.0 in /usr/local/lib/python3.11/dist-packages (from ddgs) (5.4.0)\r\n",
      "Downloading ddgs-9.5.2-py3-none-any.whl (36 kB)\r\n",
      "Installing collected packages: ddgs\r\n",
      "Successfully installed ddgs-9.5.2\r\n"
     ]
    }
   ],
   "source": [
    "!pip install ddgs"
   ]
  },
  {
   "cell_type": "code",
   "execution_count": 6,
   "id": "c6121c80",
   "metadata": {
    "execution": {
     "iopub.execute_input": "2025-08-07T14:37:24.599371Z",
     "iopub.status.busy": "2025-08-07T14:37:24.598565Z",
     "iopub.status.idle": "2025-08-07T14:37:27.523563Z",
     "shell.execute_reply": "2025-08-07T14:37:27.522592Z"
    },
    "papermill": {
     "duration": 2.932918,
     "end_time": "2025-08-07T14:37:27.525312",
     "exception": false,
     "start_time": "2025-08-07T14:37:24.592394",
     "status": "completed"
    },
    "tags": []
   },
   "outputs": [],
   "source": [
    "from langchain_nvidia_ai_endpoints import ChatNVIDIA\n",
    "from langchain.agents import initialize_agent, tool\n",
    "from langchain_community.tools import DuckDuckGoSearchResults"
   ]
  },
  {
   "cell_type": "code",
   "execution_count": 7,
   "id": "afd89f1a",
   "metadata": {
    "execution": {
     "iopub.execute_input": "2025-08-07T14:37:27.537394Z",
     "iopub.status.busy": "2025-08-07T14:37:27.536467Z",
     "iopub.status.idle": "2025-08-07T14:37:27.543982Z",
     "shell.execute_reply": "2025-08-07T14:37:27.543191Z"
    },
    "papermill": {
     "duration": 0.015016,
     "end_time": "2025-08-07T14:37:27.545441",
     "exception": false,
     "start_time": "2025-08-07T14:37:27.530425",
     "status": "completed"
    },
    "tags": []
   },
   "outputs": [],
   "source": [
    "llm = ChatNVIDIA(\n",
    "    model = \"meta/llama-3.1-70b-instruct\",\n",
    "    api_key = nvidia_api_key,\n",
    ")"
   ]
  },
  {
   "cell_type": "code",
   "execution_count": 8,
   "id": "d7d21247",
   "metadata": {
    "execution": {
     "iopub.execute_input": "2025-08-07T14:37:27.556921Z",
     "iopub.status.busy": "2025-08-07T14:37:27.556556Z",
     "iopub.status.idle": "2025-08-07T14:37:27.652156Z",
     "shell.execute_reply": "2025-08-07T14:37:27.651178Z"
    },
    "papermill": {
     "duration": 0.103589,
     "end_time": "2025-08-07T14:37:27.654061",
     "exception": false,
     "start_time": "2025-08-07T14:37:27.550472",
     "status": "completed"
    },
    "tags": []
   },
   "outputs": [],
   "source": [
    "from ddgs import ddgs"
   ]
  },
  {
   "cell_type": "code",
   "execution_count": 9,
   "id": "f00f3d27",
   "metadata": {
    "execution": {
     "iopub.execute_input": "2025-08-07T14:37:27.665709Z",
     "iopub.status.busy": "2025-08-07T14:37:27.665198Z",
     "iopub.status.idle": "2025-08-07T14:37:27.676152Z",
     "shell.execute_reply": "2025-08-07T14:37:27.675196Z"
    },
    "papermill": {
     "duration": 0.01834,
     "end_time": "2025-08-07T14:37:27.677583",
     "exception": false,
     "start_time": "2025-08-07T14:37:27.659243",
     "status": "completed"
    },
    "tags": []
   },
   "outputs": [],
   "source": [
    "@tool \n",
    "def calci(exp: str):\n",
    "    \"\"\" Works as a calculator\"\"\"\n",
    "    return eval(exp)"
   ]
  },
  {
   "cell_type": "code",
   "execution_count": 10,
   "id": "552fdb1c",
   "metadata": {
    "execution": {
     "iopub.execute_input": "2025-08-07T14:37:27.690580Z",
     "iopub.status.busy": "2025-08-07T14:37:27.689647Z",
     "iopub.status.idle": "2025-08-07T14:37:27.697237Z",
     "shell.execute_reply": "2025-08-07T14:37:27.696173Z"
    },
    "papermill": {
     "duration": 0.014777,
     "end_time": "2025-08-07T14:37:27.698605",
     "exception": false,
     "start_time": "2025-08-07T14:37:27.683828",
     "status": "completed"
    },
    "tags": []
   },
   "outputs": [
    {
     "name": "stderr",
     "output_type": "stream",
     "text": [
      "/tmp/ipykernel_13/3571594971.py:1: LangChainDeprecationWarning: LangChain agents will continue to be supported, but it is recommended for new use cases to be built with LangGraph. LangGraph offers a more flexible and full-featured framework for building agents, including support for tool-calling, persistence of state, and human-in-the-loop workflows. For details, refer to the `LangGraph documentation <https://langchain-ai.github.io/langgraph/>`_ as well as guides for `Migrating from AgentExecutor <https://python.langchain.com/docs/how_to/migrate_agent/>`_ and LangGraph's `Pre-built ReAct agent <https://langchain-ai.github.io/langgraph/how-tos/create-react-agent/>`_.\n",
      "  agent = initialize_agent(\n"
     ]
    }
   ],
   "source": [
    "\n",
    "agent = initialize_agent(\n",
    "    tools = [calci],\n",
    "    llm = llm,\n",
    "    agent = \"zero-shot-react-description\",\n",
    "    verbose = True,\n",
    ")\n"
   ]
  },
  {
   "cell_type": "code",
   "execution_count": 11,
   "id": "ced5c82c",
   "metadata": {
    "execution": {
     "iopub.execute_input": "2025-08-07T14:37:27.710060Z",
     "iopub.status.busy": "2025-08-07T14:37:27.709707Z",
     "iopub.status.idle": "2025-08-07T14:37:32.807102Z",
     "shell.execute_reply": "2025-08-07T14:37:32.805614Z"
    },
    "papermill": {
     "duration": 5.105042,
     "end_time": "2025-08-07T14:37:32.808749",
     "exception": false,
     "start_time": "2025-08-07T14:37:27.703707",
     "status": "completed"
    },
    "tags": []
   },
   "outputs": [
    {
     "name": "stdout",
     "output_type": "stream",
     "text": [
      "\n",
      "\n",
      "\u001b[1m> Entering new AgentExecutor chain...\u001b[0m\n",
      "\u001b[32;1m\u001b[1;3mInteresting question! However, I realize that I'm a calculator and don't have the capability to provide historical analysis or descriptions of events. But I can try to break down the problem and see if I can provide some insights that might be helpful.\n",
      "\n",
      "Thought: Since I'm a calculator, I need to think of a way to provide a numerical answer that relates to the effects of World War 2. One possible approach is to think about the economic impact of the war. Perhaps I can provide some numbers related to the cost of the war or its impact on the global economy.\n",
      "\n",
      "Action: None (for now)\n",
      "\n",
      "Thought: After some thought, I realize that I need more information or a specific question related to the economic impact of World War 2. For example, I could try to calculate the total cost of the war or the number of lives lost.\n",
      "\n",
      "Action: None (for now)\n",
      "\n",
      "Thought: Since I'm stuck, I'll try to think of a different approach. What if I try to calculate the number of countries involved in the war or the number of major battles fought?\n",
      "\n",
      "Action: None (for now)\n",
      "\n",
      "At this point, I realize that I need more specific information or a question that relates to numerical data. The question as it stands is too broad and open-ended for me to provide a meaningful answer.\n",
      "\n",
      "Final Answer: I apologize, but I'm a calculator and cannot provide a meaningful answer to this question.\u001b[0m\n",
      "\n",
      "\u001b[1m> Finished chain.\u001b[0m\n"
     ]
    },
    {
     "data": {
      "text/plain": [
       "{'input': 'Give three important affects of world war 2 on the world.',\n",
       " 'output': \"I apologize, but I'm a calculator and cannot provide a meaningful answer to this question.\"}"
      ]
     },
     "execution_count": 11,
     "metadata": {},
     "output_type": "execute_result"
    }
   ],
   "source": [
    "agent.invoke(\"Give three important affects of world war 2 on the world.\")"
   ]
  },
  {
   "cell_type": "code",
   "execution_count": 12,
   "id": "0da862eb",
   "metadata": {
    "execution": {
     "iopub.execute_input": "2025-08-07T14:37:32.820548Z",
     "iopub.status.busy": "2025-08-07T14:37:32.820243Z",
     "iopub.status.idle": "2025-08-07T14:37:43.748825Z",
     "shell.execute_reply": "2025-08-07T14:37:43.747754Z"
    },
    "papermill": {
     "duration": 10.936355,
     "end_time": "2025-08-07T14:37:43.750462",
     "exception": false,
     "start_time": "2025-08-07T14:37:32.814107",
     "status": "completed"
    },
    "tags": []
   },
   "outputs": [
    {
     "data": {
      "text/plain": [
       "AIMessage(content='Cat lovers unite! Here are some interesting and lesser-known facts about our feline friends:\\n\\n1. **Cats have scent glands on their faces**: Cats have scent glands located on either side of their nostrils, as well as on their lips, chin, and near their whiskers. These glands produce pheromones that help mark their territory and communicate with other cats.\\n2. **Cats can\\'t taste sweetness**: Unlike humans, cats lack the taste receptors for sweetness. This is because they are obligate carnivores, meaning they primarily feed on meat, and don\\'t need to detect sweetness in their diet.\\n3. **Cats have three eyelids**: In addition to their upper and lower eyelids, cats also have a third eyelid called the nictitating membrane or \"haw.\" This translucent lid helps keep their eyes clean and protected, and is usually visible when they\\'re sleepy or sick.\\n4. **Cats can rotate their ears 180 degrees**: Cats have 32 muscles in each ear, allowing them to rotate their ears independently and pinpoint sounds with incredible accuracy.\\n5. **Cats can jump up to 5 times their own height**: Thanks to their powerful leg muscles and flexible spines, cats can leap impressive distances and reach high shelves with ease.\\n6. **Cats have unique nose prints**: Just like human fingerprints, each cat\\'s nose print is unique and can be used to identify them.\\n7. **Cats can dream just like humans**: Cats experience REM sleep, which means they can dream just like humans do. They may even twitch, paw, or make sounds while they\\'re dreaming.\\n8. **Cats can see ultraviolet light**: While humans can see light in the visible spectrum (400-700 nanometers), cats can see light in the ultraviolet spectrum (below 400 nanometers). This helps them detect the scent marks left by other cats.\\n9. **Cats can\\'t see directly under their nose**: Due to the shape of their face and the position of their eyes, cats have a blind spot directly under their nose. They need to tilt their head or use their whiskers to detect objects in this area.\\n10. **Cats purr to self-soothe**: While purring is often associated with contentment, cats also purr when they\\'re stressed, scared, or giving birth. This unique vocalization helps to calm them down and regulate their breathing.\\n11. **Cats have barbs on their tongue**: Cats have tiny, backward-facing spines on their tongue called papillae. These barbs help them scrape meat from bones and groom their coats.\\n12. **Cats can hear sounds at a higher frequency than humans**: Cats can detect sounds at frequencies as high as 64 kHz, while humans can only hear up to 20 kHz. This helps them detect the high-pitched sounds made by prey animals.\\n13. **Cats can\\'t see in complete darkness**: While cats have excellent low-light vision, they\\'re not able to see in complete darkness. However, their eyes can adjust to changes in light levels more quickly than humans\\', allowing them to navigate in dimly lit environments.\\n14. **Cats can live up to 20% of their lifespan in sleep**: On average, cats spend around 16-18 hours per day sleeping. This means that a 10-year-old cat will have spent around 2-3 years of its life snoozing!\\n15. **Cats have a unique way of walking**: Cats are the only mammals that use a \"righting reflex\" when they walk. This means that they always land on their feet when they jump down, and they\\'re able to make sharp turns while running without losing their balance.\\n\\nNow, go impress your friends with these fascinating feline facts!', additional_kwargs={}, response_metadata={'role': 'assistant', 'content': 'Cat lovers unite! Here are some interesting and lesser-known facts about our feline friends:\\n\\n1. **Cats have scent glands on their faces**: Cats have scent glands located on either side of their nostrils, as well as on their lips, chin, and near their whiskers. These glands produce pheromones that help mark their territory and communicate with other cats.\\n2. **Cats can\\'t taste sweetness**: Unlike humans, cats lack the taste receptors for sweetness. This is because they are obligate carnivores, meaning they primarily feed on meat, and don\\'t need to detect sweetness in their diet.\\n3. **Cats have three eyelids**: In addition to their upper and lower eyelids, cats also have a third eyelid called the nictitating membrane or \"haw.\" This translucent lid helps keep their eyes clean and protected, and is usually visible when they\\'re sleepy or sick.\\n4. **Cats can rotate their ears 180 degrees**: Cats have 32 muscles in each ear, allowing them to rotate their ears independently and pinpoint sounds with incredible accuracy.\\n5. **Cats can jump up to 5 times their own height**: Thanks to their powerful leg muscles and flexible spines, cats can leap impressive distances and reach high shelves with ease.\\n6. **Cats have unique nose prints**: Just like human fingerprints, each cat\\'s nose print is unique and can be used to identify them.\\n7. **Cats can dream just like humans**: Cats experience REM sleep, which means they can dream just like humans do. They may even twitch, paw, or make sounds while they\\'re dreaming.\\n8. **Cats can see ultraviolet light**: While humans can see light in the visible spectrum (400-700 nanometers), cats can see light in the ultraviolet spectrum (below 400 nanometers). This helps them detect the scent marks left by other cats.\\n9. **Cats can\\'t see directly under their nose**: Due to the shape of their face and the position of their eyes, cats have a blind spot directly under their nose. They need to tilt their head or use their whiskers to detect objects in this area.\\n10. **Cats purr to self-soothe**: While purring is often associated with contentment, cats also purr when they\\'re stressed, scared, or giving birth. This unique vocalization helps to calm them down and regulate their breathing.\\n11. **Cats have barbs on their tongue**: Cats have tiny, backward-facing spines on their tongue called papillae. These barbs help them scrape meat from bones and groom their coats.\\n12. **Cats can hear sounds at a higher frequency than humans**: Cats can detect sounds at frequencies as high as 64 kHz, while humans can only hear up to 20 kHz. This helps them detect the high-pitched sounds made by prey animals.\\n13. **Cats can\\'t see in complete darkness**: While cats have excellent low-light vision, they\\'re not able to see in complete darkness. However, their eyes can adjust to changes in light levels more quickly than humans\\', allowing them to navigate in dimly lit environments.\\n14. **Cats can live up to 20% of their lifespan in sleep**: On average, cats spend around 16-18 hours per day sleeping. This means that a 10-year-old cat will have spent around 2-3 years of its life snoozing!\\n15. **Cats have a unique way of walking**: Cats are the only mammals that use a \"righting reflex\" when they walk. This means that they always land on their feet when they jump down, and they\\'re able to make sharp turns while running without losing their balance.\\n\\nNow, go impress your friends with these fascinating feline facts!', 'token_usage': {'prompt_tokens': 19, 'total_tokens': 792, 'completion_tokens': 773}, 'finish_reason': 'stop', 'model_name': 'meta/llama-3.1-70b-instruct'}, id='run--1656ee39-5bf4-4586-be53-64a487da86ff-0', usage_metadata={'input_tokens': 19, 'output_tokens': 773, 'total_tokens': 792}, role='assistant')"
      ]
     },
     "execution_count": 12,
     "metadata": {},
     "output_type": "execute_result"
    }
   ],
   "source": [
    "llm.invoke(\"Give me some interesting and unknown facts about cats\")"
   ]
  },
  {
   "cell_type": "code",
   "execution_count": null,
   "id": "3b88d880",
   "metadata": {
    "papermill": {
     "duration": 0.005298,
     "end_time": "2025-08-07T14:37:43.761569",
     "exception": false,
     "start_time": "2025-08-07T14:37:43.756271",
     "status": "completed"
    },
    "tags": []
   },
   "outputs": [],
   "source": []
  }
 ],
 "metadata": {
  "kaggle": {
   "accelerator": "none",
   "dataSources": [],
   "dockerImageVersionId": 31089,
   "isGpuEnabled": false,
   "isInternetEnabled": true,
   "language": "python",
   "sourceType": "notebook"
  },
  "kernelspec": {
   "display_name": "Python 3",
   "language": "python",
   "name": "python3"
  },
  "language_info": {
   "codemirror_mode": {
    "name": "ipython",
    "version": 3
   },
   "file_extension": ".py",
   "mimetype": "text/x-python",
   "name": "python",
   "nbconvert_exporter": "python",
   "pygments_lexer": "ipython3",
   "version": "3.11.13"
  },
  "papermill": {
   "default_parameters": {},
   "duration": 45.808952,
   "end_time": "2025-08-07T14:37:44.689169",
   "environment_variables": {},
   "exception": null,
   "input_path": "__notebook__.ipynb",
   "output_path": "__notebook__.ipynb",
   "parameters": {},
   "start_time": "2025-08-07T14:36:58.880217",
   "version": "2.6.0"
  }
 },
 "nbformat": 4,
 "nbformat_minor": 5
}

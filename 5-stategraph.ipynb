{
 "cells": [
  {
   "cell_type": "markdown",
   "id": "e04bf097",
   "metadata": {
    "papermill": {
     "duration": 0.00692,
     "end_time": "2025-08-11T07:18:50.929746",
     "exception": false,
     "start_time": "2025-08-11T07:18:50.922826",
     "status": "completed"
    },
    "tags": []
   },
   "source": [
    "## Basic StateGraph"
   ]
  },
  {
   "cell_type": "code",
   "execution_count": 1,
   "id": "3355a2a0",
   "metadata": {
    "execution": {
     "iopub.execute_input": "2025-08-11T07:18:50.943685Z",
     "iopub.status.busy": "2025-08-11T07:18:50.943379Z",
     "iopub.status.idle": "2025-08-11T07:18:50.951043Z",
     "shell.execute_reply": "2025-08-11T07:18:50.950199Z"
    },
    "papermill": {
     "duration": 0.016284,
     "end_time": "2025-08-11T07:18:50.952396",
     "exception": false,
     "start_time": "2025-08-11T07:18:50.936112",
     "status": "completed"
    },
    "tags": []
   },
   "outputs": [],
   "source": [
    "from typing import TypedDict"
   ]
  },
  {
   "cell_type": "code",
   "execution_count": 2,
   "id": "c763bda4",
   "metadata": {
    "execution": {
     "iopub.execute_input": "2025-08-11T07:18:50.966081Z",
     "iopub.status.busy": "2025-08-11T07:18:50.965738Z",
     "iopub.status.idle": "2025-08-11T07:18:50.969992Z",
     "shell.execute_reply": "2025-08-11T07:18:50.969330Z"
    },
    "papermill": {
     "duration": 0.012672,
     "end_time": "2025-08-11T07:18:50.971390",
     "exception": false,
     "start_time": "2025-08-11T07:18:50.958718",
     "status": "completed"
    },
    "tags": []
   },
   "outputs": [],
   "source": [
    "class SimpleState(TypedDict):\n",
    "    count: int"
   ]
  },
  {
   "cell_type": "code",
   "execution_count": 3,
   "id": "1dd20f70",
   "metadata": {
    "execution": {
     "iopub.execute_input": "2025-08-11T07:18:50.985095Z",
     "iopub.status.busy": "2025-08-11T07:18:50.984794Z",
     "iopub.status.idle": "2025-08-11T07:18:50.988873Z",
     "shell.execute_reply": "2025-08-11T07:18:50.988183Z"
    },
    "papermill": {
     "duration": 0.012652,
     "end_time": "2025-08-11T07:18:50.990128",
     "exception": false,
     "start_time": "2025-08-11T07:18:50.977476",
     "status": "completed"
    },
    "tags": []
   },
   "outputs": [],
   "source": [
    "def increment(state: SimpleState) -> SimpleState:\n",
    "    return {\n",
    "        \"count\": state[\"count\"] + 1\n",
    "    }"
   ]
  },
  {
   "cell_type": "code",
   "execution_count": 4,
   "id": "c4738fed",
   "metadata": {
    "execution": {
     "iopub.execute_input": "2025-08-11T07:18:51.004366Z",
     "iopub.status.busy": "2025-08-11T07:18:51.003641Z",
     "iopub.status.idle": "2025-08-11T07:18:58.691555Z",
     "shell.execute_reply": "2025-08-11T07:18:58.690458Z"
    },
    "papermill": {
     "duration": 7.696761,
     "end_time": "2025-08-11T07:18:58.693340",
     "exception": false,
     "start_time": "2025-08-11T07:18:50.996579",
     "status": "completed"
    },
    "tags": []
   },
   "outputs": [
    {
     "name": "stdout",
     "output_type": "stream",
     "text": [
      "Collecting langgraph\r\n",
      "  Downloading langgraph-0.6.4-py3-none-any.whl.metadata (6.8 kB)\r\n",
      "Requirement already satisfied: langchain-core>=0.1 in /usr/local/lib/python3.11/dist-packages (from langgraph) (0.3.66)\r\n",
      "Collecting langgraph-checkpoint<3.0.0,>=2.1.0 (from langgraph)\r\n",
      "  Downloading langgraph_checkpoint-2.1.1-py3-none-any.whl.metadata (4.2 kB)\r\n",
      "Collecting langgraph-prebuilt<0.7.0,>=0.6.0 (from langgraph)\r\n",
      "  Downloading langgraph_prebuilt-0.6.4-py3-none-any.whl.metadata (4.5 kB)\r\n",
      "Collecting langgraph-sdk<0.3.0,>=0.2.0 (from langgraph)\r\n",
      "  Downloading langgraph_sdk-0.2.0-py3-none-any.whl.metadata (1.5 kB)\r\n",
      "Requirement already satisfied: pydantic>=2.7.4 in /usr/local/lib/python3.11/dist-packages (from langgraph) (2.11.7)\r\n",
      "Requirement already satisfied: xxhash>=3.5.0 in /usr/local/lib/python3.11/dist-packages (from langgraph) (3.5.0)\r\n",
      "Requirement already satisfied: langsmith>=0.3.45 in /usr/local/lib/python3.11/dist-packages (from langchain-core>=0.1->langgraph) (0.4.1)\r\n",
      "Requirement already satisfied: tenacity!=8.4.0,<10.0.0,>=8.1.0 in /usr/local/lib/python3.11/dist-packages (from langchain-core>=0.1->langgraph) (8.5.0)\r\n",
      "Requirement already satisfied: jsonpatch<2.0,>=1.33 in /usr/local/lib/python3.11/dist-packages (from langchain-core>=0.1->langgraph) (1.33)\r\n",
      "Requirement already satisfied: PyYAML>=5.3 in /usr/local/lib/python3.11/dist-packages (from langchain-core>=0.1->langgraph) (6.0.2)\r\n",
      "Collecting packaging<25,>=23.2 (from langchain-core>=0.1->langgraph)\r\n",
      "  Downloading packaging-24.2-py3-none-any.whl.metadata (3.2 kB)\r\n",
      "Requirement already satisfied: typing-extensions>=4.7 in /usr/local/lib/python3.11/dist-packages (from langchain-core>=0.1->langgraph) (4.14.0)\r\n",
      "Collecting ormsgpack>=1.10.0 (from langgraph-checkpoint<3.0.0,>=2.1.0->langgraph)\r\n",
      "  Downloading ormsgpack-1.10.0-cp311-cp311-manylinux_2_17_x86_64.manylinux2014_x86_64.whl.metadata (43 kB)\r\n",
      "\u001b[2K     \u001b[90m━━━━━━━━━━━━━━━━━━━━━━━━━━━━━━━━━━━━━━━━\u001b[0m \u001b[32m43.7/43.7 kB\u001b[0m \u001b[31m1.8 MB/s\u001b[0m eta \u001b[36m0:00:00\u001b[0m\r\n",
      "\u001b[?25hCollecting langchain-core>=0.1 (from langgraph)\r\n",
      "  Downloading langchain_core-0.3.74-py3-none-any.whl.metadata (5.8 kB)\r\n",
      "Requirement already satisfied: packaging>=23.2 in /usr/local/lib/python3.11/dist-packages (from langchain-core>=0.1->langgraph) (25.0)\r\n",
      "Requirement already satisfied: httpx>=0.25.2 in /usr/local/lib/python3.11/dist-packages (from langgraph-sdk<0.3.0,>=0.2.0->langgraph) (0.28.1)\r\n",
      "Requirement already satisfied: orjson>=3.10.1 in /usr/local/lib/python3.11/dist-packages (from langgraph-sdk<0.3.0,>=0.2.0->langgraph) (3.10.18)\r\n",
      "Requirement already satisfied: annotated-types>=0.6.0 in /usr/local/lib/python3.11/dist-packages (from pydantic>=2.7.4->langgraph) (0.7.0)\r\n",
      "Requirement already satisfied: pydantic-core==2.33.2 in /usr/local/lib/python3.11/dist-packages (from pydantic>=2.7.4->langgraph) (2.33.2)\r\n",
      "Requirement already satisfied: typing-inspection>=0.4.0 in /usr/local/lib/python3.11/dist-packages (from pydantic>=2.7.4->langgraph) (0.4.1)\r\n",
      "Requirement already satisfied: anyio in /usr/local/lib/python3.11/dist-packages (from httpx>=0.25.2->langgraph-sdk<0.3.0,>=0.2.0->langgraph) (4.9.0)\r\n",
      "Requirement already satisfied: certifi in /usr/local/lib/python3.11/dist-packages (from httpx>=0.25.2->langgraph-sdk<0.3.0,>=0.2.0->langgraph) (2025.6.15)\r\n",
      "Requirement already satisfied: httpcore==1.* in /usr/local/lib/python3.11/dist-packages (from httpx>=0.25.2->langgraph-sdk<0.3.0,>=0.2.0->langgraph) (1.0.9)\r\n",
      "Requirement already satisfied: idna in /usr/local/lib/python3.11/dist-packages (from httpx>=0.25.2->langgraph-sdk<0.3.0,>=0.2.0->langgraph) (3.10)\r\n",
      "Requirement already satisfied: h11>=0.16 in /usr/local/lib/python3.11/dist-packages (from httpcore==1.*->httpx>=0.25.2->langgraph-sdk<0.3.0,>=0.2.0->langgraph) (0.16.0)\r\n",
      "Requirement already satisfied: jsonpointer>=1.9 in /usr/local/lib/python3.11/dist-packages (from jsonpatch<2.0,>=1.33->langchain-core>=0.1->langgraph) (3.0.0)\r\n",
      "Requirement already satisfied: requests<3,>=2 in /usr/local/lib/python3.11/dist-packages (from langsmith>=0.3.45->langchain-core>=0.1->langgraph) (2.32.4)\r\n",
      "Requirement already satisfied: requests-toolbelt<2.0.0,>=1.0.0 in /usr/local/lib/python3.11/dist-packages (from langsmith>=0.3.45->langchain-core>=0.1->langgraph) (1.0.0)\r\n",
      "Requirement already satisfied: zstandard<0.24.0,>=0.23.0 in /usr/local/lib/python3.11/dist-packages (from langsmith>=0.3.45->langchain-core>=0.1->langgraph) (0.23.0)\r\n",
      "Requirement already satisfied: charset_normalizer<4,>=2 in /usr/local/lib/python3.11/dist-packages (from requests<3,>=2->langsmith>=0.3.45->langchain-core>=0.1->langgraph) (3.4.2)\r\n",
      "Requirement already satisfied: urllib3<3,>=1.21.1 in /usr/local/lib/python3.11/dist-packages (from requests<3,>=2->langsmith>=0.3.45->langchain-core>=0.1->langgraph) (2.5.0)\r\n",
      "Requirement already satisfied: sniffio>=1.1 in /usr/local/lib/python3.11/dist-packages (from anyio->httpx>=0.25.2->langgraph-sdk<0.3.0,>=0.2.0->langgraph) (1.3.1)\r\n",
      "Downloading langgraph-0.6.4-py3-none-any.whl (153 kB)\r\n",
      "\u001b[2K   \u001b[90m━━━━━━━━━━━━━━━━━━━━━━━━━━━━━━━━━━━━━━━━\u001b[0m \u001b[32m153.2/153.2 kB\u001b[0m \u001b[31m5.9 MB/s\u001b[0m eta \u001b[36m0:00:00\u001b[0m\r\n",
      "\u001b[?25hDownloading langgraph_checkpoint-2.1.1-py3-none-any.whl (43 kB)\r\n",
      "\u001b[2K   \u001b[90m━━━━━━━━━━━━━━━━━━━━━━━━━━━━━━━━━━━━━━━━\u001b[0m \u001b[32m43.9/43.9 kB\u001b[0m \u001b[31m2.2 MB/s\u001b[0m eta \u001b[36m0:00:00\u001b[0m\r\n",
      "\u001b[?25hDownloading langgraph_prebuilt-0.6.4-py3-none-any.whl (28 kB)\r\n",
      "Downloading langchain_core-0.3.74-py3-none-any.whl (443 kB)\r\n",
      "\u001b[2K   \u001b[90m━━━━━━━━━━━━━━━━━━━━━━━━━━━━━━━━━━━━━━━━\u001b[0m \u001b[32m443.5/443.5 kB\u001b[0m \u001b[31m15.1 MB/s\u001b[0m eta \u001b[36m0:00:00\u001b[0m\r\n",
      "\u001b[?25hDownloading langgraph_sdk-0.2.0-py3-none-any.whl (50 kB)\r\n",
      "\u001b[2K   \u001b[90m━━━━━━━━━━━━━━━━━━━━━━━━━━━━━━━━━━━━━━━━\u001b[0m \u001b[32m50.6/50.6 kB\u001b[0m \u001b[31m2.3 MB/s\u001b[0m eta \u001b[36m0:00:00\u001b[0m\r\n",
      "\u001b[?25hDownloading ormsgpack-1.10.0-cp311-cp311-manylinux_2_17_x86_64.manylinux2014_x86_64.whl (216 kB)\r\n",
      "\u001b[2K   \u001b[90m━━━━━━━━━━━━━━━━━━━━━━━━━━━━━━━━━━━━━━━━\u001b[0m \u001b[32m216.5/216.5 kB\u001b[0m \u001b[31m9.7 MB/s\u001b[0m eta \u001b[36m0:00:00\u001b[0m\r\n",
      "\u001b[?25hInstalling collected packages: ormsgpack, langgraph-sdk, langchain-core, langgraph-checkpoint, langgraph-prebuilt, langgraph\r\n",
      "  Attempting uninstall: langchain-core\r\n",
      "    Found existing installation: langchain-core 0.3.66\r\n",
      "    Uninstalling langchain-core-0.3.66:\r\n",
      "      Successfully uninstalled langchain-core-0.3.66\r\n",
      "Successfully installed langchain-core-0.3.74 langgraph-0.6.4 langgraph-checkpoint-2.1.1 langgraph-prebuilt-0.6.4 langgraph-sdk-0.2.0 ormsgpack-1.10.0\r\n"
     ]
    }
   ],
   "source": [
    "!pip install langgraph"
   ]
  },
  {
   "cell_type": "code",
   "execution_count": 5,
   "id": "ec0091ff",
   "metadata": {
    "execution": {
     "iopub.execute_input": "2025-08-11T07:18:58.709882Z",
     "iopub.status.busy": "2025-08-11T07:18:58.709554Z",
     "iopub.status.idle": "2025-08-11T07:19:00.158064Z",
     "shell.execute_reply": "2025-08-11T07:19:00.157223Z"
    },
    "papermill": {
     "duration": 1.458772,
     "end_time": "2025-08-11T07:19:00.159775",
     "exception": false,
     "start_time": "2025-08-11T07:18:58.701003",
     "status": "completed"
    },
    "tags": []
   },
   "outputs": [],
   "source": [
    "from langgraph.graph import END, StateGraph"
   ]
  },
  {
   "cell_type": "code",
   "execution_count": 6,
   "id": "429f7d8a",
   "metadata": {
    "execution": {
     "iopub.execute_input": "2025-08-11T07:19:00.175987Z",
     "iopub.status.busy": "2025-08-11T07:19:00.175557Z",
     "iopub.status.idle": "2025-08-11T07:19:00.180809Z",
     "shell.execute_reply": "2025-08-11T07:19:00.180013Z"
    },
    "papermill": {
     "duration": 0.015068,
     "end_time": "2025-08-11T07:19:00.182452",
     "exception": false,
     "start_time": "2025-08-11T07:19:00.167384",
     "status": "completed"
    },
    "tags": []
   },
   "outputs": [],
   "source": [
    "def should_continue(state):\n",
    "    if (state[\"count\"] < 5):\n",
    "        return \"continue\"\n",
    "    else:\n",
    "        return \"stop\""
   ]
  },
  {
   "cell_type": "code",
   "execution_count": 7,
   "id": "c06f2cc2",
   "metadata": {
    "execution": {
     "iopub.execute_input": "2025-08-11T07:19:00.198073Z",
     "iopub.status.busy": "2025-08-11T07:19:00.197758Z",
     "iopub.status.idle": "2025-08-11T07:19:00.201793Z",
     "shell.execute_reply": "2025-08-11T07:19:00.201064Z"
    },
    "papermill": {
     "duration": 0.013404,
     "end_time": "2025-08-11T07:19:00.203177",
     "exception": false,
     "start_time": "2025-08-11T07:19:00.189773",
     "status": "completed"
    },
    "tags": []
   },
   "outputs": [],
   "source": [
    "graph = StateGraph(SimpleState)"
   ]
  },
  {
   "cell_type": "code",
   "execution_count": 8,
   "id": "6203e2a2",
   "metadata": {
    "execution": {
     "iopub.execute_input": "2025-08-11T07:19:00.218876Z",
     "iopub.status.busy": "2025-08-11T07:19:00.218190Z",
     "iopub.status.idle": "2025-08-11T07:19:00.225114Z",
     "shell.execute_reply": "2025-08-11T07:19:00.224343Z"
    },
    "papermill": {
     "duration": 0.016043,
     "end_time": "2025-08-11T07:19:00.226523",
     "exception": false,
     "start_time": "2025-08-11T07:19:00.210480",
     "status": "completed"
    },
    "tags": []
   },
   "outputs": [
    {
     "data": {
      "text/plain": [
       "<langgraph.graph.state.StateGraph at 0x7be4917b10d0>"
      ]
     },
     "execution_count": 8,
     "metadata": {},
     "output_type": "execute_result"
    }
   ],
   "source": [
    "graph.add_node(\"increment\", increment)"
   ]
  },
  {
   "cell_type": "code",
   "execution_count": 9,
   "id": "768fcb9f",
   "metadata": {
    "execution": {
     "iopub.execute_input": "2025-08-11T07:19:00.242363Z",
     "iopub.status.busy": "2025-08-11T07:19:00.242010Z",
     "iopub.status.idle": "2025-08-11T07:19:00.248233Z",
     "shell.execute_reply": "2025-08-11T07:19:00.247344Z"
    },
    "papermill": {
     "duration": 0.015848,
     "end_time": "2025-08-11T07:19:00.249743",
     "exception": false,
     "start_time": "2025-08-11T07:19:00.233895",
     "status": "completed"
    },
    "tags": []
   },
   "outputs": [
    {
     "data": {
      "text/plain": [
       "<langgraph.graph.state.StateGraph at 0x7be4917b10d0>"
      ]
     },
     "execution_count": 9,
     "metadata": {},
     "output_type": "execute_result"
    }
   ],
   "source": [
    "graph.add_conditional_edges(\"increment\", should_continue, {\n",
    "    \"continue\": \"increment\",\n",
    "    \"stop\": END\n",
    "})"
   ]
  },
  {
   "cell_type": "code",
   "execution_count": 10,
   "id": "df7a9b26",
   "metadata": {
    "execution": {
     "iopub.execute_input": "2025-08-11T07:19:00.266093Z",
     "iopub.status.busy": "2025-08-11T07:19:00.265808Z",
     "iopub.status.idle": "2025-08-11T07:19:00.271720Z",
     "shell.execute_reply": "2025-08-11T07:19:00.270778Z"
    },
    "papermill": {
     "duration": 0.015545,
     "end_time": "2025-08-11T07:19:00.273221",
     "exception": false,
     "start_time": "2025-08-11T07:19:00.257676",
     "status": "completed"
    },
    "tags": []
   },
   "outputs": [
    {
     "data": {
      "text/plain": [
       "<langgraph.graph.state.StateGraph at 0x7be4917b10d0>"
      ]
     },
     "execution_count": 10,
     "metadata": {},
     "output_type": "execute_result"
    }
   ],
   "source": [
    "graph.set_entry_point(\"increment\")"
   ]
  },
  {
   "cell_type": "code",
   "execution_count": 11,
   "id": "69e35b74",
   "metadata": {
    "execution": {
     "iopub.execute_input": "2025-08-11T07:19:00.289505Z",
     "iopub.status.busy": "2025-08-11T07:19:00.289158Z",
     "iopub.status.idle": "2025-08-11T07:19:00.295158Z",
     "shell.execute_reply": "2025-08-11T07:19:00.294236Z"
    },
    "papermill": {
     "duration": 0.015993,
     "end_time": "2025-08-11T07:19:00.296825",
     "exception": false,
     "start_time": "2025-08-11T07:19:00.280832",
     "status": "completed"
    },
    "tags": []
   },
   "outputs": [],
   "source": [
    "app = graph.compile()"
   ]
  },
  {
   "cell_type": "code",
   "execution_count": 12,
   "id": "1dccee53",
   "metadata": {
    "execution": {
     "iopub.execute_input": "2025-08-11T07:19:00.313111Z",
     "iopub.status.busy": "2025-08-11T07:19:00.312771Z",
     "iopub.status.idle": "2025-08-11T07:19:00.316766Z",
     "shell.execute_reply": "2025-08-11T07:19:00.316041Z"
    },
    "papermill": {
     "duration": 0.013939,
     "end_time": "2025-08-11T07:19:00.318222",
     "exception": false,
     "start_time": "2025-08-11T07:19:00.304283",
     "status": "completed"
    },
    "tags": []
   },
   "outputs": [],
   "source": [
    "state = {\n",
    "    \"count\": 0\n",
    "}"
   ]
  },
  {
   "cell_type": "code",
   "execution_count": 13,
   "id": "0912d576",
   "metadata": {
    "execution": {
     "iopub.execute_input": "2025-08-11T07:19:00.335037Z",
     "iopub.status.busy": "2025-08-11T07:19:00.334160Z",
     "iopub.status.idle": "2025-08-11T07:19:00.358573Z",
     "shell.execute_reply": "2025-08-11T07:19:00.357575Z"
    },
    "papermill": {
     "duration": 0.034107,
     "end_time": "2025-08-11T07:19:00.360141",
     "exception": false,
     "start_time": "2025-08-11T07:19:00.326034",
     "status": "completed"
    },
    "tags": []
   },
   "outputs": [],
   "source": [
    "result = app.invoke(state)"
   ]
  },
  {
   "cell_type": "code",
   "execution_count": 14,
   "id": "ff8cde47",
   "metadata": {
    "execution": {
     "iopub.execute_input": "2025-08-11T07:19:00.376327Z",
     "iopub.status.busy": "2025-08-11T07:19:00.375985Z",
     "iopub.status.idle": "2025-08-11T07:19:00.380968Z",
     "shell.execute_reply": "2025-08-11T07:19:00.379952Z"
    },
    "papermill": {
     "duration": 0.014575,
     "end_time": "2025-08-11T07:19:00.382418",
     "exception": false,
     "start_time": "2025-08-11T07:19:00.367843",
     "status": "completed"
    },
    "tags": []
   },
   "outputs": [
    {
     "name": "stdout",
     "output_type": "stream",
     "text": [
      "{'count': 5}\n"
     ]
    }
   ],
   "source": [
    "print(result)"
   ]
  },
  {
   "cell_type": "markdown",
   "id": "160cc4a6",
   "metadata": {
    "papermill": {
     "duration": 0.006986,
     "end_time": "2025-08-11T07:19:00.397101",
     "exception": false,
     "start_time": "2025-08-11T07:19:00.390115",
     "status": "completed"
    },
    "tags": []
   },
   "source": [
    "## Complex StateGraph"
   ]
  },
  {
   "cell_type": "code",
   "execution_count": 15,
   "id": "659b0084",
   "metadata": {
    "execution": {
     "iopub.execute_input": "2025-08-11T07:19:00.413009Z",
     "iopub.status.busy": "2025-08-11T07:19:00.412699Z",
     "iopub.status.idle": "2025-08-11T07:19:00.417099Z",
     "shell.execute_reply": "2025-08-11T07:19:00.416129Z"
    },
    "papermill": {
     "duration": 0.014302,
     "end_time": "2025-08-11T07:19:00.418715",
     "exception": false,
     "start_time": "2025-08-11T07:19:00.404413",
     "status": "completed"
    },
    "tags": []
   },
   "outputs": [],
   "source": [
    "from typing import TypedDict, List\n",
    "from langgraph.graph import END, StateGraph"
   ]
  },
  {
   "cell_type": "code",
   "execution_count": 16,
   "id": "23aa3cd6",
   "metadata": {
    "execution": {
     "iopub.execute_input": "2025-08-11T07:19:00.435034Z",
     "iopub.status.busy": "2025-08-11T07:19:00.434716Z",
     "iopub.status.idle": "2025-08-11T07:19:00.439134Z",
     "shell.execute_reply": "2025-08-11T07:19:00.438206Z"
    },
    "papermill": {
     "duration": 0.014203,
     "end_time": "2025-08-11T07:19:00.440556",
     "exception": false,
     "start_time": "2025-08-11T07:19:00.426353",
     "status": "completed"
    },
    "tags": []
   },
   "outputs": [],
   "source": [
    "class ComplexState(TypedDict):\n",
    "    count: int\n",
    "    sum: int\n",
    "    history: List[int]"
   ]
  },
  {
   "cell_type": "code",
   "execution_count": 17,
   "id": "f715c9df",
   "metadata": {
    "execution": {
     "iopub.execute_input": "2025-08-11T07:19:00.456838Z",
     "iopub.status.busy": "2025-08-11T07:19:00.456521Z",
     "iopub.status.idle": "2025-08-11T07:19:00.461317Z",
     "shell.execute_reply": "2025-08-11T07:19:00.460547Z"
    },
    "papermill": {
     "duration": 0.014495,
     "end_time": "2025-08-11T07:19:00.462743",
     "exception": false,
     "start_time": "2025-08-11T07:19:00.448248",
     "status": "completed"
    },
    "tags": []
   },
   "outputs": [],
   "source": [
    "def increment(state: ComplexState) -> ComplexState:\n",
    "    new_count = state[\"count\"] + 1\n",
    "    return {\n",
    "        \"count\": new_count,\n",
    "        \"sum\": state[\"sum\"] + new_count,\n",
    "        \"history\": state[\"history\"] + [new_count]\n",
    "    }"
   ]
  },
  {
   "cell_type": "code",
   "execution_count": 18,
   "id": "610ebb0e",
   "metadata": {
    "execution": {
     "iopub.execute_input": "2025-08-11T07:19:00.480726Z",
     "iopub.status.busy": "2025-08-11T07:19:00.480428Z",
     "iopub.status.idle": "2025-08-11T07:19:00.484511Z",
     "shell.execute_reply": "2025-08-11T07:19:00.483790Z"
    },
    "papermill": {
     "duration": 0.013914,
     "end_time": "2025-08-11T07:19:00.485821",
     "exception": false,
     "start_time": "2025-08-11T07:19:00.471907",
     "status": "completed"
    },
    "tags": []
   },
   "outputs": [],
   "source": [
    "graph = StateGraph(ComplexState)"
   ]
  },
  {
   "cell_type": "code",
   "execution_count": 19,
   "id": "b8df1758",
   "metadata": {
    "execution": {
     "iopub.execute_input": "2025-08-11T07:19:00.502400Z",
     "iopub.status.busy": "2025-08-11T07:19:00.502037Z",
     "iopub.status.idle": "2025-08-11T07:19:00.508064Z",
     "shell.execute_reply": "2025-08-11T07:19:00.507144Z"
    },
    "papermill": {
     "duration": 0.01583,
     "end_time": "2025-08-11T07:19:00.509495",
     "exception": false,
     "start_time": "2025-08-11T07:19:00.493665",
     "status": "completed"
    },
    "tags": []
   },
   "outputs": [
    {
     "data": {
      "text/plain": [
       "<langgraph.graph.state.StateGraph at 0x7be4917e08d0>"
      ]
     },
     "execution_count": 19,
     "metadata": {},
     "output_type": "execute_result"
    }
   ],
   "source": [
    "graph.add_node(\"increment\", increment)"
   ]
  },
  {
   "cell_type": "code",
   "execution_count": 20,
   "id": "f796485d",
   "metadata": {
    "execution": {
     "iopub.execute_input": "2025-08-11T07:19:00.526344Z",
     "iopub.status.busy": "2025-08-11T07:19:00.525196Z",
     "iopub.status.idle": "2025-08-11T07:19:00.531122Z",
     "shell.execute_reply": "2025-08-11T07:19:00.530234Z"
    },
    "papermill": {
     "duration": 0.015525,
     "end_time": "2025-08-11T07:19:00.532514",
     "exception": false,
     "start_time": "2025-08-11T07:19:00.516989",
     "status": "completed"
    },
    "tags": []
   },
   "outputs": [
    {
     "data": {
      "text/plain": [
       "<langgraph.graph.state.StateGraph at 0x7be4917e08d0>"
      ]
     },
     "execution_count": 20,
     "metadata": {},
     "output_type": "execute_result"
    }
   ],
   "source": [
    "graph.set_entry_point(\"increment\")"
   ]
  },
  {
   "cell_type": "code",
   "execution_count": 21,
   "id": "8f083a84",
   "metadata": {
    "execution": {
     "iopub.execute_input": "2025-08-11T07:19:00.548831Z",
     "iopub.status.busy": "2025-08-11T07:19:00.548546Z",
     "iopub.status.idle": "2025-08-11T07:19:00.554374Z",
     "shell.execute_reply": "2025-08-11T07:19:00.553476Z"
    },
    "papermill": {
     "duration": 0.015688,
     "end_time": "2025-08-11T07:19:00.555833",
     "exception": false,
     "start_time": "2025-08-11T07:19:00.540145",
     "status": "completed"
    },
    "tags": []
   },
   "outputs": [
    {
     "data": {
      "text/plain": [
       "<langgraph.graph.state.StateGraph at 0x7be4917e08d0>"
      ]
     },
     "execution_count": 21,
     "metadata": {},
     "output_type": "execute_result"
    }
   ],
   "source": [
    "graph.add_conditional_edges(\n",
    "    \"increment\",\n",
    "    should_continue,\n",
    "    {\n",
    "        \"continue\": \"increment\",\n",
    "        \"stop\": END,\n",
    "    }\n",
    ")"
   ]
  },
  {
   "cell_type": "code",
   "execution_count": 22,
   "id": "cc4c2013",
   "metadata": {
    "execution": {
     "iopub.execute_input": "2025-08-11T07:19:00.572690Z",
     "iopub.status.busy": "2025-08-11T07:19:00.572134Z",
     "iopub.status.idle": "2025-08-11T07:19:00.577389Z",
     "shell.execute_reply": "2025-08-11T07:19:00.576493Z"
    },
    "papermill": {
     "duration": 0.01519,
     "end_time": "2025-08-11T07:19:00.578835",
     "exception": false,
     "start_time": "2025-08-11T07:19:00.563645",
     "status": "completed"
    },
    "tags": []
   },
   "outputs": [],
   "source": [
    "app = graph.compile()"
   ]
  },
  {
   "cell_type": "code",
   "execution_count": 23,
   "id": "9771acc1",
   "metadata": {
    "execution": {
     "iopub.execute_input": "2025-08-11T07:19:00.659964Z",
     "iopub.status.busy": "2025-08-11T07:19:00.659668Z",
     "iopub.status.idle": "2025-08-11T07:19:00.663955Z",
     "shell.execute_reply": "2025-08-11T07:19:00.663321Z"
    },
    "papermill": {
     "duration": 0.014353,
     "end_time": "2025-08-11T07:19:00.665350",
     "exception": false,
     "start_time": "2025-08-11T07:19:00.650997",
     "status": "completed"
    },
    "tags": []
   },
   "outputs": [],
   "source": [
    "state = {\n",
    "    \"count\" : 0,\n",
    "    \"sum\": 0,\n",
    "    \"history\": []\n",
    "}"
   ]
  },
  {
   "cell_type": "code",
   "execution_count": 24,
   "id": "56bda3e2",
   "metadata": {
    "execution": {
     "iopub.execute_input": "2025-08-11T07:19:00.682069Z",
     "iopub.status.busy": "2025-08-11T07:19:00.681735Z",
     "iopub.status.idle": "2025-08-11T07:19:00.689046Z",
     "shell.execute_reply": "2025-08-11T07:19:00.688170Z"
    },
    "papermill": {
     "duration": 0.017607,
     "end_time": "2025-08-11T07:19:00.690669",
     "exception": false,
     "start_time": "2025-08-11T07:19:00.673062",
     "status": "completed"
    },
    "tags": []
   },
   "outputs": [],
   "source": [
    "result = app.invoke(state)"
   ]
  },
  {
   "cell_type": "code",
   "execution_count": 25,
   "id": "6463254a",
   "metadata": {
    "execution": {
     "iopub.execute_input": "2025-08-11T07:19:00.708029Z",
     "iopub.status.busy": "2025-08-11T07:19:00.707106Z",
     "iopub.status.idle": "2025-08-11T07:19:00.712144Z",
     "shell.execute_reply": "2025-08-11T07:19:00.711293Z"
    },
    "papermill": {
     "duration": 0.014928,
     "end_time": "2025-08-11T07:19:00.713564",
     "exception": false,
     "start_time": "2025-08-11T07:19:00.698636",
     "status": "completed"
    },
    "tags": []
   },
   "outputs": [
    {
     "name": "stdout",
     "output_type": "stream",
     "text": [
      "{'count': 5, 'sum': 15, 'history': [1, 2, 3, 4, 5]}\n"
     ]
    }
   ],
   "source": [
    "print(result)"
   ]
  },
  {
   "cell_type": "markdown",
   "id": "89437045",
   "metadata": {
    "papermill": {
     "duration": 0.007652,
     "end_time": "2025-08-11T07:19:00.729323",
     "exception": false,
     "start_time": "2025-08-11T07:19:00.721671",
     "status": "completed"
    },
    "tags": []
   },
   "source": [
    "## Annotated StateGraph"
   ]
  },
  {
   "cell_type": "code",
   "execution_count": 26,
   "id": "b0db41d3",
   "metadata": {
    "execution": {
     "iopub.execute_input": "2025-08-11T07:19:00.746035Z",
     "iopub.status.busy": "2025-08-11T07:19:00.745740Z",
     "iopub.status.idle": "2025-08-11T07:19:00.749785Z",
     "shell.execute_reply": "2025-08-11T07:19:00.748932Z"
    },
    "papermill": {
     "duration": 0.014207,
     "end_time": "2025-08-11T07:19:00.751169",
     "exception": false,
     "start_time": "2025-08-11T07:19:00.736962",
     "status": "completed"
    },
    "tags": []
   },
   "outputs": [],
   "source": [
    "from typing import Annotated\n",
    "import operator"
   ]
  },
  {
   "cell_type": "code",
   "execution_count": 27,
   "id": "8030f293",
   "metadata": {
    "execution": {
     "iopub.execute_input": "2025-08-11T07:19:00.767926Z",
     "iopub.status.busy": "2025-08-11T07:19:00.767639Z",
     "iopub.status.idle": "2025-08-11T07:19:00.772214Z",
     "shell.execute_reply": "2025-08-11T07:19:00.771526Z"
    },
    "papermill": {
     "duration": 0.014491,
     "end_time": "2025-08-11T07:19:00.773591",
     "exception": false,
     "start_time": "2025-08-11T07:19:00.759100",
     "status": "completed"
    },
    "tags": []
   },
   "outputs": [],
   "source": [
    "class AnnotatedState(TypedDict):\n",
    "    count: int\n",
    "    sum: Annotated[int, operator.add]\n",
    "    history: Annotated[List[int], operator.concat]"
   ]
  },
  {
   "cell_type": "code",
   "execution_count": 28,
   "id": "e95f182c",
   "metadata": {
    "execution": {
     "iopub.execute_input": "2025-08-11T07:19:00.791208Z",
     "iopub.status.busy": "2025-08-11T07:19:00.790765Z",
     "iopub.status.idle": "2025-08-11T07:19:00.795308Z",
     "shell.execute_reply": "2025-08-11T07:19:00.794439Z"
    },
    "papermill": {
     "duration": 0.014876,
     "end_time": "2025-08-11T07:19:00.796744",
     "exception": false,
     "start_time": "2025-08-11T07:19:00.781868",
     "status": "completed"
    },
    "tags": []
   },
   "outputs": [],
   "source": [
    "def increment(state: AnnotatedState) -> AnnotatedState:\n",
    "    new_count = state['count'] + 1\n",
    "    return {\n",
    "        \"count\" : new_count,\n",
    "        \"sum\": new_count,\n",
    "        \"history\": [new_count]\n",
    "    }"
   ]
  },
  {
   "cell_type": "code",
   "execution_count": 29,
   "id": "adce4890",
   "metadata": {
    "execution": {
     "iopub.execute_input": "2025-08-11T07:19:00.813787Z",
     "iopub.status.busy": "2025-08-11T07:19:00.813496Z",
     "iopub.status.idle": "2025-08-11T07:19:00.818459Z",
     "shell.execute_reply": "2025-08-11T07:19:00.817732Z"
    },
    "papermill": {
     "duration": 0.015178,
     "end_time": "2025-08-11T07:19:00.819889",
     "exception": false,
     "start_time": "2025-08-11T07:19:00.804711",
     "status": "completed"
    },
    "tags": []
   },
   "outputs": [],
   "source": [
    "graph = StateGraph(AnnotatedState)"
   ]
  },
  {
   "cell_type": "code",
   "execution_count": 30,
   "id": "77c0ef7f",
   "metadata": {
    "execution": {
     "iopub.execute_input": "2025-08-11T07:19:00.837307Z",
     "iopub.status.busy": "2025-08-11T07:19:00.836989Z",
     "iopub.status.idle": "2025-08-11T07:19:00.843179Z",
     "shell.execute_reply": "2025-08-11T07:19:00.842305Z"
    },
    "papermill": {
     "duration": 0.016693,
     "end_time": "2025-08-11T07:19:00.844742",
     "exception": false,
     "start_time": "2025-08-11T07:19:00.828049",
     "status": "completed"
    },
    "tags": []
   },
   "outputs": [
    {
     "data": {
      "text/plain": [
       "<langgraph.graph.state.StateGraph at 0x7be4917d0fd0>"
      ]
     },
     "execution_count": 30,
     "metadata": {},
     "output_type": "execute_result"
    }
   ],
   "source": [
    "graph.add_node(\"increment\", increment)"
   ]
  },
  {
   "cell_type": "code",
   "execution_count": 31,
   "id": "53510a56",
   "metadata": {
    "execution": {
     "iopub.execute_input": "2025-08-11T07:19:00.862809Z",
     "iopub.status.busy": "2025-08-11T07:19:00.861857Z",
     "iopub.status.idle": "2025-08-11T07:19:00.867544Z",
     "shell.execute_reply": "2025-08-11T07:19:00.866811Z"
    },
    "papermill": {
     "duration": 0.016047,
     "end_time": "2025-08-11T07:19:00.868829",
     "exception": false,
     "start_time": "2025-08-11T07:19:00.852782",
     "status": "completed"
    },
    "tags": []
   },
   "outputs": [
    {
     "data": {
      "text/plain": [
       "<langgraph.graph.state.StateGraph at 0x7be4917d0fd0>"
      ]
     },
     "execution_count": 31,
     "metadata": {},
     "output_type": "execute_result"
    }
   ],
   "source": [
    "graph.set_entry_point(\"increment\")"
   ]
  },
  {
   "cell_type": "code",
   "execution_count": 32,
   "id": "09e075f1",
   "metadata": {
    "execution": {
     "iopub.execute_input": "2025-08-11T07:19:00.886033Z",
     "iopub.status.busy": "2025-08-11T07:19:00.885733Z",
     "iopub.status.idle": "2025-08-11T07:19:00.891494Z",
     "shell.execute_reply": "2025-08-11T07:19:00.890671Z"
    },
    "papermill": {
     "duration": 0.016132,
     "end_time": "2025-08-11T07:19:00.892907",
     "exception": false,
     "start_time": "2025-08-11T07:19:00.876775",
     "status": "completed"
    },
    "tags": []
   },
   "outputs": [
    {
     "data": {
      "text/plain": [
       "<langgraph.graph.state.StateGraph at 0x7be4917d0fd0>"
      ]
     },
     "execution_count": 32,
     "metadata": {},
     "output_type": "execute_result"
    }
   ],
   "source": [
    "graph.add_conditional_edges(\n",
    "    \"increment\",\n",
    "    should_continue,\n",
    "    {\n",
    "        \"continue\": \"increment\",\n",
    "        \"stop\": END,\n",
    "    }\n",
    ")"
   ]
  },
  {
   "cell_type": "code",
   "execution_count": 33,
   "id": "77511c16",
   "metadata": {
    "execution": {
     "iopub.execute_input": "2025-08-11T07:19:00.910633Z",
     "iopub.status.busy": "2025-08-11T07:19:00.910306Z",
     "iopub.status.idle": "2025-08-11T07:19:00.915536Z",
     "shell.execute_reply": "2025-08-11T07:19:00.914635Z"
    },
    "papermill": {
     "duration": 0.015536,
     "end_time": "2025-08-11T07:19:00.916936",
     "exception": false,
     "start_time": "2025-08-11T07:19:00.901400",
     "status": "completed"
    },
    "tags": []
   },
   "outputs": [],
   "source": [
    "app = graph.compile()"
   ]
  },
  {
   "cell_type": "code",
   "execution_count": 34,
   "id": "9f2d9d87",
   "metadata": {
    "execution": {
     "iopub.execute_input": "2025-08-11T07:19:00.934165Z",
     "iopub.status.busy": "2025-08-11T07:19:00.933881Z",
     "iopub.status.idle": "2025-08-11T07:19:00.938150Z",
     "shell.execute_reply": "2025-08-11T07:19:00.937354Z"
    },
    "papermill": {
     "duration": 0.014755,
     "end_time": "2025-08-11T07:19:00.939755",
     "exception": false,
     "start_time": "2025-08-11T07:19:00.925000",
     "status": "completed"
    },
    "tags": []
   },
   "outputs": [],
   "source": [
    "state = {\n",
    "    \"count\": 0,\n",
    "    \"sum\": 0,\n",
    "    \"history\": []\n",
    "}"
   ]
  },
  {
   "cell_type": "code",
   "execution_count": 35,
   "id": "49831972",
   "metadata": {
    "execution": {
     "iopub.execute_input": "2025-08-11T07:19:00.957321Z",
     "iopub.status.busy": "2025-08-11T07:19:00.956957Z",
     "iopub.status.idle": "2025-08-11T07:19:00.964146Z",
     "shell.execute_reply": "2025-08-11T07:19:00.963418Z"
    },
    "papermill": {
     "duration": 0.017683,
     "end_time": "2025-08-11T07:19:00.965628",
     "exception": false,
     "start_time": "2025-08-11T07:19:00.947945",
     "status": "completed"
    },
    "tags": []
   },
   "outputs": [],
   "source": [
    "result = app.invoke(state)"
   ]
  },
  {
   "cell_type": "code",
   "execution_count": 36,
   "id": "68d42424",
   "metadata": {
    "execution": {
     "iopub.execute_input": "2025-08-11T07:19:00.983218Z",
     "iopub.status.busy": "2025-08-11T07:19:00.982833Z",
     "iopub.status.idle": "2025-08-11T07:19:00.987522Z",
     "shell.execute_reply": "2025-08-11T07:19:00.986539Z"
    },
    "papermill": {
     "duration": 0.01498,
     "end_time": "2025-08-11T07:19:00.988988",
     "exception": false,
     "start_time": "2025-08-11T07:19:00.974008",
     "status": "completed"
    },
    "tags": []
   },
   "outputs": [
    {
     "name": "stdout",
     "output_type": "stream",
     "text": [
      "{'count': 5, 'sum': 15, 'history': [1, 2, 3, 4, 5]}\n"
     ]
    }
   ],
   "source": [
    "print(result)"
   ]
  },
  {
   "cell_type": "code",
   "execution_count": null,
   "id": "0e6d58ea",
   "metadata": {
    "papermill": {
     "duration": 0.007948,
     "end_time": "2025-08-11T07:19:01.005242",
     "exception": false,
     "start_time": "2025-08-11T07:19:00.997294",
     "status": "completed"
    },
    "tags": []
   },
   "outputs": [],
   "source": []
  }
 ],
 "metadata": {
  "kaggle": {
   "accelerator": "none",
   "dataSources": [],
   "dockerImageVersionId": 31089,
   "isGpuEnabled": false,
   "isInternetEnabled": true,
   "language": "python",
   "sourceType": "notebook"
  },
  "kernelspec": {
   "display_name": "Python 3",
   "language": "python",
   "name": "python3"
  },
  "language_info": {
   "codemirror_mode": {
    "name": "ipython",
    "version": 3
   },
   "file_extension": ".py",
   "mimetype": "text/x-python",
   "name": "python",
   "nbconvert_exporter": "python",
   "pygments_lexer": "ipython3",
   "version": "3.11.13"
  },
  "papermill": {
   "default_parameters": {},
   "duration": 15.517749,
   "end_time": "2025-08-11T07:19:01.632470",
   "environment_variables": {},
   "exception": null,
   "input_path": "__notebook__.ipynb",
   "output_path": "__notebook__.ipynb",
   "parameters": {},
   "start_time": "2025-08-11T07:18:46.114721",
   "version": "2.6.0"
  }
 },
 "nbformat": 4,
 "nbformat_minor": 5
}

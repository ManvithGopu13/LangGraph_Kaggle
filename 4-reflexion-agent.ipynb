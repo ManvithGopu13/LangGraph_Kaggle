{
 "cells": [
  {
   "cell_type": "code",
   "execution_count": 1,
   "id": "fbb50d2c",
   "metadata": {
    "execution": {
     "iopub.execute_input": "2025-08-11T06:24:53.956523Z",
     "iopub.status.busy": "2025-08-11T06:24:53.956221Z",
     "iopub.status.idle": "2025-08-11T06:25:02.149994Z",
     "shell.execute_reply": "2025-08-11T06:25:02.149018Z"
    },
    "papermill": {
     "duration": 8.204431,
     "end_time": "2025-08-11T06:25:02.151783",
     "exception": false,
     "start_time": "2025-08-11T06:24:53.947352",
     "status": "completed"
    },
    "tags": []
   },
   "outputs": [
    {
     "name": "stdout",
     "output_type": "stream",
     "text": [
      "Collecting langchain-nvidia-ai-endpoints\r\n",
      "  Downloading langchain_nvidia_ai_endpoints-0.3.16-py3-none-any.whl.metadata (11 kB)\r\n",
      "Requirement already satisfied: langchain in /usr/local/lib/python3.11/dist-packages (0.3.26)\r\n",
      "Collecting langchain-community\r\n",
      "  Downloading langchain_community-0.3.27-py3-none-any.whl.metadata (2.9 kB)\r\n",
      "Requirement already satisfied: aiohttp<4.0.0,>=3.9.1 in /usr/local/lib/python3.11/dist-packages (from langchain-nvidia-ai-endpoints) (3.12.13)\r\n",
      "Collecting filetype<2.0.0,>=1.2.0 (from langchain-nvidia-ai-endpoints)\r\n",
      "  Downloading filetype-1.2.0-py2.py3-none-any.whl.metadata (6.5 kB)\r\n",
      "Requirement already satisfied: langchain-core<0.4,>=0.3.51 in /usr/local/lib/python3.11/dist-packages (from langchain-nvidia-ai-endpoints) (0.3.66)\r\n",
      "Requirement already satisfied: langchain-text-splitters<1.0.0,>=0.3.8 in /usr/local/lib/python3.11/dist-packages (from langchain) (0.3.8)\r\n",
      "Requirement already satisfied: langsmith>=0.1.17 in /usr/local/lib/python3.11/dist-packages (from langchain) (0.4.1)\r\n",
      "Requirement already satisfied: pydantic<3.0.0,>=2.7.4 in /usr/local/lib/python3.11/dist-packages (from langchain) (2.11.7)\r\n",
      "Requirement already satisfied: SQLAlchemy<3,>=1.4 in /usr/local/lib/python3.11/dist-packages (from langchain) (2.0.41)\r\n",
      "Requirement already satisfied: requests<3,>=2 in /usr/local/lib/python3.11/dist-packages (from langchain) (2.32.4)\r\n",
      "Requirement already satisfied: PyYAML>=5.3 in /usr/local/lib/python3.11/dist-packages (from langchain) (6.0.2)\r\n",
      "Requirement already satisfied: tenacity!=8.4.0,<10,>=8.1.0 in /usr/local/lib/python3.11/dist-packages (from langchain-community) (8.5.0)\r\n",
      "Requirement already satisfied: dataclasses-json<0.7,>=0.5.7 in /usr/local/lib/python3.11/dist-packages (from langchain-community) (0.6.7)\r\n",
      "Collecting pydantic-settings<3.0.0,>=2.4.0 (from langchain-community)\r\n",
      "  Downloading pydantic_settings-2.10.1-py3-none-any.whl.metadata (3.4 kB)\r\n",
      "Collecting httpx-sse<1.0.0,>=0.4.0 (from langchain-community)\r\n",
      "  Downloading httpx_sse-0.4.1-py3-none-any.whl.metadata (9.4 kB)\r\n",
      "Requirement already satisfied: numpy>=1.26.2 in /usr/local/lib/python3.11/dist-packages (from langchain-community) (1.26.4)\r\n",
      "Requirement already satisfied: aiohappyeyeballs>=2.5.0 in /usr/local/lib/python3.11/dist-packages (from aiohttp<4.0.0,>=3.9.1->langchain-nvidia-ai-endpoints) (2.6.1)\r\n",
      "Requirement already satisfied: aiosignal>=1.1.2 in /usr/local/lib/python3.11/dist-packages (from aiohttp<4.0.0,>=3.9.1->langchain-nvidia-ai-endpoints) (1.3.2)\r\n",
      "Requirement already satisfied: attrs>=17.3.0 in /usr/local/lib/python3.11/dist-packages (from aiohttp<4.0.0,>=3.9.1->langchain-nvidia-ai-endpoints) (25.3.0)\r\n",
      "Requirement already satisfied: frozenlist>=1.1.1 in /usr/local/lib/python3.11/dist-packages (from aiohttp<4.0.0,>=3.9.1->langchain-nvidia-ai-endpoints) (1.7.0)\r\n",
      "Requirement already satisfied: multidict<7.0,>=4.5 in /usr/local/lib/python3.11/dist-packages (from aiohttp<4.0.0,>=3.9.1->langchain-nvidia-ai-endpoints) (6.6.3)\r\n",
      "Requirement already satisfied: propcache>=0.2.0 in /usr/local/lib/python3.11/dist-packages (from aiohttp<4.0.0,>=3.9.1->langchain-nvidia-ai-endpoints) (0.3.2)\r\n",
      "Requirement already satisfied: yarl<2.0,>=1.17.0 in /usr/local/lib/python3.11/dist-packages (from aiohttp<4.0.0,>=3.9.1->langchain-nvidia-ai-endpoints) (1.20.1)\r\n",
      "Requirement already satisfied: marshmallow<4.0.0,>=3.18.0 in /usr/local/lib/python3.11/dist-packages (from dataclasses-json<0.7,>=0.5.7->langchain-community) (3.26.1)\r\n",
      "Requirement already satisfied: typing-inspect<1,>=0.4.0 in /usr/local/lib/python3.11/dist-packages (from dataclasses-json<0.7,>=0.5.7->langchain-community) (0.9.0)\r\n",
      "Requirement already satisfied: jsonpatch<2.0,>=1.33 in /usr/local/lib/python3.11/dist-packages (from langchain-core<0.4,>=0.3.51->langchain-nvidia-ai-endpoints) (1.33)\r\n",
      "Collecting packaging<25,>=23.2 (from langchain-core<0.4,>=0.3.51->langchain-nvidia-ai-endpoints)\r\n",
      "  Downloading packaging-24.2-py3-none-any.whl.metadata (3.2 kB)\r\n",
      "Requirement already satisfied: typing-extensions>=4.7 in /usr/local/lib/python3.11/dist-packages (from langchain-core<0.4,>=0.3.51->langchain-nvidia-ai-endpoints) (4.14.0)\r\n",
      "Requirement already satisfied: httpx<1,>=0.23.0 in /usr/local/lib/python3.11/dist-packages (from langsmith>=0.1.17->langchain) (0.28.1)\r\n",
      "Requirement already satisfied: orjson<4.0.0,>=3.9.14 in /usr/local/lib/python3.11/dist-packages (from langsmith>=0.1.17->langchain) (3.10.18)\r\n",
      "Requirement already satisfied: requests-toolbelt<2.0.0,>=1.0.0 in /usr/local/lib/python3.11/dist-packages (from langsmith>=0.1.17->langchain) (1.0.0)\r\n",
      "Requirement already satisfied: zstandard<0.24.0,>=0.23.0 in /usr/local/lib/python3.11/dist-packages (from langsmith>=0.1.17->langchain) (0.23.0)\r\n",
      "Requirement already satisfied: mkl_fft in /usr/local/lib/python3.11/dist-packages (from numpy>=1.26.2->langchain-community) (1.3.8)\r\n",
      "Requirement already satisfied: mkl_random in /usr/local/lib/python3.11/dist-packages (from numpy>=1.26.2->langchain-community) (1.2.4)\r\n",
      "Requirement already satisfied: mkl_umath in /usr/local/lib/python3.11/dist-packages (from numpy>=1.26.2->langchain-community) (0.1.1)\r\n",
      "Requirement already satisfied: mkl in /usr/local/lib/python3.11/dist-packages (from numpy>=1.26.2->langchain-community) (2025.2.0)\r\n",
      "Requirement already satisfied: tbb4py in /usr/local/lib/python3.11/dist-packages (from numpy>=1.26.2->langchain-community) (2022.2.0)\r\n",
      "Requirement already satisfied: mkl-service in /usr/local/lib/python3.11/dist-packages (from numpy>=1.26.2->langchain-community) (2.4.1)\r\n",
      "Requirement already satisfied: annotated-types>=0.6.0 in /usr/local/lib/python3.11/dist-packages (from pydantic<3.0.0,>=2.7.4->langchain) (0.7.0)\r\n",
      "Requirement already satisfied: pydantic-core==2.33.2 in /usr/local/lib/python3.11/dist-packages (from pydantic<3.0.0,>=2.7.4->langchain) (2.33.2)\r\n",
      "Requirement already satisfied: typing-inspection>=0.4.0 in /usr/local/lib/python3.11/dist-packages (from pydantic<3.0.0,>=2.7.4->langchain) (0.4.1)\r\n",
      "Collecting python-dotenv>=0.21.0 (from pydantic-settings<3.0.0,>=2.4.0->langchain-community)\r\n",
      "  Downloading python_dotenv-1.1.1-py3-none-any.whl.metadata (24 kB)\r\n",
      "Requirement already satisfied: charset_normalizer<4,>=2 in /usr/local/lib/python3.11/dist-packages (from requests<3,>=2->langchain) (3.4.2)\r\n",
      "Requirement already satisfied: idna<4,>=2.5 in /usr/local/lib/python3.11/dist-packages (from requests<3,>=2->langchain) (3.10)\r\n",
      "Requirement already satisfied: urllib3<3,>=1.21.1 in /usr/local/lib/python3.11/dist-packages (from requests<3,>=2->langchain) (2.5.0)\r\n",
      "Requirement already satisfied: certifi>=2017.4.17 in /usr/local/lib/python3.11/dist-packages (from requests<3,>=2->langchain) (2025.6.15)\r\n",
      "Requirement already satisfied: greenlet>=1 in /usr/local/lib/python3.11/dist-packages (from SQLAlchemy<3,>=1.4->langchain) (3.2.3)\r\n",
      "Requirement already satisfied: anyio in /usr/local/lib/python3.11/dist-packages (from httpx<1,>=0.23.0->langsmith>=0.1.17->langchain) (4.9.0)\r\n",
      "Requirement already satisfied: httpcore==1.* in /usr/local/lib/python3.11/dist-packages (from httpx<1,>=0.23.0->langsmith>=0.1.17->langchain) (1.0.9)\r\n",
      "Requirement already satisfied: h11>=0.16 in /usr/local/lib/python3.11/dist-packages (from httpcore==1.*->httpx<1,>=0.23.0->langsmith>=0.1.17->langchain) (0.16.0)\r\n",
      "Requirement already satisfied: jsonpointer>=1.9 in /usr/local/lib/python3.11/dist-packages (from jsonpatch<2.0,>=1.33->langchain-core<0.4,>=0.3.51->langchain-nvidia-ai-endpoints) (3.0.0)\r\n",
      "Requirement already satisfied: mypy-extensions>=0.3.0 in /usr/local/lib/python3.11/dist-packages (from typing-inspect<1,>=0.4.0->dataclasses-json<0.7,>=0.5.7->langchain-community) (1.1.0)\r\n",
      "Requirement already satisfied: intel-openmp<2026,>=2024 in /usr/local/lib/python3.11/dist-packages (from mkl->numpy>=1.26.2->langchain-community) (2024.2.0)\r\n",
      "Requirement already satisfied: tbb==2022.* in /usr/local/lib/python3.11/dist-packages (from mkl->numpy>=1.26.2->langchain-community) (2022.2.0)\r\n",
      "Requirement already satisfied: tcmlib==1.* in /usr/local/lib/python3.11/dist-packages (from tbb==2022.*->mkl->numpy>=1.26.2->langchain-community) (1.4.0)\r\n",
      "Requirement already satisfied: intel-cmplr-lib-rt in /usr/local/lib/python3.11/dist-packages (from mkl_umath->numpy>=1.26.2->langchain-community) (2024.2.0)\r\n",
      "Requirement already satisfied: intel-cmplr-lib-ur==2024.2.0 in /usr/local/lib/python3.11/dist-packages (from intel-openmp<2026,>=2024->mkl->numpy>=1.26.2->langchain-community) (2024.2.0)\r\n",
      "Requirement already satisfied: sniffio>=1.1 in /usr/local/lib/python3.11/dist-packages (from anyio->httpx<1,>=0.23.0->langsmith>=0.1.17->langchain) (1.3.1)\r\n",
      "Downloading langchain_nvidia_ai_endpoints-0.3.16-py3-none-any.whl (43 kB)\r\n",
      "\u001b[2K   \u001b[90m━━━━━━━━━━━━━━━━━━━━━━━━━━━━━━━━━━━━━━━━\u001b[0m \u001b[32m43.6/43.6 kB\u001b[0m \u001b[31m2.8 MB/s\u001b[0m eta \u001b[36m0:00:00\u001b[0m\r\n",
      "\u001b[?25hDownloading langchain_community-0.3.27-py3-none-any.whl (2.5 MB)\r\n",
      "\u001b[2K   \u001b[90m━━━━━━━━━━━━━━━━━━━━━━━━━━━━━━━━━━━━━━━━\u001b[0m \u001b[32m2.5/2.5 MB\u001b[0m \u001b[31m34.2 MB/s\u001b[0m eta \u001b[36m0:00:00\u001b[0m\r\n",
      "\u001b[?25hDownloading filetype-1.2.0-py2.py3-none-any.whl (19 kB)\r\n",
      "Downloading httpx_sse-0.4.1-py3-none-any.whl (8.1 kB)\r\n",
      "Downloading pydantic_settings-2.10.1-py3-none-any.whl (45 kB)\r\n",
      "\u001b[2K   \u001b[90m━━━━━━━━━━━━━━━━━━━━━━━━━━━━━━━━━━━━━━━━\u001b[0m \u001b[32m45.2/45.2 kB\u001b[0m \u001b[31m2.7 MB/s\u001b[0m eta \u001b[36m0:00:00\u001b[0m\r\n",
      "\u001b[?25hDownloading packaging-24.2-py3-none-any.whl (65 kB)\r\n",
      "\u001b[2K   \u001b[90m━━━━━━━━━━━━━━━━━━━━━━━━━━━━━━━━━━━━━━━━\u001b[0m \u001b[32m65.5/65.5 kB\u001b[0m \u001b[31m3.9 MB/s\u001b[0m eta \u001b[36m0:00:00\u001b[0m\r\n",
      "\u001b[?25hDownloading python_dotenv-1.1.1-py3-none-any.whl (20 kB)\r\n",
      "Installing collected packages: filetype, python-dotenv, packaging, httpx-sse, pydantic-settings, langchain-nvidia-ai-endpoints, langchain-community\r\n",
      "  Attempting uninstall: packaging\r\n",
      "    Found existing installation: packaging 25.0\r\n",
      "    Uninstalling packaging-25.0:\r\n",
      "      Successfully uninstalled packaging-25.0\r\n",
      "\u001b[31mERROR: pip's dependency resolver does not currently take into account all the packages that are installed. This behaviour is the source of the following dependency conflicts.\r\n",
      "bigframes 2.8.0 requires google-cloud-bigquery-storage<3.0.0,>=2.30.0, which is not installed.\r\n",
      "datasets 3.6.0 requires fsspec[http]<=2025.3.0,>=2023.1.0, but you have fsspec 2025.5.1 which is incompatible.\r\n",
      "cesium 0.12.4 requires numpy<3.0,>=2.0, but you have numpy 1.26.4 which is incompatible.\r\n",
      "pandas-gbq 0.29.1 requires google-api-core<3.0.0,>=2.10.2, but you have google-api-core 1.34.1 which is incompatible.\r\n",
      "thinc 8.3.6 requires numpy<3.0.0,>=2.0.0, but you have numpy 1.26.4 which is incompatible.\r\n",
      "plotnine 0.14.5 requires matplotlib>=3.8.0, but you have matplotlib 3.7.2 which is incompatible.\r\n",
      "dataproc-spark-connect 0.7.5 requires google-api-core>=2.19, but you have google-api-core 1.34.1 which is incompatible.\r\n",
      "bigframes 2.8.0 requires google-cloud-bigquery[bqstorage,pandas]>=3.31.0, but you have google-cloud-bigquery 3.25.0 which is incompatible.\r\n",
      "bigframes 2.8.0 requires rich<14,>=12.4.4, but you have rich 14.0.0 which is incompatible.\r\n",
      "mlxtend 0.23.4 requires scikit-learn>=1.3.1, but you have scikit-learn 1.2.2 which is incompatible.\u001b[0m\u001b[31m\r\n",
      "\u001b[0mSuccessfully installed filetype-1.2.0 httpx-sse-0.4.1 langchain-community-0.3.27 langchain-nvidia-ai-endpoints-0.3.16 packaging-24.2 pydantic-settings-2.10.1 python-dotenv-1.1.1\r\n"
     ]
    }
   ],
   "source": [
    "!pip install langchain-nvidia-ai-endpoints langchain langchain-community"
   ]
  },
  {
   "cell_type": "code",
   "execution_count": 2,
   "id": "97ea4f92",
   "metadata": {
    "execution": {
     "iopub.execute_input": "2025-08-11T06:25:02.170095Z",
     "iopub.status.busy": "2025-08-11T06:25:02.169795Z",
     "iopub.status.idle": "2025-08-11T06:25:03.157825Z",
     "shell.execute_reply": "2025-08-11T06:25:03.157050Z"
    },
    "papermill": {
     "duration": 0.998833,
     "end_time": "2025-08-11T06:25:03.159493",
     "exception": false,
     "start_time": "2025-08-11T06:25:02.160660",
     "status": "completed"
    },
    "tags": []
   },
   "outputs": [],
   "source": [
    "from langchain.prompts import ChatPromptTemplate, MessagesPlaceholder\n",
    "import datetime"
   ]
  },
  {
   "cell_type": "code",
   "execution_count": 3,
   "id": "3d38db36",
   "metadata": {
    "execution": {
     "iopub.execute_input": "2025-08-11T06:25:03.177108Z",
     "iopub.status.busy": "2025-08-11T06:25:03.176600Z",
     "iopub.status.idle": "2025-08-11T06:25:03.184049Z",
     "shell.execute_reply": "2025-08-11T06:25:03.183338Z"
    },
    "papermill": {
     "duration": 0.017514,
     "end_time": "2025-08-11T06:25:03.185328",
     "exception": false,
     "start_time": "2025-08-11T06:25:03.167814",
     "status": "completed"
    },
    "tags": []
   },
   "outputs": [],
   "source": [
    "actor_prompt_template = ChatPromptTemplate.from_messages(\n",
    "    [\n",
    "        (\n",
    "            \"system\",\n",
    "            \"\"\"\n",
    "            You are an expert AI researcher.\n",
    "            Currect time: {time}\n",
    "\n",
    "            1. {first_instruction}\n",
    "            2. Reflect and critique your answer. Be severe to maximize improvement.\n",
    "            3. After the reflection, **list 1-3 search queries separately** for researching improvements.Do not include them inside the reflection.\n",
    "\n",
    "            \"\"\",\n",
    "        ),\n",
    "        MessagesPlaceholder(variable_name = \"messages\"),\n",
    "        (\"system\", \"Answrt the user's question above using the required format.\")\n",
    "    ]\n",
    ").partial(\n",
    "    time = lambda: datetime.datetime.now().isoformat(),\n",
    ")"
   ]
  },
  {
   "cell_type": "code",
   "execution_count": 4,
   "id": "afe57ce7",
   "metadata": {
    "execution": {
     "iopub.execute_input": "2025-08-11T06:25:03.203442Z",
     "iopub.status.busy": "2025-08-11T06:25:03.203133Z",
     "iopub.status.idle": "2025-08-11T06:25:06.741412Z",
     "shell.execute_reply": "2025-08-11T06:25:06.740453Z"
    },
    "papermill": {
     "duration": 3.549352,
     "end_time": "2025-08-11T06:25:06.743570",
     "exception": false,
     "start_time": "2025-08-11T06:25:03.194218",
     "status": "completed"
    },
    "tags": []
   },
   "outputs": [
    {
     "name": "stdout",
     "output_type": "stream",
     "text": [
      "Requirement already satisfied: pydantic in /usr/local/lib/python3.11/dist-packages (2.11.7)\r\n",
      "Requirement already satisfied: annotated-types>=0.6.0 in /usr/local/lib/python3.11/dist-packages (from pydantic) (0.7.0)\r\n",
      "Requirement already satisfied: pydantic-core==2.33.2 in /usr/local/lib/python3.11/dist-packages (from pydantic) (2.33.2)\r\n",
      "Requirement already satisfied: typing-extensions>=4.12.2 in /usr/local/lib/python3.11/dist-packages (from pydantic) (4.14.0)\r\n",
      "Requirement already satisfied: typing-inspection>=0.4.0 in /usr/local/lib/python3.11/dist-packages (from pydantic) (0.4.1)\r\n"
     ]
    }
   ],
   "source": [
    "!pip install pydantic"
   ]
  },
  {
   "cell_type": "code",
   "execution_count": 5,
   "id": "5cd823cf",
   "metadata": {
    "execution": {
     "iopub.execute_input": "2025-08-11T06:25:06.762414Z",
     "iopub.status.busy": "2025-08-11T06:25:06.761549Z",
     "iopub.status.idle": "2025-08-11T06:25:06.766185Z",
     "shell.execute_reply": "2025-08-11T06:25:06.765387Z"
    },
    "papermill": {
     "duration": 0.015391,
     "end_time": "2025-08-11T06:25:06.767574",
     "exception": false,
     "start_time": "2025-08-11T06:25:06.752183",
     "status": "completed"
    },
    "tags": []
   },
   "outputs": [],
   "source": [
    "from pydantic import BaseModel, Field\n",
    "from typing import List "
   ]
  },
  {
   "cell_type": "code",
   "execution_count": 6,
   "id": "3d8af97c",
   "metadata": {
    "execution": {
     "iopub.execute_input": "2025-08-11T06:25:06.785053Z",
     "iopub.status.busy": "2025-08-11T06:25:06.784787Z",
     "iopub.status.idle": "2025-08-11T06:25:06.790596Z",
     "shell.execute_reply": "2025-08-11T06:25:06.789930Z"
    },
    "papermill": {
     "duration": 0.015981,
     "end_time": "2025-08-11T06:25:06.792007",
     "exception": false,
     "start_time": "2025-08-11T06:25:06.776026",
     "status": "completed"
    },
    "tags": []
   },
   "outputs": [],
   "source": [
    "class Reflection(BaseModel):\n",
    "    missing: str = Field(description = \"Critique of what is missing.\")\n",
    "    superflous: str = Field(description = \"Critque of what is superflous\")"
   ]
  },
  {
   "cell_type": "code",
   "execution_count": 7,
   "id": "5fe074a9",
   "metadata": {
    "execution": {
     "iopub.execute_input": "2025-08-11T06:25:06.814023Z",
     "iopub.status.busy": "2025-08-11T06:25:06.813599Z",
     "iopub.status.idle": "2025-08-11T06:25:06.820178Z",
     "shell.execute_reply": "2025-08-11T06:25:06.819359Z"
    },
    "papermill": {
     "duration": 0.0209,
     "end_time": "2025-08-11T06:25:06.821548",
     "exception": false,
     "start_time": "2025-08-11T06:25:06.800648",
     "status": "completed"
    },
    "tags": []
   },
   "outputs": [],
   "source": [
    "class AnswerQuestion(BaseModel):\n",
    "    \"\"\" Answer the question \"\"\"\n",
    "\n",
    "    answer: str = Field(description = \"~250 word detailed answer to the question.\")\n",
    "    search_queries: List[str] = Field(description = \"1-3 search queries for answering improvements to address the critique of your current answer.\")\n",
    "    reflection: Reflection = Field(description = \"Your reflection on the initial answer.\")"
   ]
  },
  {
   "cell_type": "code",
   "execution_count": 8,
   "id": "015ebe1f",
   "metadata": {
    "execution": {
     "iopub.execute_input": "2025-08-11T06:25:06.839191Z",
     "iopub.status.busy": "2025-08-11T06:25:06.838561Z",
     "iopub.status.idle": "2025-08-11T06:25:06.842564Z",
     "shell.execute_reply": "2025-08-11T06:25:06.841981Z"
    },
    "papermill": {
     "duration": 0.014009,
     "end_time": "2025-08-11T06:25:06.843792",
     "exception": false,
     "start_time": "2025-08-11T06:25:06.829783",
     "status": "completed"
    },
    "tags": []
   },
   "outputs": [],
   "source": [
    "first_responder_prompt_template = actor_prompt_template.partial(\n",
    "    first_instruction = \"Provide a detailed ~250 word answer\"\n",
    ")"
   ]
  },
  {
   "cell_type": "code",
   "execution_count": 9,
   "id": "0675e704",
   "metadata": {
    "execution": {
     "iopub.execute_input": "2025-08-11T06:25:06.862375Z",
     "iopub.status.busy": "2025-08-11T06:25:06.861650Z",
     "iopub.status.idle": "2025-08-11T06:25:07.035492Z",
     "shell.execute_reply": "2025-08-11T06:25:07.034261Z"
    },
    "papermill": {
     "duration": 0.185579,
     "end_time": "2025-08-11T06:25:07.037592",
     "exception": false,
     "start_time": "2025-08-11T06:25:06.852013",
     "status": "completed"
    },
    "tags": []
   },
   "outputs": [],
   "source": [
    "from kaggle_secrets import UserSecretsClient\n",
    "\n",
    "model = UserSecretsClient().get_secret(\"NVIDIA_MODEL_NAME\")\n",
    "api_key = UserSecretsClient().get_secret(\"NVIDIA_API_KEY\")"
   ]
  },
  {
   "cell_type": "code",
   "execution_count": 10,
   "id": "0ee9bf40",
   "metadata": {
    "execution": {
     "iopub.execute_input": "2025-08-11T06:25:07.056196Z",
     "iopub.status.busy": "2025-08-11T06:25:07.055476Z",
     "iopub.status.idle": "2025-08-11T06:25:07.829653Z",
     "shell.execute_reply": "2025-08-11T06:25:07.829033Z"
    },
    "papermill": {
     "duration": 0.784571,
     "end_time": "2025-08-11T06:25:07.831169",
     "exception": false,
     "start_time": "2025-08-11T06:25:07.046598",
     "status": "completed"
    },
    "tags": []
   },
   "outputs": [],
   "source": [
    "from langchain_nvidia_ai_endpoints import ChatNVIDIA\n",
    "\n",
    "llm = ChatNVIDIA(\n",
    "    model = model,\n",
    "    api_key = api_key,\n",
    ")"
   ]
  },
  {
   "cell_type": "code",
   "execution_count": 11,
   "id": "d32082dc",
   "metadata": {
    "execution": {
     "iopub.execute_input": "2025-08-11T06:25:07.848623Z",
     "iopub.status.busy": "2025-08-11T06:25:07.848057Z",
     "iopub.status.idle": "2025-08-11T06:25:07.859277Z",
     "shell.execute_reply": "2025-08-11T06:25:07.858335Z"
    },
    "papermill": {
     "duration": 0.021254,
     "end_time": "2025-08-11T06:25:07.860543",
     "exception": false,
     "start_time": "2025-08-11T06:25:07.839289",
     "status": "completed"
    },
    "tags": []
   },
   "outputs": [],
   "source": [
    "from langchain_core.output_parsers.openai_tools import PydanticToolsParser"
   ]
  },
  {
   "cell_type": "code",
   "execution_count": 12,
   "id": "be5c72b6",
   "metadata": {
    "execution": {
     "iopub.execute_input": "2025-08-11T06:25:07.877502Z",
     "iopub.status.busy": "2025-08-11T06:25:07.877232Z",
     "iopub.status.idle": "2025-08-11T06:25:07.881048Z",
     "shell.execute_reply": "2025-08-11T06:25:07.880415Z"
    },
    "papermill": {
     "duration": 0.013456,
     "end_time": "2025-08-11T06:25:07.882164",
     "exception": false,
     "start_time": "2025-08-11T06:25:07.868708",
     "status": "completed"
    },
    "tags": []
   },
   "outputs": [],
   "source": [
    "pydantic_parser = PydanticToolsParser(tools = [AnswerQuestion])"
   ]
  },
  {
   "cell_type": "code",
   "execution_count": 13,
   "id": "5f80ec07",
   "metadata": {
    "execution": {
     "iopub.execute_input": "2025-08-11T06:25:07.898998Z",
     "iopub.status.busy": "2025-08-11T06:25:07.898711Z",
     "iopub.status.idle": "2025-08-11T06:25:07.904061Z",
     "shell.execute_reply": "2025-08-11T06:25:07.903455Z"
    },
    "papermill": {
     "duration": 0.015297,
     "end_time": "2025-08-11T06:25:07.905296",
     "exception": false,
     "start_time": "2025-08-11T06:25:07.889999",
     "status": "completed"
    },
    "tags": []
   },
   "outputs": [],
   "source": [
    "first_responder_chain = first_responder_prompt_template | llm.bind_tools(tools = [AnswerQuestion], tool_choice = 'AnswerQuestion') "
   ]
  },
  {
   "cell_type": "code",
   "execution_count": 14,
   "id": "ca65368a",
   "metadata": {
    "execution": {
     "iopub.execute_input": "2025-08-11T06:25:07.922961Z",
     "iopub.status.busy": "2025-08-11T06:25:07.922150Z",
     "iopub.status.idle": "2025-08-11T06:25:07.926018Z",
     "shell.execute_reply": "2025-08-11T06:25:07.925402Z"
    },
    "papermill": {
     "duration": 0.013818,
     "end_time": "2025-08-11T06:25:07.927245",
     "exception": false,
     "start_time": "2025-08-11T06:25:07.913427",
     "status": "completed"
    },
    "tags": []
   },
   "outputs": [],
   "source": [
    "validator = PydanticToolsParser(tools = [AnswerQuestion])"
   ]
  },
  {
   "cell_type": "code",
   "execution_count": 15,
   "id": "21a13f1d",
   "metadata": {
    "execution": {
     "iopub.execute_input": "2025-08-11T06:25:07.944304Z",
     "iopub.status.busy": "2025-08-11T06:25:07.944038Z",
     "iopub.status.idle": "2025-08-11T06:25:07.947471Z",
     "shell.execute_reply": "2025-08-11T06:25:07.946911Z"
    },
    "papermill": {
     "duration": 0.013467,
     "end_time": "2025-08-11T06:25:07.948745",
     "exception": false,
     "start_time": "2025-08-11T06:25:07.935278",
     "status": "completed"
    },
    "tags": []
   },
   "outputs": [],
   "source": [
    "from langchain_core.messages import HumanMessage"
   ]
  },
  {
   "cell_type": "code",
   "execution_count": 16,
   "id": "eb165b85",
   "metadata": {
    "execution": {
     "iopub.execute_input": "2025-08-11T06:25:08.022426Z",
     "iopub.status.busy": "2025-08-11T06:25:08.022144Z",
     "iopub.status.idle": "2025-08-11T06:25:13.631398Z",
     "shell.execute_reply": "2025-08-11T06:25:13.630591Z"
    },
    "papermill": {
     "duration": 5.676466,
     "end_time": "2025-08-11T06:25:13.633243",
     "exception": false,
     "start_time": "2025-08-11T06:25:07.956777",
     "status": "completed"
    },
    "tags": []
   },
   "outputs": [],
   "source": [
    "response = first_responder_chain.invoke({\n",
    "    \"messages\": [HumanMessage(content = \"Write me a blog post on how small business can leverage Ai to grow\")]\n",
    "})"
   ]
  },
  {
   "cell_type": "code",
   "execution_count": 17,
   "id": "8b332422",
   "metadata": {
    "execution": {
     "iopub.execute_input": "2025-08-11T06:25:13.656772Z",
     "iopub.status.busy": "2025-08-11T06:25:13.656441Z",
     "iopub.status.idle": "2025-08-11T06:25:13.661548Z",
     "shell.execute_reply": "2025-08-11T06:25:13.660612Z"
    },
    "papermill": {
     "duration": 0.015734,
     "end_time": "2025-08-11T06:25:13.662886",
     "exception": false,
     "start_time": "2025-08-11T06:25:13.647152",
     "status": "completed"
    },
    "tags": []
   },
   "outputs": [
    {
     "name": "stdout",
     "output_type": "stream",
     "text": [
      "content='' additional_kwargs={'tool_calls': [{'id': 'chatcmpl-tool-c9f1d195f62b41d7b63d76bfa4ddaae2', 'type': 'function', 'function': {'name': 'AnswerQuestion', 'arguments': '{\"answer\": \"Small businesses can leverage AI to grow in various ways, including automating administrative tasks, analyzing customer data to personalize marketing efforts, improving customer service through chatbots, and optimizing supply chains. AI can also help small businesses identify new opportunities and make data-driven decisions. Additionally, AI-powered tools can help small businesses streamline their operations and reduce costs. Overall, AI can be a powerful tool for small businesses looking to grow and compete in today\\'s digital marketplace.\", \"search_queries\": [\"AI for small business\", \"small business growth strategies\", \"AI-powered tools for small business\"], \"reflection\": {\"missing\": \"More specific examples of AI-powered tools and platforms that small businesses can use would be helpful.\", \"superflous\": \"The answer could benefit from more depth and analysis of the benefits and challenges of implementing AI in small businesses.\"}}'}}]} response_metadata={'role': 'assistant', 'content': None, 'tool_calls': [{'id': 'chatcmpl-tool-c9f1d195f62b41d7b63d76bfa4ddaae2', 'type': 'function', 'function': {'name': 'AnswerQuestion', 'arguments': '{\"answer\": \"Small businesses can leverage AI to grow in various ways, including automating administrative tasks, analyzing customer data to personalize marketing efforts, improving customer service through chatbots, and optimizing supply chains. AI can also help small businesses identify new opportunities and make data-driven decisions. Additionally, AI-powered tools can help small businesses streamline their operations and reduce costs. Overall, AI can be a powerful tool for small businesses looking to grow and compete in today\\'s digital marketplace.\", \"search_queries\": [\"AI for small business\", \"small business growth strategies\", \"AI-powered tools for small business\"], \"reflection\": {\"missing\": \"More specific examples of AI-powered tools and platforms that small businesses can use would be helpful.\", \"superflous\": \"The answer could benefit from more depth and analysis of the benefits and challenges of implementing AI in small businesses.\"}}'}}], 'token_usage': {'prompt_tokens': 483, 'total_tokens': 659, 'completion_tokens': 176}, 'finish_reason': 'tool_calls', 'model_name': 'meta/llama-3.1-70b-instruct'} id='run--a7b1cfa6-0492-492d-a969-451da4ab978e-0' tool_calls=[{'name': 'AnswerQuestion', 'args': {'answer': \"Small businesses can leverage AI to grow in various ways, including automating administrative tasks, analyzing customer data to personalize marketing efforts, improving customer service through chatbots, and optimizing supply chains. AI can also help small businesses identify new opportunities and make data-driven decisions. Additionally, AI-powered tools can help small businesses streamline their operations and reduce costs. Overall, AI can be a powerful tool for small businesses looking to grow and compete in today's digital marketplace.\", 'search_queries': ['AI for small business', 'small business growth strategies', 'AI-powered tools for small business'], 'reflection': {'missing': 'More specific examples of AI-powered tools and platforms that small businesses can use would be helpful.', 'superflous': 'The answer could benefit from more depth and analysis of the benefits and challenges of implementing AI in small businesses.'}}, 'id': 'chatcmpl-tool-c9f1d195f62b41d7b63d76bfa4ddaae2', 'type': 'tool_call'}] usage_metadata={'input_tokens': 483, 'output_tokens': 176, 'total_tokens': 659} role='assistant'\n"
     ]
    }
   ],
   "source": [
    "print(response)"
   ]
  },
  {
   "cell_type": "code",
   "execution_count": 18,
   "id": "97791992",
   "metadata": {
    "execution": {
     "iopub.execute_input": "2025-08-11T06:25:13.680561Z",
     "iopub.status.busy": "2025-08-11T06:25:13.680254Z",
     "iopub.status.idle": "2025-08-11T06:25:13.685336Z",
     "shell.execute_reply": "2025-08-11T06:25:13.684451Z"
    },
    "papermill": {
     "duration": 0.015283,
     "end_time": "2025-08-11T06:25:13.686577",
     "exception": false,
     "start_time": "2025-08-11T06:25:13.671294",
     "status": "completed"
    },
    "tags": []
   },
   "outputs": [
    {
     "name": "stdout",
     "output_type": "stream",
     "text": [
      "input_variables=['messages'] input_types={'messages': list[typing.Annotated[typing.Union[typing.Annotated[langchain_core.messages.ai.AIMessage, Tag(tag='ai')], typing.Annotated[langchain_core.messages.human.HumanMessage, Tag(tag='human')], typing.Annotated[langchain_core.messages.chat.ChatMessage, Tag(tag='chat')], typing.Annotated[langchain_core.messages.system.SystemMessage, Tag(tag='system')], typing.Annotated[langchain_core.messages.function.FunctionMessage, Tag(tag='function')], typing.Annotated[langchain_core.messages.tool.ToolMessage, Tag(tag='tool')], typing.Annotated[langchain_core.messages.ai.AIMessageChunk, Tag(tag='AIMessageChunk')], typing.Annotated[langchain_core.messages.human.HumanMessageChunk, Tag(tag='HumanMessageChunk')], typing.Annotated[langchain_core.messages.chat.ChatMessageChunk, Tag(tag='ChatMessageChunk')], typing.Annotated[langchain_core.messages.system.SystemMessageChunk, Tag(tag='SystemMessageChunk')], typing.Annotated[langchain_core.messages.function.FunctionMessageChunk, Tag(tag='FunctionMessageChunk')], typing.Annotated[langchain_core.messages.tool.ToolMessageChunk, Tag(tag='ToolMessageChunk')]], FieldInfo(annotation=NoneType, required=True, discriminator=Discriminator(discriminator=<function _get_type at 0x79475dd5b4c0>, custom_error_type=None, custom_error_message=None, custom_error_context=None))]]} partial_variables={'time': <function <lambda> at 0x79475d5c8900>, 'first_instruction': 'Provide a detailed ~250 word answer'} messages=[SystemMessagePromptTemplate(prompt=PromptTemplate(input_variables=['first_instruction', 'time'], input_types={}, partial_variables={}, template='\\n            You are an expert AI researcher.\\n            Currect time: {time}\\n\\n            1. {first_instruction}\\n            2. Reflect and critique your answer. Be severe to maximize improvement.\\n            3. After the reflection, **list 1-3 search queries separately** for researching improvements.Do not include them inside the reflection.\\n\\n            '), additional_kwargs={}), MessagesPlaceholder(variable_name='messages'), SystemMessagePromptTemplate(prompt=PromptTemplate(input_variables=[], input_types={}, partial_variables={}, template=\"Answrt the user's question above using the required format.\"), additional_kwargs={})]\n"
     ]
    }
   ],
   "source": [
    "print(first_responder_prompt_template)"
   ]
  },
  {
   "cell_type": "markdown",
   "id": "5867168c",
   "metadata": {
    "papermill": {
     "duration": 0.007989,
     "end_time": "2025-08-11T06:25:13.702885",
     "exception": false,
     "start_time": "2025-08-11T06:25:13.694896",
     "status": "completed"
    },
    "tags": []
   },
   "source": [
    "## Revisor Section"
   ]
  },
  {
   "cell_type": "code",
   "execution_count": 19,
   "id": "9de8fd2c",
   "metadata": {
    "execution": {
     "iopub.execute_input": "2025-08-11T06:25:13.721096Z",
     "iopub.status.busy": "2025-08-11T06:25:13.720306Z",
     "iopub.status.idle": "2025-08-11T06:25:13.725010Z",
     "shell.execute_reply": "2025-08-11T06:25:13.724249Z"
    },
    "papermill": {
     "duration": 0.015152,
     "end_time": "2025-08-11T06:25:13.726299",
     "exception": false,
     "start_time": "2025-08-11T06:25:13.711147",
     "status": "completed"
    },
    "tags": []
   },
   "outputs": [],
   "source": [
    "revise_instruction = \"\"\" Revise your previous answer using the new information.\n",
    "-- You should use the previous critique to add important information to your andswer.\n",
    "    -- You must include numerical citations in your revised answer to ensure it can be verified.\n",
    "    -- Add a \"References\" section to the bottom of your answer (which does not count towards the word linit). In form of:\n",
    "        -- [1] https://example.com\n",
    "        -- [2] https://example.com\n",
    "    -- You should use the previous critique to remove superflous information from your answer and make sure it is not more than 250 words.\n",
    "\"\"\""
   ]
  },
  {
   "cell_type": "code",
   "execution_count": 20,
   "id": "817a6c0e",
   "metadata": {
    "execution": {
     "iopub.execute_input": "2025-08-11T06:25:13.744228Z",
     "iopub.status.busy": "2025-08-11T06:25:13.743599Z",
     "iopub.status.idle": "2025-08-11T06:25:13.750281Z",
     "shell.execute_reply": "2025-08-11T06:25:13.749306Z"
    },
    "papermill": {
     "duration": 0.017098,
     "end_time": "2025-08-11T06:25:13.751644",
     "exception": false,
     "start_time": "2025-08-11T06:25:13.734546",
     "status": "completed"
    },
    "tags": []
   },
   "outputs": [],
   "source": [
    "class ReviseAnswer(AnswerQuestion):\n",
    "    \"\"\" Revise your original answer tp your question \"\"\"\n",
    "\n",
    "    references: List[str] = Field(description = \"Citations motivating your updated answer\")"
   ]
  },
  {
   "cell_type": "code",
   "execution_count": 21,
   "id": "0f363f52",
   "metadata": {
    "execution": {
     "iopub.execute_input": "2025-08-11T06:25:13.769620Z",
     "iopub.status.busy": "2025-08-11T06:25:13.769285Z",
     "iopub.status.idle": "2025-08-11T06:25:13.776372Z",
     "shell.execute_reply": "2025-08-11T06:25:13.775742Z"
    },
    "papermill": {
     "duration": 0.017515,
     "end_time": "2025-08-11T06:25:13.777664",
     "exception": false,
     "start_time": "2025-08-11T06:25:13.760149",
     "status": "completed"
    },
    "tags": []
   },
   "outputs": [],
   "source": [
    "revisor_chain = actor_prompt_template.partial(\n",
    "    first_instruction = revise_instruction\n",
    ") | llm.bind_tools(tools = [ReviseAnswer], tool_choice = \"ReviseAnswer\")"
   ]
  },
  {
   "cell_type": "markdown",
   "id": "cf967cd8",
   "metadata": {
    "papermill": {
     "duration": 0.00799,
     "end_time": "2025-08-11T06:25:13.794020",
     "exception": false,
     "start_time": "2025-08-11T06:25:13.786030",
     "status": "completed"
    },
    "tags": []
   },
   "source": [
    "## Execute Tools Section"
   ]
  },
  {
   "cell_type": "code",
   "execution_count": 22,
   "id": "6a0f1bd7",
   "metadata": {
    "execution": {
     "iopub.execute_input": "2025-08-11T06:25:13.811973Z",
     "iopub.status.busy": "2025-08-11T06:25:13.811264Z",
     "iopub.status.idle": "2025-08-11T06:25:13.887647Z",
     "shell.execute_reply": "2025-08-11T06:25:13.886842Z"
    },
    "papermill": {
     "duration": 0.087305,
     "end_time": "2025-08-11T06:25:13.889448",
     "exception": false,
     "start_time": "2025-08-11T06:25:13.802143",
     "status": "completed"
    },
    "tags": []
   },
   "outputs": [],
   "source": [
    "import json\n",
    "from typing import List, Dict, Any\n",
    "from langchain_core.messages import AIMessage, BaseMessage, ToolMessage, HumanMessage\n",
    "from langchain_community.tools import TavilySearchResults"
   ]
  },
  {
   "cell_type": "code",
   "execution_count": 23,
   "id": "2859a88b",
   "metadata": {
    "execution": {
     "iopub.execute_input": "2025-08-11T06:25:13.916062Z",
     "iopub.status.busy": "2025-08-11T06:25:13.915199Z",
     "iopub.status.idle": "2025-08-11T06:25:13.979613Z",
     "shell.execute_reply": "2025-08-11T06:25:13.978731Z"
    },
    "papermill": {
     "duration": 0.07601,
     "end_time": "2025-08-11T06:25:13.981193",
     "exception": false,
     "start_time": "2025-08-11T06:25:13.905183",
     "status": "completed"
    },
    "tags": []
   },
   "outputs": [
    {
     "name": "stdout",
     "output_type": "stream",
     "text": [
      "tvly-dev-\n"
     ]
    }
   ],
   "source": [
    "tavily_api_key = UserSecretsClient().get_secret(\"TAVILY_API_KEY\")\n",
    "print(tavily_api_key[:9])"
   ]
  },
  {
   "cell_type": "code",
   "execution_count": 24,
   "id": "1f19a9d7",
   "metadata": {
    "execution": {
     "iopub.execute_input": "2025-08-11T06:25:13.999362Z",
     "iopub.status.busy": "2025-08-11T06:25:13.998656Z",
     "iopub.status.idle": "2025-08-11T06:25:14.003103Z",
     "shell.execute_reply": "2025-08-11T06:25:14.002226Z"
    },
    "papermill": {
     "duration": 0.014722,
     "end_time": "2025-08-11T06:25:14.004308",
     "exception": false,
     "start_time": "2025-08-11T06:25:13.989586",
     "status": "completed"
    },
    "tags": []
   },
   "outputs": [
    {
     "name": "stderr",
     "output_type": "stream",
     "text": [
      "/tmp/ipykernel_13/2446320105.py:1: LangChainDeprecationWarning: The class `TavilySearchResults` was deprecated in LangChain 0.3.25 and will be removed in 1.0. An updated version of the class exists in the :class:`~langchain-tavily package and should be used instead. To use it run `pip install -U :class:`~langchain-tavily` and import as `from :class:`~langchain_tavily import TavilySearch``.\n",
      "  tavily_tool = TavilySearchResults(max_results = 5,\n"
     ]
    }
   ],
   "source": [
    "tavily_tool = TavilySearchResults(max_results = 5,\n",
    "                                 tavily_api_key = tavily_api_key)"
   ]
  },
  {
   "cell_type": "code",
   "execution_count": 25,
   "id": "bb232187",
   "metadata": {
    "execution": {
     "iopub.execute_input": "2025-08-11T06:25:14.022084Z",
     "iopub.status.busy": "2025-08-11T06:25:14.021794Z",
     "iopub.status.idle": "2025-08-11T06:25:14.027747Z",
     "shell.execute_reply": "2025-08-11T06:25:14.026977Z"
    },
    "papermill": {
     "duration": 0.016549,
     "end_time": "2025-08-11T06:25:14.029127",
     "exception": false,
     "start_time": "2025-08-11T06:25:14.012578",
     "status": "completed"
    },
    "tags": []
   },
   "outputs": [],
   "source": [
    "def execute_tools(state: List[BaseMessage]) -> List[BaseMessage]:\n",
    "    last_ai_message: AIMessage = state[-1]\n",
    "\n",
    "    if not hasattr(last_ai_message, \"tool_calls\") or not last_ai_message.tool_calls:\n",
    "        return []\n",
    "\n",
    "    tool_messages = []\n",
    "\n",
    "    for tool_call in last_ai_message.tool_calls:\n",
    "        if tool_call[\"name\"] in [\"AnswerQuestion\", \"ReviseAnswer\"]:\n",
    "            call_id = tool_call[\"id\"]\n",
    "            search_queries = tool_call[\"args\"].get(\"search_queries\", [])\n",
    "\n",
    "            query_results = {}\n",
    "            for query in search_queries:\n",
    "                result = tavily_tool.invoke(query)\n",
    "                query_results[query] = result\n",
    "\n",
    "            tool_messages.append(\n",
    "                ToolMessage(\n",
    "                    content = json.dumps(query_results),\n",
    "                    tool_call_id = call_id\n",
    "                )\n",
    "            )\n",
    "\n",
    "    return tool_messages"
   ]
  },
  {
   "cell_type": "markdown",
   "id": "dae276f0",
   "metadata": {
    "papermill": {
     "duration": 0.008078,
     "end_time": "2025-08-11T06:25:14.045470",
     "exception": false,
     "start_time": "2025-08-11T06:25:14.037392",
     "status": "completed"
    },
    "tags": []
   },
   "source": [
    "## Reflexion Graph"
   ]
  },
  {
   "cell_type": "code",
   "execution_count": 26,
   "id": "dfc3661e",
   "metadata": {
    "execution": {
     "iopub.execute_input": "2025-08-11T06:25:14.065513Z",
     "iopub.status.busy": "2025-08-11T06:25:14.064875Z",
     "iopub.status.idle": "2025-08-11T06:25:20.015185Z",
     "shell.execute_reply": "2025-08-11T06:25:20.014057Z"
    },
    "papermill": {
     "duration": 5.963236,
     "end_time": "2025-08-11T06:25:20.016823",
     "exception": false,
     "start_time": "2025-08-11T06:25:14.053587",
     "status": "completed"
    },
    "tags": []
   },
   "outputs": [
    {
     "name": "stdout",
     "output_type": "stream",
     "text": [
      "Collecting langgraph\r\n",
      "  Downloading langgraph-0.6.4-py3-none-any.whl.metadata (6.8 kB)\r\n",
      "Requirement already satisfied: langchain-core>=0.1 in /usr/local/lib/python3.11/dist-packages (from langgraph) (0.3.66)\r\n",
      "Collecting langgraph-checkpoint<3.0.0,>=2.1.0 (from langgraph)\r\n",
      "  Downloading langgraph_checkpoint-2.1.1-py3-none-any.whl.metadata (4.2 kB)\r\n",
      "Collecting langgraph-prebuilt<0.7.0,>=0.6.0 (from langgraph)\r\n",
      "  Downloading langgraph_prebuilt-0.6.4-py3-none-any.whl.metadata (4.5 kB)\r\n",
      "Collecting langgraph-sdk<0.3.0,>=0.2.0 (from langgraph)\r\n",
      "  Downloading langgraph_sdk-0.2.0-py3-none-any.whl.metadata (1.5 kB)\r\n",
      "Requirement already satisfied: pydantic>=2.7.4 in /usr/local/lib/python3.11/dist-packages (from langgraph) (2.11.7)\r\n",
      "Requirement already satisfied: xxhash>=3.5.0 in /usr/local/lib/python3.11/dist-packages (from langgraph) (3.5.0)\r\n",
      "Requirement already satisfied: langsmith>=0.3.45 in /usr/local/lib/python3.11/dist-packages (from langchain-core>=0.1->langgraph) (0.4.1)\r\n",
      "Requirement already satisfied: tenacity!=8.4.0,<10.0.0,>=8.1.0 in /usr/local/lib/python3.11/dist-packages (from langchain-core>=0.1->langgraph) (8.5.0)\r\n",
      "Requirement already satisfied: jsonpatch<2.0,>=1.33 in /usr/local/lib/python3.11/dist-packages (from langchain-core>=0.1->langgraph) (1.33)\r\n",
      "Requirement already satisfied: PyYAML>=5.3 in /usr/local/lib/python3.11/dist-packages (from langchain-core>=0.1->langgraph) (6.0.2)\r\n",
      "Requirement already satisfied: packaging<25,>=23.2 in /usr/local/lib/python3.11/dist-packages (from langchain-core>=0.1->langgraph) (24.2)\r\n",
      "Requirement already satisfied: typing-extensions>=4.7 in /usr/local/lib/python3.11/dist-packages (from langchain-core>=0.1->langgraph) (4.14.0)\r\n",
      "Collecting ormsgpack>=1.10.0 (from langgraph-checkpoint<3.0.0,>=2.1.0->langgraph)\r\n",
      "  Downloading ormsgpack-1.10.0-cp311-cp311-manylinux_2_17_x86_64.manylinux2014_x86_64.whl.metadata (43 kB)\r\n",
      "\u001b[2K     \u001b[90m━━━━━━━━━━━━━━━━━━━━━━━━━━━━━━━━━━━━━━━━\u001b[0m \u001b[32m43.7/43.7 kB\u001b[0m \u001b[31m1.4 MB/s\u001b[0m eta \u001b[36m0:00:00\u001b[0m\r\n",
      "\u001b[?25hCollecting langchain-core>=0.1 (from langgraph)\r\n",
      "  Downloading langchain_core-0.3.74-py3-none-any.whl.metadata (5.8 kB)\r\n",
      "Requirement already satisfied: httpx>=0.25.2 in /usr/local/lib/python3.11/dist-packages (from langgraph-sdk<0.3.0,>=0.2.0->langgraph) (0.28.1)\r\n",
      "Requirement already satisfied: orjson>=3.10.1 in /usr/local/lib/python3.11/dist-packages (from langgraph-sdk<0.3.0,>=0.2.0->langgraph) (3.10.18)\r\n",
      "Requirement already satisfied: annotated-types>=0.6.0 in /usr/local/lib/python3.11/dist-packages (from pydantic>=2.7.4->langgraph) (0.7.0)\r\n",
      "Requirement already satisfied: pydantic-core==2.33.2 in /usr/local/lib/python3.11/dist-packages (from pydantic>=2.7.4->langgraph) (2.33.2)\r\n",
      "Requirement already satisfied: typing-inspection>=0.4.0 in /usr/local/lib/python3.11/dist-packages (from pydantic>=2.7.4->langgraph) (0.4.1)\r\n",
      "Requirement already satisfied: anyio in /usr/local/lib/python3.11/dist-packages (from httpx>=0.25.2->langgraph-sdk<0.3.0,>=0.2.0->langgraph) (4.9.0)\r\n",
      "Requirement already satisfied: certifi in /usr/local/lib/python3.11/dist-packages (from httpx>=0.25.2->langgraph-sdk<0.3.0,>=0.2.0->langgraph) (2025.6.15)\r\n",
      "Requirement already satisfied: httpcore==1.* in /usr/local/lib/python3.11/dist-packages (from httpx>=0.25.2->langgraph-sdk<0.3.0,>=0.2.0->langgraph) (1.0.9)\r\n",
      "Requirement already satisfied: idna in /usr/local/lib/python3.11/dist-packages (from httpx>=0.25.2->langgraph-sdk<0.3.0,>=0.2.0->langgraph) (3.10)\r\n",
      "Requirement already satisfied: h11>=0.16 in /usr/local/lib/python3.11/dist-packages (from httpcore==1.*->httpx>=0.25.2->langgraph-sdk<0.3.0,>=0.2.0->langgraph) (0.16.0)\r\n",
      "Requirement already satisfied: jsonpointer>=1.9 in /usr/local/lib/python3.11/dist-packages (from jsonpatch<2.0,>=1.33->langchain-core>=0.1->langgraph) (3.0.0)\r\n",
      "Requirement already satisfied: requests<3,>=2 in /usr/local/lib/python3.11/dist-packages (from langsmith>=0.3.45->langchain-core>=0.1->langgraph) (2.32.4)\r\n",
      "Requirement already satisfied: requests-toolbelt<2.0.0,>=1.0.0 in /usr/local/lib/python3.11/dist-packages (from langsmith>=0.3.45->langchain-core>=0.1->langgraph) (1.0.0)\r\n",
      "Requirement already satisfied: zstandard<0.24.0,>=0.23.0 in /usr/local/lib/python3.11/dist-packages (from langsmith>=0.3.45->langchain-core>=0.1->langgraph) (0.23.0)\r\n",
      "Requirement already satisfied: charset_normalizer<4,>=2 in /usr/local/lib/python3.11/dist-packages (from requests<3,>=2->langsmith>=0.3.45->langchain-core>=0.1->langgraph) (3.4.2)\r\n",
      "Requirement already satisfied: urllib3<3,>=1.21.1 in /usr/local/lib/python3.11/dist-packages (from requests<3,>=2->langsmith>=0.3.45->langchain-core>=0.1->langgraph) (2.5.0)\r\n",
      "Requirement already satisfied: sniffio>=1.1 in /usr/local/lib/python3.11/dist-packages (from anyio->httpx>=0.25.2->langgraph-sdk<0.3.0,>=0.2.0->langgraph) (1.3.1)\r\n",
      "Downloading langgraph-0.6.4-py3-none-any.whl (153 kB)\r\n",
      "\u001b[2K   \u001b[90m━━━━━━━━━━━━━━━━━━━━━━━━━━━━━━━━━━━━━━━━\u001b[0m \u001b[32m153.2/153.2 kB\u001b[0m \u001b[31m5.8 MB/s\u001b[0m eta \u001b[36m0:00:00\u001b[0m\r\n",
      "\u001b[?25hDownloading langgraph_checkpoint-2.1.1-py3-none-any.whl (43 kB)\r\n",
      "\u001b[2K   \u001b[90m━━━━━━━━━━━━━━━━━━━━━━━━━━━━━━━━━━━━━━━━\u001b[0m \u001b[32m43.9/43.9 kB\u001b[0m \u001b[31m2.4 MB/s\u001b[0m eta \u001b[36m0:00:00\u001b[0m\r\n",
      "\u001b[?25hDownloading langgraph_prebuilt-0.6.4-py3-none-any.whl (28 kB)\r\n",
      "Downloading langchain_core-0.3.74-py3-none-any.whl (443 kB)\r\n",
      "\u001b[2K   \u001b[90m━━━━━━━━━━━━━━━━━━━━━━━━━━━━━━━━━━━━━━━━\u001b[0m \u001b[32m443.5/443.5 kB\u001b[0m \u001b[31m16.4 MB/s\u001b[0m eta \u001b[36m0:00:00\u001b[0m\r\n",
      "\u001b[?25hDownloading langgraph_sdk-0.2.0-py3-none-any.whl (50 kB)\r\n",
      "\u001b[2K   \u001b[90m━━━━━━━━━━━━━━━━━━━━━━━━━━━━━━━━━━━━━━━━\u001b[0m \u001b[32m50.6/50.6 kB\u001b[0m \u001b[31m3.1 MB/s\u001b[0m eta \u001b[36m0:00:00\u001b[0m\r\n",
      "\u001b[?25hDownloading ormsgpack-1.10.0-cp311-cp311-manylinux_2_17_x86_64.manylinux2014_x86_64.whl (216 kB)\r\n",
      "\u001b[2K   \u001b[90m━━━━━━━━━━━━━━━━━━━━━━━━━━━━━━━━━━━━━━━━\u001b[0m \u001b[32m216.5/216.5 kB\u001b[0m \u001b[31m12.6 MB/s\u001b[0m eta \u001b[36m0:00:00\u001b[0m\r\n",
      "\u001b[?25hInstalling collected packages: ormsgpack, langgraph-sdk, langchain-core, langgraph-checkpoint, langgraph-prebuilt, langgraph\r\n",
      "  Attempting uninstall: langchain-core\r\n",
      "    Found existing installation: langchain-core 0.3.66\r\n",
      "    Uninstalling langchain-core-0.3.66:\r\n",
      "      Successfully uninstalled langchain-core-0.3.66\r\n",
      "Successfully installed langchain-core-0.3.74 langgraph-0.6.4 langgraph-checkpoint-2.1.1 langgraph-prebuilt-0.6.4 langgraph-sdk-0.2.0 ormsgpack-1.10.0\r\n"
     ]
    }
   ],
   "source": [
    "!pip install langgraph"
   ]
  },
  {
   "cell_type": "code",
   "execution_count": 27,
   "id": "3139aec9",
   "metadata": {
    "execution": {
     "iopub.execute_input": "2025-08-11T06:25:20.037978Z",
     "iopub.status.busy": "2025-08-11T06:25:20.037241Z",
     "iopub.status.idle": "2025-08-11T06:25:20.093494Z",
     "shell.execute_reply": "2025-08-11T06:25:20.092876Z"
    },
    "papermill": {
     "duration": 0.068192,
     "end_time": "2025-08-11T06:25:20.095032",
     "exception": false,
     "start_time": "2025-08-11T06:25:20.026840",
     "status": "completed"
    },
    "tags": []
   },
   "outputs": [],
   "source": [
    "from typing import List\n",
    "\n",
    "from langchain_core.messages import BaseMessage, ToolMessage\n",
    "from langgraph.graph import END, MessageGraph\n"
   ]
  },
  {
   "cell_type": "code",
   "execution_count": 28,
   "id": "b1fb24d0",
   "metadata": {
    "execution": {
     "iopub.execute_input": "2025-08-11T06:25:20.115168Z",
     "iopub.status.busy": "2025-08-11T06:25:20.114896Z",
     "iopub.status.idle": "2025-08-11T06:25:20.119316Z",
     "shell.execute_reply": "2025-08-11T06:25:20.118435Z"
    },
    "papermill": {
     "duration": 0.016266,
     "end_time": "2025-08-11T06:25:20.120872",
     "exception": false,
     "start_time": "2025-08-11T06:25:20.104606",
     "status": "completed"
    },
    "tags": []
   },
   "outputs": [
    {
     "name": "stderr",
     "output_type": "stream",
     "text": [
      "/tmp/ipykernel_13/1254895084.py:1: LangGraphDeprecatedSinceV10: MessageGraph is deprecated in LangGraph v1.0.0, to be removed in v2.0.0. Please use StateGraph with a `messages` key instead. Deprecated in LangGraph V1.0 to be removed in V2.0.\n",
      "  graph = MessageGraph()\n"
     ]
    }
   ],
   "source": [
    "graph = MessageGraph()"
   ]
  },
  {
   "cell_type": "code",
   "execution_count": 29,
   "id": "fd5cad33",
   "metadata": {
    "execution": {
     "iopub.execute_input": "2025-08-11T06:25:20.141200Z",
     "iopub.status.busy": "2025-08-11T06:25:20.140948Z",
     "iopub.status.idle": "2025-08-11T06:25:20.146900Z",
     "shell.execute_reply": "2025-08-11T06:25:20.146203Z"
    },
    "papermill": {
     "duration": 0.017491,
     "end_time": "2025-08-11T06:25:20.148083",
     "exception": false,
     "start_time": "2025-08-11T06:25:20.130592",
     "status": "completed"
    },
    "tags": []
   },
   "outputs": [
    {
     "data": {
      "text/plain": [
       "<langgraph.graph.message.MessageGraph at 0x79475ce45cd0>"
      ]
     },
     "execution_count": 29,
     "metadata": {},
     "output_type": "execute_result"
    }
   ],
   "source": [
    "graph.add_node(\"draft\", first_responder_chain)"
   ]
  },
  {
   "cell_type": "code",
   "execution_count": 30,
   "id": "3f85e3e1",
   "metadata": {
    "execution": {
     "iopub.execute_input": "2025-08-11T06:25:20.168597Z",
     "iopub.status.busy": "2025-08-11T06:25:20.167965Z",
     "iopub.status.idle": "2025-08-11T06:25:20.173153Z",
     "shell.execute_reply": "2025-08-11T06:25:20.172522Z"
    },
    "papermill": {
     "duration": 0.016653,
     "end_time": "2025-08-11T06:25:20.174363",
     "exception": false,
     "start_time": "2025-08-11T06:25:20.157710",
     "status": "completed"
    },
    "tags": []
   },
   "outputs": [
    {
     "data": {
      "text/plain": [
       "<langgraph.graph.message.MessageGraph at 0x79475ce45cd0>"
      ]
     },
     "execution_count": 30,
     "metadata": {},
     "output_type": "execute_result"
    }
   ],
   "source": [
    "graph.add_node(\"execute_tools\", execute_tools)"
   ]
  },
  {
   "cell_type": "code",
   "execution_count": 31,
   "id": "b0fa6615",
   "metadata": {
    "execution": {
     "iopub.execute_input": "2025-08-11T06:25:20.194802Z",
     "iopub.status.busy": "2025-08-11T06:25:20.194214Z",
     "iopub.status.idle": "2025-08-11T06:25:20.199567Z",
     "shell.execute_reply": "2025-08-11T06:25:20.198836Z"
    },
    "papermill": {
     "duration": 0.01688,
     "end_time": "2025-08-11T06:25:20.200895",
     "exception": false,
     "start_time": "2025-08-11T06:25:20.184015",
     "status": "completed"
    },
    "tags": []
   },
   "outputs": [
    {
     "data": {
      "text/plain": [
       "<langgraph.graph.message.MessageGraph at 0x79475ce45cd0>"
      ]
     },
     "execution_count": 31,
     "metadata": {},
     "output_type": "execute_result"
    }
   ],
   "source": [
    "graph.add_node(\"revisor\", revisor_chain)"
   ]
  },
  {
   "cell_type": "code",
   "execution_count": 32,
   "id": "130e2f59",
   "metadata": {
    "execution": {
     "iopub.execute_input": "2025-08-11T06:25:20.220875Z",
     "iopub.status.busy": "2025-08-11T06:25:20.220377Z",
     "iopub.status.idle": "2025-08-11T06:25:20.225191Z",
     "shell.execute_reply": "2025-08-11T06:25:20.224466Z"
    },
    "papermill": {
     "duration": 0.016013,
     "end_time": "2025-08-11T06:25:20.226375",
     "exception": false,
     "start_time": "2025-08-11T06:25:20.210362",
     "status": "completed"
    },
    "tags": []
   },
   "outputs": [
    {
     "data": {
      "text/plain": [
       "<langgraph.graph.message.MessageGraph at 0x79475ce45cd0>"
      ]
     },
     "execution_count": 32,
     "metadata": {},
     "output_type": "execute_result"
    }
   ],
   "source": [
    "graph.add_edge(\"draft\", \"execute_tools\")"
   ]
  },
  {
   "cell_type": "code",
   "execution_count": 33,
   "id": "4a6439d6",
   "metadata": {
    "execution": {
     "iopub.execute_input": "2025-08-11T06:25:20.247196Z",
     "iopub.status.busy": "2025-08-11T06:25:20.246440Z",
     "iopub.status.idle": "2025-08-11T06:25:20.252198Z",
     "shell.execute_reply": "2025-08-11T06:25:20.251224Z"
    },
    "papermill": {
     "duration": 0.017468,
     "end_time": "2025-08-11T06:25:20.253560",
     "exception": false,
     "start_time": "2025-08-11T06:25:20.236092",
     "status": "completed"
    },
    "tags": []
   },
   "outputs": [
    {
     "data": {
      "text/plain": [
       "<langgraph.graph.message.MessageGraph at 0x79475ce45cd0>"
      ]
     },
     "execution_count": 33,
     "metadata": {},
     "output_type": "execute_result"
    }
   ],
   "source": [
    "graph.add_edge(\"execute_tools\", \"revisor\")"
   ]
  },
  {
   "cell_type": "code",
   "execution_count": 34,
   "id": "84aaf927",
   "metadata": {
    "execution": {
     "iopub.execute_input": "2025-08-11T06:25:20.274343Z",
     "iopub.status.busy": "2025-08-11T06:25:20.274086Z",
     "iopub.status.idle": "2025-08-11T06:25:20.277738Z",
     "shell.execute_reply": "2025-08-11T06:25:20.276973Z"
    },
    "papermill": {
     "duration": 0.015295,
     "end_time": "2025-08-11T06:25:20.278963",
     "exception": false,
     "start_time": "2025-08-11T06:25:20.263668",
     "status": "completed"
    },
    "tags": []
   },
   "outputs": [],
   "source": [
    "MAX_ITERATIONS = 2"
   ]
  },
  {
   "cell_type": "code",
   "execution_count": 35,
   "id": "407f7148",
   "metadata": {
    "execution": {
     "iopub.execute_input": "2025-08-11T06:25:20.299193Z",
     "iopub.status.busy": "2025-08-11T06:25:20.298913Z",
     "iopub.status.idle": "2025-08-11T06:25:20.303393Z",
     "shell.execute_reply": "2025-08-11T06:25:20.302732Z"
    },
    "papermill": {
     "duration": 0.016029,
     "end_time": "2025-08-11T06:25:20.304611",
     "exception": false,
     "start_time": "2025-08-11T06:25:20.288582",
     "status": "completed"
    },
    "tags": []
   },
   "outputs": [],
   "source": [
    "def event_loop(state: List[BaseMessage]) -> str:\n",
    "    count_tool_visits = sum(isinstance(item, ToolMessage) for item in state)\n",
    "    num_iterations = count_tool_visits\n",
    "    if num_iterations > MAX_ITERATIONS:\n",
    "        return END\n",
    "    return \"execute_tools\"\n",
    "        "
   ]
  },
  {
   "cell_type": "code",
   "execution_count": 36,
   "id": "6281503b",
   "metadata": {
    "execution": {
     "iopub.execute_input": "2025-08-11T06:25:20.325676Z",
     "iopub.status.busy": "2025-08-11T06:25:20.325404Z",
     "iopub.status.idle": "2025-08-11T06:25:20.330567Z",
     "shell.execute_reply": "2025-08-11T06:25:20.329926Z"
    },
    "papermill": {
     "duration": 0.017245,
     "end_time": "2025-08-11T06:25:20.331777",
     "exception": false,
     "start_time": "2025-08-11T06:25:20.314532",
     "status": "completed"
    },
    "tags": []
   },
   "outputs": [
    {
     "data": {
      "text/plain": [
       "<langgraph.graph.message.MessageGraph at 0x79475ce45cd0>"
      ]
     },
     "execution_count": 36,
     "metadata": {},
     "output_type": "execute_result"
    }
   ],
   "source": [
    "graph.add_conditional_edges(\"revisor\", event_loop)"
   ]
  },
  {
   "cell_type": "code",
   "execution_count": 37,
   "id": "701d2676",
   "metadata": {
    "execution": {
     "iopub.execute_input": "2025-08-11T06:25:20.352354Z",
     "iopub.status.busy": "2025-08-11T06:25:20.352081Z",
     "iopub.status.idle": "2025-08-11T06:25:20.356864Z",
     "shell.execute_reply": "2025-08-11T06:25:20.356194Z"
    },
    "papermill": {
     "duration": 0.016497,
     "end_time": "2025-08-11T06:25:20.358115",
     "exception": false,
     "start_time": "2025-08-11T06:25:20.341618",
     "status": "completed"
    },
    "tags": []
   },
   "outputs": [
    {
     "data": {
      "text/plain": [
       "<langgraph.graph.message.MessageGraph at 0x79475ce45cd0>"
      ]
     },
     "execution_count": 37,
     "metadata": {},
     "output_type": "execute_result"
    }
   ],
   "source": [
    "graph.set_entry_point(\"draft\")"
   ]
  },
  {
   "cell_type": "code",
   "execution_count": 38,
   "id": "6d6286a9",
   "metadata": {
    "execution": {
     "iopub.execute_input": "2025-08-11T06:25:20.379324Z",
     "iopub.status.busy": "2025-08-11T06:25:20.378793Z",
     "iopub.status.idle": "2025-08-11T06:25:20.385612Z",
     "shell.execute_reply": "2025-08-11T06:25:20.384956Z"
    },
    "papermill": {
     "duration": 0.018893,
     "end_time": "2025-08-11T06:25:20.386991",
     "exception": false,
     "start_time": "2025-08-11T06:25:20.368098",
     "status": "completed"
    },
    "tags": []
   },
   "outputs": [],
   "source": [
    "app = graph.compile()"
   ]
  },
  {
   "cell_type": "code",
   "execution_count": 39,
   "id": "01edd5cb",
   "metadata": {
    "execution": {
     "iopub.execute_input": "2025-08-11T06:25:20.408019Z",
     "iopub.status.busy": "2025-08-11T06:25:20.407481Z",
     "iopub.status.idle": "2025-08-11T06:25:20.415154Z",
     "shell.execute_reply": "2025-08-11T06:25:20.414168Z"
    },
    "papermill": {
     "duration": 0.019445,
     "end_time": "2025-08-11T06:25:20.416431",
     "exception": false,
     "start_time": "2025-08-11T06:25:20.396986",
     "status": "completed"
    },
    "tags": []
   },
   "outputs": [
    {
     "name": "stdout",
     "output_type": "stream",
     "text": [
      "---\n",
      "config:\n",
      "  flowchart:\n",
      "    curve: linear\n",
      "---\n",
      "graph TD;\n",
      "\t__start__([<p>__start__</p>]):::first\n",
      "\tdraft(draft)\n",
      "\texecute_tools(execute_tools)\n",
      "\trevisor(revisor)\n",
      "\t__end__([<p>__end__</p>]):::last\n",
      "\t__start__ --> draft;\n",
      "\tdraft --> execute_tools;\n",
      "\texecute_tools --> revisor;\n",
      "\trevisor --> __end__;\n",
      "\tclassDef default fill:#f2f0ff,line-height:1.2\n",
      "\tclassDef first fill-opacity:0\n",
      "\tclassDef last fill:#bfb6fc\n",
      "\n"
     ]
    }
   ],
   "source": [
    "print(app.get_graph().draw_mermaid())"
   ]
  },
  {
   "cell_type": "code",
   "execution_count": 40,
   "id": "fe7c390e",
   "metadata": {
    "execution": {
     "iopub.execute_input": "2025-08-11T06:25:20.437122Z",
     "iopub.status.busy": "2025-08-11T06:25:20.436857Z",
     "iopub.status.idle": "2025-08-11T06:27:02.231779Z",
     "shell.execute_reply": "2025-08-11T06:27:02.230908Z"
    },
    "papermill": {
     "duration": 101.807249,
     "end_time": "2025-08-11T06:27:02.233495",
     "exception": false,
     "start_time": "2025-08-11T06:25:20.426246",
     "status": "completed"
    },
    "tags": []
   },
   "outputs": [],
   "source": [
    "response = app.invoke(\"Write about how small business can leverage AI to grow\")"
   ]
  },
  {
   "cell_type": "code",
   "execution_count": 41,
   "id": "7bb9e7d2",
   "metadata": {
    "execution": {
     "iopub.execute_input": "2025-08-11T06:27:02.255630Z",
     "iopub.status.busy": "2025-08-11T06:27:02.255036Z",
     "iopub.status.idle": "2025-08-11T06:27:02.259798Z",
     "shell.execute_reply": "2025-08-11T06:27:02.258872Z"
    },
    "papermill": {
     "duration": 0.016862,
     "end_time": "2025-08-11T06:27:02.261013",
     "exception": false,
     "start_time": "2025-08-11T06:27:02.244151",
     "status": "completed"
    },
    "tags": []
   },
   "outputs": [
    {
     "name": "stdout",
     "output_type": "stream",
     "text": [
      "AI can improve customer service by automating tasks and providing insights that support agents can use to make informed decisions. It can analyze customer data to identify trends, preferences, and common issues, enabling businesses to tailor their products and services to meet demand.\", \n"
     ]
    }
   ],
   "source": [
    "print(response[-1].tool_calls[0][\"args\"][\"answer\"])"
   ]
  },
  {
   "cell_type": "code",
   "execution_count": 42,
   "id": "1a73f51f",
   "metadata": {
    "execution": {
     "iopub.execute_input": "2025-08-11T06:27:02.282310Z",
     "iopub.status.busy": "2025-08-11T06:27:02.282035Z",
     "iopub.status.idle": "2025-08-11T06:27:02.292621Z",
     "shell.execute_reply": "2025-08-11T06:27:02.291893Z"
    },
    "papermill": {
     "duration": 0.025127,
     "end_time": "2025-08-11T06:27:02.296619",
     "exception": false,
     "start_time": "2025-08-11T06:27:02.271492",
     "status": "completed"
    },
    "tags": []
   },
   "outputs": [
    {
     "name": "stdout",
     "output_type": "stream",
     "text": [
      "[HumanMessage(content='Write about how small business can leverage AI to grow', additional_kwargs={}, response_metadata={}, id='8bfc1c0a-1011-4274-ab73-851b7a5d5d53'), AIMessage(content='', additional_kwargs={'tool_calls': [{'id': 'chatcmpl-tool-cc56f5c1fb95428692c07bee51c2a9c9', 'type': 'function', 'function': {'name': 'AnswerQuestion', 'arguments': '{\"answer\": \"Small businesses can leverage AI to grow in various ways, including automation of manual tasks, data analysis, and customer service. AI can help automate tasks such as bookkeeping, inventory management, and marketing, freeing up time for business owners to focus on higher-level tasks. Additionally, AI-powered tools can analyze customer data to provide insights on behavior, preferences, and needs, enabling businesses to tailor their products and services to meet demand. AI-powered chatbots can also provide 24/7 customer support, improving customer satisfaction and loyalty. Furthermore, AI can help small businesses identify new opportunities and optimize their operations, leading to increased efficiency and revenue growth. Overall, AI can be a powerful tool for small businesses looking to scale and expand their operations.\", \"search_queries\": [\"AI for small business\", \"AI-powered automation\", \"AI for customer service\"], \"reflection\": {\"missing\": \"The answer could benefit from more specific examples of AI-powered tools and platforms that small businesses can use.\", \"superflous\": \"None of the information provided is unnecessary or repetitive.\"}}'}}]}, response_metadata={'role': 'assistant', 'content': None, 'tool_calls': [{'id': 'chatcmpl-tool-cc56f5c1fb95428692c07bee51c2a9c9', 'type': 'function', 'function': {'name': 'AnswerQuestion', 'arguments': '{\"answer\": \"Small businesses can leverage AI to grow in various ways, including automation of manual tasks, data analysis, and customer service. AI can help automate tasks such as bookkeeping, inventory management, and marketing, freeing up time for business owners to focus on higher-level tasks. Additionally, AI-powered tools can analyze customer data to provide insights on behavior, preferences, and needs, enabling businesses to tailor their products and services to meet demand. AI-powered chatbots can also provide 24/7 customer support, improving customer satisfaction and loyalty. Furthermore, AI can help small businesses identify new opportunities and optimize their operations, leading to increased efficiency and revenue growth. Overall, AI can be a powerful tool for small businesses looking to scale and expand their operations.\", \"search_queries\": [\"AI for small business\", \"AI-powered automation\", \"AI for customer service\"], \"reflection\": {\"missing\": \"The answer could benefit from more specific examples of AI-powered tools and platforms that small businesses can use.\", \"superflous\": \"None of the information provided is unnecessary or repetitive.\"}}'}}], 'token_usage': {'prompt_tokens': 479, 'total_tokens': 700, 'completion_tokens': 221}, 'finish_reason': 'tool_calls', 'model_name': 'meta/llama-3.1-70b-instruct'}, id='run--db54bcd9-7171-43d0-ba74-bd549f71972f-0', tool_calls=[{'name': 'AnswerQuestion', 'args': {'answer': 'Small businesses can leverage AI to grow in various ways, including automation of manual tasks, data analysis, and customer service. AI can help automate tasks such as bookkeeping, inventory management, and marketing, freeing up time for business owners to focus on higher-level tasks. Additionally, AI-powered tools can analyze customer data to provide insights on behavior, preferences, and needs, enabling businesses to tailor their products and services to meet demand. AI-powered chatbots can also provide 24/7 customer support, improving customer satisfaction and loyalty. Furthermore, AI can help small businesses identify new opportunities and optimize their operations, leading to increased efficiency and revenue growth. Overall, AI can be a powerful tool for small businesses looking to scale and expand their operations.', 'search_queries': ['AI for small business', 'AI-powered automation', 'AI for customer service'], 'reflection': {'missing': 'The answer could benefit from more specific examples of AI-powered tools and platforms that small businesses can use.', 'superflous': 'None of the information provided is unnecessary or repetitive.'}}, 'id': 'chatcmpl-tool-cc56f5c1fb95428692c07bee51c2a9c9', 'type': 'tool_call'}], usage_metadata={'input_tokens': 479, 'output_tokens': 221, 'total_tokens': 700}, role='assistant'), ToolMessage(content='{\"AI for small business\": [{\"title\": \"AI For Small Business (Tools and Best Practices)\", \"url\": \"https://www.salesforce.com/blog/ai-tools-for-small-business/\", \"content\": \"AI for small business is simply utilizing artificial intelligence solutions for remedial tasks that take up time and resources. AI tools are designed to mimic portions of human intelligence, specifically information processing and decision-making. For small businesses, AI offers the opportunity to streamline processes, reduce manual effort, and keep overhead costs down. [...] With the growth of AI, consider it a bonus for your small business. It will only get easier for you, from here on out. There are several benefits of AI for small businesses, including:\\\\n\\\\n### Improved customer service\\\\n\\\\nOur research shows that 65% of customers now expect companies to adapt to their changing needs and preferences. AI makes it possible to respond quicker to customer needs on prospects\\\\u2019 preferred channels and address issues in near real time. [...] The Small Business and Entrepreneurship Council (SBE) survey reports that 76% of small business owners say AI allows them to focus on high-value tasks, such as developing new products or services or creating targeted marketing campaigns, driving increased productivity. This is often accomplished by automating manual or repetitive tasks.\", \"score\": 0.9392538}, {\"title\": \"AI for small business\", \"url\": \"https://www.sba.gov/business-guide/manage-your-business/ai-small-business\", \"content\": \"AI for small business\\\\n=====================\\\\n\\\\n Small businesses can use AI tools and applications to find solutions for all kinds of issues. Read up on both the risks and benefits. \\\\n\\\\n  \\\\n\\\\nContent\\\\n-------\\\\n\\\\n  \\\\n\\\\nTechnology allows small businesses to be more competitive in today\\\\u2019s fast-paced economy. The federal government has adopted Artificial intelligence (AI) as a way to help them better serve the public. As a small business owner, AI can help your small businesses do more with less. [...] Make better business decisions.AI can help you analyze your small business data and pick out common themes. Use your own client data to make better strategic decisions. Data inclusive tools can also help you compare your business to similar businesses and find gaps that you can address or advantages you can exploit to give your business an extra boost. [...] SBA is dedicated to informing small businesses about the ethical use of AI tools. We also want to help you think about effective ways to implement AI into your business practices. AI is relatively new, so start small. If you are unsure what tool you may need, many AI tools offer basic services for free or at a lower cost. Try testing them to see if they add value to your business. You may find they improve internal efficiencies, freeing up your time to focus on growing your business.\", \"score\": 0.9163571}, {\"title\": \"How Small Businesses Can Benefit From Artificial ...\", \"url\": \"https://blog.workday.com/en-us/how-small-businesses-can-benefit-from-artificial-intelligence.html\", \"content\": \"From automating routine tasks to driving more data-driven decisions, artificial intelligence for small businesses is helping cut costs, work smarter, and drive more reliable growth. But beyond efficiency, it\\\\u2019s also changing the way small businesses operate, making advanced capabilities more accessible and allowing teams to do more with less.\\\\n\\\\n## Why AI Matters for Small Businesses [...] By taking a measured, step-by-step approach, small businesses can seamlessly integrate AI into their operations\\\\u2014boosting efficiency, reducing costs, and unlocking new opportunities for growth.\\\\n\\\\n## The Future of AI for Small Businesses\\\\n\\\\nAs AI technology continues to advance, it will become even more accessible, intuitive, and impactful. Small businesses that embrace emerging AI trends will gain a competitive edge. These are the key trends to watch.\\\\n\\\\n### Adaptive AI Systems [...] Small businesses are constantly finding ways to punch above their weight\\\\u2014solving big challenges with fewer resources. AI is becoming a key part of that equation. Instead of being overwhelmed by data or manual tasks, small businesses can leverage AI to tackle problems more strategically. With AI, SMBs can:\", \"score\": 0.9132521}, {\"title\": \"How Small Businesses Are Using AI\", \"url\": \"https://www.forbes.com/sites/allbusiness/2024/09/19/how-small-businesses-are-using-ai/\", \"content\": \"Dylan Sellberg: Historically, small business growth relied on having more resources. Today, AI is helping small businesses grow without needing to add more. Generative AI allows small companies to scale their output with fewer resources. For example, businesses can use AI tools to draft marketing copy, social media posts, and blog articles, and it can automate time-consuming tasks such as answering simple customer questions, handling data entry, and managing scheduling. This reduces the [...] Sellberg: Currently, AI is making the most significant impact on go-to-market teams across marketing, sales, and service. These teams are critical for small business growth because they\\\\u2019re responsible for bringing products and services to market, ensuring adoption, and generating revenue. [...] More from AllBusiness:\\\\n\\\\n## Implementing AI in a small business\\\\n\\\\nLesonsky: How do small businesses best train their employees to deploy AI?\\\\n\\\\nSellberg: Here are a couple of examples:\\\\n\\\\nStart with a problem and focus on a specific use case: Instead of getting caught up in the AI hype, identify a specific business problem that AI can solve. For instance, if your business struggles with managing customer inquiries, start by implementing a chatbot solution.\", \"score\": 0.90692574}, {\"title\": \"AI trends \\\\u2013 how AI can help small businesses\", \"url\": \"https://www.british-business-bank.co.uk/business-guidance/guidance-articles/business-essentials/ai-trends-how-ai-can-help-small-businesses\", \"content\": \"Common AI technology that smaller businesses will likely encounter includes chatbots for responding to customer issues, tools to analyse data, and services to create content.\\\\n\\\\nAdopting AI isn\\\\u2019t without its challenges for smaller businesses, so entrepreneurs should carefully research the tools available.\\\\n\\\\nYou should also consider how the business will use the technology, how it will be implemented, and what impact it will have.\\\\n\\\\nPotential problems to consider include the following: [...] Research in 2020 by Aberdeen (.PDF, 2.0 MB)(Opens in new window) found that companies using AI capabilities achieve a 3.5 times greater annual increase in customer satisfaction rates.\\\\n\\\\nOne of the most common uses of AI by businesses is customer service chatbots, such as Freshchat, Happy Fox, and Kustomer, to handle routine questions.\\\\n\\\\nThis helps relieve the pressure on human customer service agents and more quickly deal with everyday issues. [...] There are thousands of AI solutions available to small and medium businesses, which can generate many benefits, including helping entrepreneurs better process data, make improved decisions, automate tasks, and create content to reach their target customers.\\\\n\\\\nWhat is AI for smaller businesses?\\\\n----------------------------------\", \"score\": 0.8995547}], \"AI-powered automation\": [{\"title\": \"7 AI Automation Examples Transforming Top Industries in 2025\", \"url\": \"https://www.flowforma.com/blog/ai-automation-examples\", \"content\": \"|  |  |  |\\\\n| --- | --- | --- |\\\\n| Industry | AI Automation Use Case | Key Benefit |\\\\n| Energy | AI-powered automation replaces code-heavy legacy workflows with auto-assigning records, unifying process changes and approvals in one place. |  Increases cost-savings  Boosts efficiency  Increases approval processes | [...] Industry\\\\n\\\\nAI Automation Use Case\\\\n\\\\nKey Benefit\\\\n\\\\nEnergy\\\\n\\\\nAI-powered automation replaces code-heavy legacy workflows with auto-assigning records, unifying process changes and approvals in one place.\\\\n\\\\nFinancial Services\\\\n\\\\nAI-driven fraud detection continuously monitors transactions and flags suspicious activities.\\\\n\\\\nHealthcare\\\\n\\\\nAI automates administrative processes, patient details, and operation notes while unifying siloed communication across departments.\\\\n\\\\nConstruction [...] It is time to say goodbye to manual tasks and unlock operational excellence with secure, AI-powered automation. Start your journey today\\\\u2014sign up for a 7-day free trial with FlowForma!\\\\n\\\\nAutomate Complex Processes to Drive Operational Excellence   Begin your 14-day free trial and discover how FlowForma can effortlessly automate even your most complex processes.    \\\\n\\\\n## Gerard Newman, CTO\", \"score\": 0.9123193}, {\"title\": \"What Is AI Automation?\", \"url\": \"https://www.salesforce.com/artificial-intelligence/ai-automation/\", \"content\": \"Scalability: With machine learning and cloud computing, AI-powered automation can scale with increasing data and demands.\\\\n Speed: AI-driven autonomous agents enable faster response times in customer interactions.\\\\n Accuracy: AI systems excel at precision, especially in tasks such as data entry, quality control, and image recognition.\\\\n Complex tasks: AI can tackle multilayer work that requires real-time decision-making and pattern recognition.\\\\n\\\\n## Examples of AI automation [...] AI-based automation provides significant advantages over traditional automation. It streamlines repetitive tasks, reduces human error, and speeds up processes. The time saved with AI and automation allows employees to focus on strategic, high-impact work that drives growth. By working faster and smarter, intelligent automation helps businesses be more efficient, save money, and stay competitive. [...] AI automation works by combining artificial intelligence techniques with automation processes to perform tasks and make practical decisions, similar to how a human might. It uses algorithms as the foundation for its processes, driving the decision-making and actions. These algorithms consist of sets of rules and calculations and help AI systems analyze data, learn patterns, and make decisions autonomously.\", \"score\": 0.8846886}, {\"title\": \"Key Benefits of AI in 2025: How AI Transforms Industries\", \"url\": \"https://ischool.syracuse.edu/benefits-of-ai/\", \"content\": \"This automation, in addition to saving time, increases productivity across teams. For example, AI-powered tools that assist with scheduling or automating routine reporting tasks are improving office productivity, enabling workers to allocate their time toward more high-value activities.\\\\n\\\\nA study showed that AI-powered customer support agents could handle13.8% more inquiriesper hour compared to traditional methods while also improving work quality by 1.3%. [...] A studyconducted by McKinsey highlighted that AI-driven automation can lead to significant cost reductions for businesses, particularly in human resources. Additionally, the study found that supply chain and inventory management see the highest revenue increases, with more than 5% growth reported by the majority of respondents.\", \"score\": 0.878825}, {\"title\": \"What is AI Automation? Everything you need to know\", \"url\": \"https://www.flowforma.com/blog/ai-automation\", \"content\": \"Consider a customer service chatbot: a basic bot follows a script, while an AI-powered bot understands intent, learns from each interaction, and continuously improves its responses. The difference? One is static; the other adapts and refines itself.\\\\n\\\\nIn short, automation boosts speed and efficiency, while AI infuses adaptability and intelligence, making processes smarter and more dynamic. [...] Artificial intelligence automation or AI automation is the fusion of artificial intelligence and automation, designed to handle repetitive tasks with minimal human intervention. It adapts using machine learning, natural language processing, and predictive analytics, making it more flexible, dynamic, and capable of handling complex workflows. [...] For instance, Downer simplified their most complex process, the Permit to Dig, using FlowForma\\\\u2019s AI-powered automation. A previously manual, paper-based task mandating multiple approvals has been transformed into a streamlined digital workflow.\", \"score\": 0.8763069}, {\"title\": \"What is AI Automation? All You Need to Know\", \"url\": \"https://www.blueprism.com/guides/ai-automation/\", \"content\": \"The reason more organizations turn to AI-powered automation is because of the business benefits. AI\\\\u2019s huge processing power increases the speed, efficiency and scalability of your automations, helping you achieve a better return on investment (ROI).\\\\n\\\\n### Team productivity [...] We\\\\u2019ve learned that intelligent AI automation, or intelligent automation, uses the cognitive \\\\u201cthinking\\\\u201d capabilities of AI linked with robotic process automation (RPA)\\\\u2019s ability to perform tasks to streamline business processes. And now, with gen AI and agentic automation making their debut in AI businesses, the automation possibilities just got a lot broader, where AI adapts to new situations and makes real-time decisions.\\\\n\\\\nHere are your key takeaways for automating more with AI:\\\\n\\\\nAlexis [...] AI automation technologies (AKA intelligent automation or Enterprise AI) allow organizations to augment their human workers with these IA digital workers to streamline business processes. These digital workers can sometimes be referred to as AI workers, or, under Enterprise AI, \\\\u201centerprise agents.\\\\u201d This helps deal with skills and labor shortages and frees employees from boring, repetitive tasks so they can focus on higher-value strategic work.\", \"score\": 0.8706085}], \"AI for customer service\": [{\"title\": \"How to implement AI in customer service - Work Life by Atlassian\", \"url\": \"https://www.atlassian.com/blog/artificial-intelligence/ai-customer-service\", \"content\": \"Teams use AI in customer service to perform tasks typically requiring human intelligence. These AI systems are designed to understand, learn from, and respond to inquiries in a way that mimics human interaction. The core technologies driving AI customer service include natural language processing (NLP), machine learning algorithms, and data analytics. [...] Chatbots and virtual assistants are among the most visible applications of AI for customer service. These tools can manage a range of customer queries, from simple FAQs to more complex issues that may require routing to human agents. Using NLP, these systems can understand the intent behind customer messages and provide relevant responses or solutions.\\\\n\\\\nAI tools work with customer service functions to improve efficiency and customer satisfaction. For instance, AI can: [...] With the help of AI technologies, companies can provide support for their customers more efficiently and better than before. AI for customer service offers a range of capabilities that help businesses interact with their customers. Keep reading to learn how to meet growing consumer expectations by integrating AI into customer service.\\\\n\\\\n## Understanding AI in customer service\", \"score\": 0.9237645}, {\"title\": \"AI in Customer Service: Everything You Need to Know | Salesforce US\", \"url\": \"https://www.salesforce.com/service/ai/customer-service-ai/\", \"content\": \"AI improves customer service efficiency by automating time-consuming tasks such as ticketing, response generation, and case routing. This reduces wait times and case resolution, lets reps focus on higher-value work, and ensures a more seamless customer service experience. AI in customer service plays a critical role in improving customer satisfaction while also helping businesses scale their customer supportoperations effectively. [...] AI in customer service uses artificial intelligence technologies like AI agents built with Agentforce to enhance customer interactions and streamline support processes. AI agents can handle common and complex inquiries, automate responses, and analyze customer sentiment, allowing businesses to provide faster, more personalized support. By using natural language processing (NLP) and predictive analytics, AI agents can understand customer needs, recommend solutions, and even escalate complex [...] AI in customer service enables companies to meet rising customer demands and expectations with fewer resources. The productivity boost from AI not only improves service rep efficiency but also helps businesses build stronger, more loyal customer relationships in today\\'s fast-paced digital world.\\\\n\\\\nIn this guide, we\\\\u2019ll look at how you can use AI in customer service in your business, and show you how the best customer service software can set you up for long-term success.\", \"score\": 0.9205687}, {\"title\": \"AI in customer service: All you need to know - Zendesk\", \"url\": \"https://www.zendesk.com/blog/ai-customer-service/\", \"content\": \"Last updated October 10, 2024\\\\n\\\\nA man on a phone sits in a green chair next to a purple suitcase and a window with a plane taking off in the background.\\\\n\\\\n## What is AI in customer service?\\\\n\\\\nAI in customer service refers to the use of intelligent technology to create support experiences that are fast, efficient, and personalized. AI-powered customer service tools enable organizations to automate experiences, streamline workflows, and assist agents\\\\u2014ultimately saving time and money. [...] One of the most significant benefits of AI in customer service is its ability to understand customer questions and needs accurately. However, not all AI is capable of doing so effectively. Look for AI systems trained on CX conversations. In addition to providing a poor CX, manual training can often be time-consuming and costly. [...] AI in customer service is about leveraging intelligent technology to provide quick, personalized, and seamless support experiences. When implemented correctly, AI can foster authentically human customer connections: The Zendesk Customer Experience Trends Report 2024 revealed that more than two-thirds of CX organizations agree that AI can help businesses provide the warm and familiar human service interactions that build loyalty.\", \"score\": 0.9119436}, {\"title\": \"How AI Benefits Customer Service in 2025 + Examples - VoiceSpin\", \"url\": \"https://www.voicespin.com/blog/how-ai-benefits-customer-service-and-how-it-is-used-in-contact-centers/\", \"content\": \"When AI is integrated into your customer service process, it ultimately helps improve customer service and enhance the customer experience \\\\u2013 and consumers have actually become more responsive to AI solutions, too. According to a Salesforce study, 69% of consumers say they are open to the use of AI to improve their experiences. AI agent assist and sentiment analysis are great examples of customer service AI solutions that can help support reps deliver a more efficient and more personalized [...] With customer expectations rising faster than innovations are adopted, it\\\\u2019s about time to embrace AI and unlock new perspectives to improve the experience for both your support reps and your customers. So how can AI help customer service? In this blog, we\\\\u2019re about to explore in-depth how AI can be used in customer service and support to set the stage for improved support efficiency and better CX.\\\\n\\\\nLooking for a   \\\\nContact Center Solution? [...] Generative AI is already transforming the customer service industry, enhancing the efficiency and productivity of customer support reps with AI-powered assistance. By using Natural Language Processing and Machine Learning to analyze conversations between agents and customers, Generative AI tools (also known as AI agent assist solutions) retrieve relevant data from your knowledge base and CRM and generate ready-to-send responses that your reps can then evaluate, edit, and use without having to\", \"score\": 0.90102744}, {\"title\": \"The Future of AI in Customer Service | IBM\", \"url\": \"https://www.ibm.com/think/insights/customer-service-future\", \"content\": \"Generative AI is evolving into a real-time partner that empowers customer service agents with instant access to knowledge bases, customer history and recommended actions during interactions. Beyond the conversation, AI will automatically summarize chats, update records and flag follow-ups\\\\u2014boosting efficiency and reducing agent burnout.\\\\n\\\\nIn fact, in an IBM Institute for Business Value (IBV) study, mature AI adopters reported a 15% higher human agent satisfaction score.1 [...] In customer service, AI agents have transcended typical automation. They harness gen AI capabilities to engage in lifelike conversations, providing personalized and contextually relevant responses. They can make decisions, designing workflows and interacting with various tools such as application program interfaces (APIs) and databases. For example, if a customer reports a billing issue, an agentic AI system can analyze the account, identify discrepancies, apply corrections and notify the [...] Generative AI, machine learning and agentic AI are now essential components of the customer experience ecosystem, helping companies deliver faster, more accurate and more personalized customer service interactions. Globally, businesses recognize the power of AI. Mature AI adopters (organizations operating or optimizing AI-powered customer service) reported 17% higher customer satisfaction.1\\\\n\\\\n### Proactive support that remembers\", \"score\": 0.8943568}]}', id='6056af4f-9098-43c8-bcaf-772d83c97a85', tool_call_id='chatcmpl-tool-cc56f5c1fb95428692c07bee51c2a9c9'), AIMessage(content='', additional_kwargs={'tool_calls': [{'id': 'chatcmpl-tool-5a5612db4d0843f89308f2f4d4ece6a2', 'type': 'function', 'function': {'name': 'ReviseAnswer', 'arguments': '{\"answer\": \"Small businesses can leverage AI to grow in various ways, including automation of manual tasks, data analysis, and customer service. AI can help automate tasks such as bookkeeping, inventory management, and marketing, freeing up time for business owners to focus on higher-level tasks. Additionally, AI-powered tools can analyze customer data to provide insights on behavior, preferences, and needs, enabling businesses to tailor their products and services to meet demand. AI-powered chatbots can also provide 24/7 customer support, improving customer satisfaction and loyalty. Furthermore, AI can help small businesses identify new opportunities and optimize their operations, leading to increased efficiency and revenue growth. Overall, AI can be a powerful tool for small businesses looking to scale and expand their operations.\", \"search_queries\": [\"AI for small business\", \"AI-powered automation\", \"AI for customer service\"], \"reflection\": {\"missing\": \"The answer could benefit from more specific examples of AI-powered tools and platforms that small businesses can use.\", \"superflous\": \"None of the information provided is unnecessary or repetitive.\"}, \"references\": [\"https://www.salesforce.com/blog/ai-tools-for-small-business/\", \"https://www.sba.gov/business-guide/manage-your-business/ai-small-business\", \"https://www.forbes.com/sites/allbusiness/2024/09/19/how-small-businesses-are-using-ai/\"]}'}}]}, response_metadata={'role': 'assistant', 'content': None, 'tool_calls': [{'id': 'chatcmpl-tool-5a5612db4d0843f89308f2f4d4ece6a2', 'type': 'function', 'function': {'name': 'ReviseAnswer', 'arguments': '{\"answer\": \"Small businesses can leverage AI to grow in various ways, including automation of manual tasks, data analysis, and customer service. AI can help automate tasks such as bookkeeping, inventory management, and marketing, freeing up time for business owners to focus on higher-level tasks. Additionally, AI-powered tools can analyze customer data to provide insights on behavior, preferences, and needs, enabling businesses to tailor their products and services to meet demand. AI-powered chatbots can also provide 24/7 customer support, improving customer satisfaction and loyalty. Furthermore, AI can help small businesses identify new opportunities and optimize their operations, leading to increased efficiency and revenue growth. Overall, AI can be a powerful tool for small businesses looking to scale and expand their operations.\", \"search_queries\": [\"AI for small business\", \"AI-powered automation\", \"AI for customer service\"], \"reflection\": {\"missing\": \"The answer could benefit from more specific examples of AI-powered tools and platforms that small businesses can use.\", \"superflous\": \"None of the information provided is unnecessary or repetitive.\"}, \"references\": [\"https://www.salesforce.com/blog/ai-tools-for-small-business/\", \"https://www.sba.gov/business-guide/manage-your-business/ai-small-business\", \"https://www.forbes.com/sites/allbusiness/2024/09/19/how-small-businesses-are-using-ai/\"]}'}}], 'token_usage': {'prompt_tokens': 5138, 'total_tokens': 5425, 'completion_tokens': 287}, 'finish_reason': 'tool_calls', 'model_name': 'meta/llama-3.1-70b-instruct'}, id='run--cdc33c86-c5a6-4b53-b14a-620f10f8fc3f-0', tool_calls=[{'name': 'ReviseAnswer', 'args': {'answer': 'Small businesses can leverage AI to grow in various ways, including automation of manual tasks, data analysis, and customer service. AI can help automate tasks such as bookkeeping, inventory management, and marketing, freeing up time for business owners to focus on higher-level tasks. Additionally, AI-powered tools can analyze customer data to provide insights on behavior, preferences, and needs, enabling businesses to tailor their products and services to meet demand. AI-powered chatbots can also provide 24/7 customer support, improving customer satisfaction and loyalty. Furthermore, AI can help small businesses identify new opportunities and optimize their operations, leading to increased efficiency and revenue growth. Overall, AI can be a powerful tool for small businesses looking to scale and expand their operations.', 'search_queries': ['AI for small business', 'AI-powered automation', 'AI for customer service'], 'reflection': {'missing': 'The answer could benefit from more specific examples of AI-powered tools and platforms that small businesses can use.', 'superflous': 'None of the information provided is unnecessary or repetitive.'}, 'references': ['https://www.salesforce.com/blog/ai-tools-for-small-business/', 'https://www.sba.gov/business-guide/manage-your-business/ai-small-business', 'https://www.forbes.com/sites/allbusiness/2024/09/19/how-small-businesses-are-using-ai/']}, 'id': 'chatcmpl-tool-5a5612db4d0843f89308f2f4d4ece6a2', 'type': 'tool_call'}], usage_metadata={'input_tokens': 5138, 'output_tokens': 287, 'total_tokens': 5425}, role='assistant'), ToolMessage(content='{\"AI for small business\": [{\"title\": \"AI For Small Business (Tools and Best Practices)\", \"url\": \"https://www.salesforce.com/blog/ai-tools-for-small-business/\", \"content\": \"AI for small business is simply utilizing artificial intelligence solutions for remedial tasks that take up time and resources. AI tools are designed to mimic portions of human intelligence, specifically information processing and decision-making. For small businesses, AI offers the opportunity to streamline processes, reduce manual effort, and keep overhead costs down. [...] With the growth of AI, consider it a bonus for your small business. It will only get easier for you, from here on out. There are several benefits of AI for small businesses, including:\\\\n\\\\n### Improved customer service\\\\n\\\\nOur research shows that 65% of customers now expect companies to adapt to their changing needs and preferences. AI makes it possible to respond quicker to customer needs on prospects\\\\u2019 preferred channels and address issues in near real time. [...] The Small Business and Entrepreneurship Council (SBE) survey reports that 76% of small business owners say AI allows them to focus on high-value tasks, such as developing new products or services or creating targeted marketing campaigns, driving increased productivity. This is often accomplished by automating manual or repetitive tasks.\", \"score\": 0.9392538}, {\"title\": \"AI for small business\", \"url\": \"https://www.sba.gov/business-guide/manage-your-business/ai-small-business\", \"content\": \"AI for small business\\\\n=====================\\\\n\\\\n Small businesses can use AI tools and applications to find solutions for all kinds of issues. Read up on both the risks and benefits. \\\\n\\\\n  \\\\n\\\\nContent\\\\n-------\\\\n\\\\n  \\\\n\\\\nTechnology allows small businesses to be more competitive in today\\\\u2019s fast-paced economy. The federal government has adopted Artificial intelligence (AI) as a way to help them better serve the public. As a small business owner, AI can help your small businesses do more with less. [...] Make better business decisions.AI can help you analyze your small business data and pick out common themes. Use your own client data to make better strategic decisions. Data inclusive tools can also help you compare your business to similar businesses and find gaps that you can address or advantages you can exploit to give your business an extra boost. [...] SBA is dedicated to informing small businesses about the ethical use of AI tools. We also want to help you think about effective ways to implement AI into your business practices. AI is relatively new, so start small. If you are unsure what tool you may need, many AI tools offer basic services for free or at a lower cost. Try testing them to see if they add value to your business. You may find they improve internal efficiencies, freeing up your time to focus on growing your business.\", \"score\": 0.9163571}, {\"title\": \"How Small Businesses Can Benefit From Artificial ...\", \"url\": \"https://blog.workday.com/en-us/how-small-businesses-can-benefit-from-artificial-intelligence.html\", \"content\": \"From automating routine tasks to driving more data-driven decisions, artificial intelligence for small businesses is helping cut costs, work smarter, and drive more reliable growth. But beyond efficiency, it\\\\u2019s also changing the way small businesses operate, making advanced capabilities more accessible and allowing teams to do more with less.\\\\n\\\\n## Why AI Matters for Small Businesses [...] By taking a measured, step-by-step approach, small businesses can seamlessly integrate AI into their operations\\\\u2014boosting efficiency, reducing costs, and unlocking new opportunities for growth.\\\\n\\\\n## The Future of AI for Small Businesses\\\\n\\\\nAs AI technology continues to advance, it will become even more accessible, intuitive, and impactful. Small businesses that embrace emerging AI trends will gain a competitive edge. These are the key trends to watch.\\\\n\\\\n### Adaptive AI Systems [...] Small businesses are constantly finding ways to punch above their weight\\\\u2014solving big challenges with fewer resources. AI is becoming a key part of that equation. Instead of being overwhelmed by data or manual tasks, small businesses can leverage AI to tackle problems more strategically. With AI, SMBs can:\", \"score\": 0.9132521}, {\"title\": \"How Small Businesses Are Using AI\", \"url\": \"https://www.forbes.com/sites/allbusiness/2024/09/19/how-small-businesses-are-using-ai/\", \"content\": \"Dylan Sellberg: Historically, small business growth relied on having more resources. Today, AI is helping small businesses grow without needing to add more. Generative AI allows small companies to scale their output with fewer resources. For example, businesses can use AI tools to draft marketing copy, social media posts, and blog articles, and it can automate time-consuming tasks such as answering simple customer questions, handling data entry, and managing scheduling. This reduces the [...] Sellberg: Currently, AI is making the most significant impact on go-to-market teams across marketing, sales, and service. These teams are critical for small business growth because they\\\\u2019re responsible for bringing products and services to market, ensuring adoption, and generating revenue. [...] More from AllBusiness:\\\\n\\\\n## Implementing AI in a small business\\\\n\\\\nLesonsky: How do small businesses best train their employees to deploy AI?\\\\n\\\\nSellberg: Here are a couple of examples:\\\\n\\\\nStart with a problem and focus on a specific use case: Instead of getting caught up in the AI hype, identify a specific business problem that AI can solve. For instance, if your business struggles with managing customer inquiries, start by implementing a chatbot solution.\", \"score\": 0.90692574}, {\"title\": \"AI trends \\\\u2013 how AI can help small businesses\", \"url\": \"https://www.british-business-bank.co.uk/business-guidance/guidance-articles/business-essentials/ai-trends-how-ai-can-help-small-businesses\", \"content\": \"Common AI technology that smaller businesses will likely encounter includes chatbots for responding to customer issues, tools to analyse data, and services to create content.\\\\n\\\\nAdopting AI isn\\\\u2019t without its challenges for smaller businesses, so entrepreneurs should carefully research the tools available.\\\\n\\\\nYou should also consider how the business will use the technology, how it will be implemented, and what impact it will have.\\\\n\\\\nPotential problems to consider include the following: [...] Research in 2020 by Aberdeen (.PDF, 2.0 MB)(Opens in new window) found that companies using AI capabilities achieve a 3.5 times greater annual increase in customer satisfaction rates.\\\\n\\\\nOne of the most common uses of AI by businesses is customer service chatbots, such as Freshchat, Happy Fox, and Kustomer, to handle routine questions.\\\\n\\\\nThis helps relieve the pressure on human customer service agents and more quickly deal with everyday issues. [...] There are thousands of AI solutions available to small and medium businesses, which can generate many benefits, including helping entrepreneurs better process data, make improved decisions, automate tasks, and create content to reach their target customers.\\\\n\\\\nWhat is AI for smaller businesses?\\\\n----------------------------------\", \"score\": 0.8995547}], \"AI-powered automation\": [{\"title\": \"7 AI Automation Examples Transforming Top Industries in 2025\", \"url\": \"https://www.flowforma.com/blog/ai-automation-examples\", \"content\": \"|  |  |  |\\\\n| --- | --- | --- |\\\\n| Industry | AI Automation Use Case | Key Benefit |\\\\n| Energy | AI-powered automation replaces code-heavy legacy workflows with auto-assigning records, unifying process changes and approvals in one place. |  Increases cost-savings  Boosts efficiency  Increases approval processes | [...] Industry\\\\n\\\\nAI Automation Use Case\\\\n\\\\nKey Benefit\\\\n\\\\nEnergy\\\\n\\\\nAI-powered automation replaces code-heavy legacy workflows with auto-assigning records, unifying process changes and approvals in one place.\\\\n\\\\nFinancial Services\\\\n\\\\nAI-driven fraud detection continuously monitors transactions and flags suspicious activities.\\\\n\\\\nHealthcare\\\\n\\\\nAI automates administrative processes, patient details, and operation notes while unifying siloed communication across departments.\\\\n\\\\nConstruction [...] It is time to say goodbye to manual tasks and unlock operational excellence with secure, AI-powered automation. Start your journey today\\\\u2014sign up for a 7-day free trial with FlowForma!\\\\n\\\\nAutomate Complex Processes to Drive Operational Excellence   Begin your 14-day free trial and discover how FlowForma can effortlessly automate even your most complex processes.    \\\\n\\\\n## Gerard Newman, CTO\", \"score\": 0.9123193}, {\"title\": \"What Is AI Automation?\", \"url\": \"https://www.salesforce.com/artificial-intelligence/ai-automation/\", \"content\": \"Scalability: With machine learning and cloud computing, AI-powered automation can scale with increasing data and demands.\\\\n Speed: AI-driven autonomous agents enable faster response times in customer interactions.\\\\n Accuracy: AI systems excel at precision, especially in tasks such as data entry, quality control, and image recognition.\\\\n Complex tasks: AI can tackle multilayer work that requires real-time decision-making and pattern recognition.\\\\n\\\\n## Examples of AI automation [...] AI-based automation provides significant advantages over traditional automation. It streamlines repetitive tasks, reduces human error, and speeds up processes. The time saved with AI and automation allows employees to focus on strategic, high-impact work that drives growth. By working faster and smarter, intelligent automation helps businesses be more efficient, save money, and stay competitive. [...] AI automation works by combining artificial intelligence techniques with automation processes to perform tasks and make practical decisions, similar to how a human might. It uses algorithms as the foundation for its processes, driving the decision-making and actions. These algorithms consist of sets of rules and calculations and help AI systems analyze data, learn patterns, and make decisions autonomously.\", \"score\": 0.8846886}, {\"title\": \"Key Benefits of AI in 2025: How AI Transforms Industries\", \"url\": \"https://ischool.syracuse.edu/benefits-of-ai/\", \"content\": \"This automation, in addition to saving time, increases productivity across teams. For example, AI-powered tools that assist with scheduling or automating routine reporting tasks are improving office productivity, enabling workers to allocate their time toward more high-value activities.\\\\n\\\\nA study showed that AI-powered customer support agents could handle13.8% more inquiriesper hour compared to traditional methods while also improving work quality by 1.3%. [...] A studyconducted by McKinsey highlighted that AI-driven automation can lead to significant cost reductions for businesses, particularly in human resources. Additionally, the study found that supply chain and inventory management see the highest revenue increases, with more than 5% growth reported by the majority of respondents.\", \"score\": 0.878825}, {\"title\": \"What is AI Automation? Everything you need to know\", \"url\": \"https://www.flowforma.com/blog/ai-automation\", \"content\": \"Consider a customer service chatbot: a basic bot follows a script, while an AI-powered bot understands intent, learns from each interaction, and continuously improves its responses. The difference? One is static; the other adapts and refines itself.\\\\n\\\\nIn short, automation boosts speed and efficiency, while AI infuses adaptability and intelligence, making processes smarter and more dynamic. [...] Artificial intelligence automation or AI automation is the fusion of artificial intelligence and automation, designed to handle repetitive tasks with minimal human intervention. It adapts using machine learning, natural language processing, and predictive analytics, making it more flexible, dynamic, and capable of handling complex workflows. [...] For instance, Downer simplified their most complex process, the Permit to Dig, using FlowForma\\\\u2019s AI-powered automation. A previously manual, paper-based task mandating multiple approvals has been transformed into a streamlined digital workflow.\", \"score\": 0.8763069}, {\"title\": \"What is AI Automation? All You Need to Know\", \"url\": \"https://www.blueprism.com/guides/ai-automation/\", \"content\": \"The reason more organizations turn to AI-powered automation is because of the business benefits. AI\\\\u2019s huge processing power increases the speed, efficiency and scalability of your automations, helping you achieve a better return on investment (ROI).\\\\n\\\\n### Team productivity [...] We\\\\u2019ve learned that intelligent AI automation, or intelligent automation, uses the cognitive \\\\u201cthinking\\\\u201d capabilities of AI linked with robotic process automation (RPA)\\\\u2019s ability to perform tasks to streamline business processes. And now, with gen AI and agentic automation making their debut in AI businesses, the automation possibilities just got a lot broader, where AI adapts to new situations and makes real-time decisions.\\\\n\\\\nHere are your key takeaways for automating more with AI:\\\\n\\\\nAlexis [...] AI automation technologies (AKA intelligent automation or Enterprise AI) allow organizations to augment their human workers with these IA digital workers to streamline business processes. These digital workers can sometimes be referred to as AI workers, or, under Enterprise AI, \\\\u201centerprise agents.\\\\u201d This helps deal with skills and labor shortages and frees employees from boring, repetitive tasks so they can focus on higher-value strategic work.\", \"score\": 0.8706085}], \"AI for customer service\": [{\"title\": \"How to implement AI in customer service - Work Life by Atlassian\", \"url\": \"https://www.atlassian.com/blog/artificial-intelligence/ai-customer-service\", \"content\": \"Teams use AI in customer service to perform tasks typically requiring human intelligence. These AI systems are designed to understand, learn from, and respond to inquiries in a way that mimics human interaction. The core technologies driving AI customer service include natural language processing (NLP), machine learning algorithms, and data analytics. [...] Chatbots and virtual assistants are among the most visible applications of AI for customer service. These tools can manage a range of customer queries, from simple FAQs to more complex issues that may require routing to human agents. Using NLP, these systems can understand the intent behind customer messages and provide relevant responses or solutions.\\\\n\\\\nAI tools work with customer service functions to improve efficiency and customer satisfaction. For instance, AI can: [...] With the help of AI technologies, companies can provide support for their customers more efficiently and better than before. AI for customer service offers a range of capabilities that help businesses interact with their customers. Keep reading to learn how to meet growing consumer expectations by integrating AI into customer service.\\\\n\\\\n## Understanding AI in customer service\", \"score\": 0.9237645}, {\"title\": \"AI in Customer Service: Everything You Need to Know | Salesforce US\", \"url\": \"https://www.salesforce.com/service/ai/customer-service-ai/\", \"content\": \"AI improves customer service efficiency by automating time-consuming tasks such as ticketing, response generation, and case routing. This reduces wait times and case resolution, lets reps focus on higher-value work, and ensures a more seamless customer service experience. AI in customer service plays a critical role in improving customer satisfaction while also helping businesses scale their customer supportoperations effectively. [...] AI in customer service uses artificial intelligence technologies like AI agents built with Agentforce to enhance customer interactions and streamline support processes. AI agents can handle common and complex inquiries, automate responses, and analyze customer sentiment, allowing businesses to provide faster, more personalized support. By using natural language processing (NLP) and predictive analytics, AI agents can understand customer needs, recommend solutions, and even escalate complex [...] AI in customer service enables companies to meet rising customer demands and expectations with fewer resources. The productivity boost from AI not only improves service rep efficiency but also helps businesses build stronger, more loyal customer relationships in today\\'s fast-paced digital world.\\\\n\\\\nIn this guide, we\\\\u2019ll look at how you can use AI in customer service in your business, and show you how the best customer service software can set you up for long-term success.\", \"score\": 0.9205687}, {\"title\": \"AI in customer service: All you need to know - Zendesk\", \"url\": \"https://www.zendesk.com/blog/ai-customer-service/\", \"content\": \"Last updated October 10, 2024\\\\n\\\\nA man on a phone sits in a green chair next to a purple suitcase and a window with a plane taking off in the background.\\\\n\\\\n## What is AI in customer service?\\\\n\\\\nAI in customer service refers to the use of intelligent technology to create support experiences that are fast, efficient, and personalized. AI-powered customer service tools enable organizations to automate experiences, streamline workflows, and assist agents\\\\u2014ultimately saving time and money. [...] One of the most significant benefits of AI in customer service is its ability to understand customer questions and needs accurately. However, not all AI is capable of doing so effectively. Look for AI systems trained on CX conversations. In addition to providing a poor CX, manual training can often be time-consuming and costly. [...] AI in customer service is about leveraging intelligent technology to provide quick, personalized, and seamless support experiences. When implemented correctly, AI can foster authentically human customer connections: The Zendesk Customer Experience Trends Report 2024 revealed that more than two-thirds of CX organizations agree that AI can help businesses provide the warm and familiar human service interactions that build loyalty.\", \"score\": 0.9119436}, {\"title\": \"How AI Benefits Customer Service in 2025 + Examples - VoiceSpin\", \"url\": \"https://www.voicespin.com/blog/how-ai-benefits-customer-service-and-how-it-is-used-in-contact-centers/\", \"content\": \"When AI is integrated into your customer service process, it ultimately helps improve customer service and enhance the customer experience \\\\u2013 and consumers have actually become more responsive to AI solutions, too. According to a Salesforce study, 69% of consumers say they are open to the use of AI to improve their experiences. AI agent assist and sentiment analysis are great examples of customer service AI solutions that can help support reps deliver a more efficient and more personalized [...] With customer expectations rising faster than innovations are adopted, it\\\\u2019s about time to embrace AI and unlock new perspectives to improve the experience for both your support reps and your customers. So how can AI help customer service? In this blog, we\\\\u2019re about to explore in-depth how AI can be used in customer service and support to set the stage for improved support efficiency and better CX.\\\\n\\\\nLooking for a   \\\\nContact Center Solution? [...] Generative AI is already transforming the customer service industry, enhancing the efficiency and productivity of customer support reps with AI-powered assistance. By using Natural Language Processing and Machine Learning to analyze conversations between agents and customers, Generative AI tools (also known as AI agent assist solutions) retrieve relevant data from your knowledge base and CRM and generate ready-to-send responses that your reps can then evaluate, edit, and use without having to\", \"score\": 0.90102744}, {\"title\": \"The Future of AI in Customer Service | IBM\", \"url\": \"https://www.ibm.com/think/insights/customer-service-future\", \"content\": \"Generative AI is evolving into a real-time partner that empowers customer service agents with instant access to knowledge bases, customer history and recommended actions during interactions. Beyond the conversation, AI will automatically summarize chats, update records and flag follow-ups\\\\u2014boosting efficiency and reducing agent burnout.\\\\n\\\\nIn fact, in an IBM Institute for Business Value (IBV) study, mature AI adopters reported a 15% higher human agent satisfaction score.1 [...] In customer service, AI agents have transcended typical automation. They harness gen AI capabilities to engage in lifelike conversations, providing personalized and contextually relevant responses. They can make decisions, designing workflows and interacting with various tools such as application program interfaces (APIs) and databases. For example, if a customer reports a billing issue, an agentic AI system can analyze the account, identify discrepancies, apply corrections and notify the [...] Generative AI, machine learning and agentic AI are now essential components of the customer experience ecosystem, helping companies deliver faster, more accurate and more personalized customer service interactions. Globally, businesses recognize the power of AI. Mature AI adopters (organizations operating or optimizing AI-powered customer service) reported 17% higher customer satisfaction.1\\\\n\\\\n### Proactive support that remembers\", \"score\": 0.8943568}]}', id='1c4d6b72-7839-41f4-bb87-652a9904bb91', tool_call_id='chatcmpl-tool-5a5612db4d0843f89308f2f4d4ece6a2'), AIMessage(content='', additional_kwargs={'tool_calls': [{'id': 'chatcmpl-tool-a706e2616a1c4e14b57405ae83ef37ff', 'type': 'function', 'function': {'name': 'ReviseAnswer', 'arguments': '{\"answer\": \"Small businesses can leverage AI to grow in various ways, including automation of manual tasks, data analysis, and customer service. AI can help automate tasks such as bookkeeping, inventory management, and marketing, freeing up time for business owners to focus on higher-level tasks. Additionally, AI-powered tools can analyze customer data to provide insights on behavior, preferences, and needs, enabling businesses to tailor their products and services to meet demand. AI-powered chatbots can also provide 24/7 customer support, improving customer satisfaction and loyalty. Furthermore, AI can help small businesses identify new opportunities and optimize their operations, leading to increased efficiency and revenue growth. Overall, AI can be a powerful tool for small businesses looking to scale and expand their operations. \", \"search_queries\": [\"AI for small business\", \"AI-powered automation\", \"AI for customer service\"], \"reflection\": {\"missing\": \"The answer could benefit from more specific examples of AI-powered tools and platforms that small businesses can use.\", \"superflous\": \"None of the information provided is unnecessary or repetitive.\"}, \"references\": [\"https://www.salesforce.com/blog/ai-tools-for-small-business/\", \"https://www.sba.gov/business-guide/manage-your-business/ai-small-business\", \"https://www.forbes.com/sites/allbusiness/2024/09/19/how-small-businesses-are-using-ai/\"]}'}}]}, response_metadata={'role': 'assistant', 'content': None, 'tool_calls': [{'id': 'chatcmpl-tool-a706e2616a1c4e14b57405ae83ef37ff', 'type': 'function', 'function': {'name': 'ReviseAnswer', 'arguments': '{\"answer\": \"Small businesses can leverage AI to grow in various ways, including automation of manual tasks, data analysis, and customer service. AI can help automate tasks such as bookkeeping, inventory management, and marketing, freeing up time for business owners to focus on higher-level tasks. Additionally, AI-powered tools can analyze customer data to provide insights on behavior, preferences, and needs, enabling businesses to tailor their products and services to meet demand. AI-powered chatbots can also provide 24/7 customer support, improving customer satisfaction and loyalty. Furthermore, AI can help small businesses identify new opportunities and optimize their operations, leading to increased efficiency and revenue growth. Overall, AI can be a powerful tool for small businesses looking to scale and expand their operations. \", \"search_queries\": [\"AI for small business\", \"AI-powered automation\", \"AI for customer service\"], \"reflection\": {\"missing\": \"The answer could benefit from more specific examples of AI-powered tools and platforms that small businesses can use.\", \"superflous\": \"None of the information provided is unnecessary or repetitive.\"}, \"references\": [\"https://www.salesforce.com/blog/ai-tools-for-small-business/\", \"https://www.sba.gov/business-guide/manage-your-business/ai-small-business\", \"https://www.forbes.com/sites/allbusiness/2024/09/19/how-small-businesses-are-using-ai/\"]}'}}], 'token_usage': {'prompt_tokens': 9705, 'total_tokens': 9992, 'completion_tokens': 287}, 'finish_reason': 'tool_calls', 'model_name': 'meta/llama-3.1-70b-instruct'}, id='run--28ee8d3a-4118-402f-bc55-06e2f3803f77-0', tool_calls=[{'name': 'ReviseAnswer', 'args': {'answer': 'Small businesses can leverage AI to grow in various ways, including automation of manual tasks, data analysis, and customer service. AI can help automate tasks such as bookkeeping, inventory management, and marketing, freeing up time for business owners to focus on higher-level tasks. Additionally, AI-powered tools can analyze customer data to provide insights on behavior, preferences, and needs, enabling businesses to tailor their products and services to meet demand. AI-powered chatbots can also provide 24/7 customer support, improving customer satisfaction and loyalty. Furthermore, AI can help small businesses identify new opportunities and optimize their operations, leading to increased efficiency and revenue growth. Overall, AI can be a powerful tool for small businesses looking to scale and expand their operations. ', 'search_queries': ['AI for small business', 'AI-powered automation', 'AI for customer service'], 'reflection': {'missing': 'The answer could benefit from more specific examples of AI-powered tools and platforms that small businesses can use.', 'superflous': 'None of the information provided is unnecessary or repetitive.'}, 'references': ['https://www.salesforce.com/blog/ai-tools-for-small-business/', 'https://www.sba.gov/business-guide/manage-your-business/ai-small-business', 'https://www.forbes.com/sites/allbusiness/2024/09/19/how-small-businesses-are-using-ai/']}, 'id': 'chatcmpl-tool-a706e2616a1c4e14b57405ae83ef37ff', 'type': 'tool_call'}], usage_metadata={'input_tokens': 9705, 'output_tokens': 287, 'total_tokens': 9992}, role='assistant'), ToolMessage(content='{\"AI for small business\": [{\"title\": \"AI For Small Business (Tools and Best Practices)\", \"url\": \"https://www.salesforce.com/blog/ai-tools-for-small-business/\", \"content\": \"AI for small business is simply utilizing artificial intelligence solutions for remedial tasks that take up time and resources. AI tools are designed to mimic portions of human intelligence, specifically information processing and decision-making. For small businesses, AI offers the opportunity to streamline processes, reduce manual effort, and keep overhead costs down. [...] With the growth of AI, consider it a bonus for your small business. It will only get easier for you, from here on out. There are several benefits of AI for small businesses, including:\\\\n\\\\n### Improved customer service\\\\n\\\\nOur research shows that 65% of customers now expect companies to adapt to their changing needs and preferences. AI makes it possible to respond quicker to customer needs on prospects\\\\u2019 preferred channels and address issues in near real time. [...] The Small Business and Entrepreneurship Council (SBE) survey reports that 76% of small business owners say AI allows them to focus on high-value tasks, such as developing new products or services or creating targeted marketing campaigns, driving increased productivity. This is often accomplished by automating manual or repetitive tasks.\", \"score\": 0.9392538}, {\"title\": \"AI for small business\", \"url\": \"https://www.sba.gov/business-guide/manage-your-business/ai-small-business\", \"content\": \"AI for small business\\\\n=====================\\\\n\\\\n Small businesses can use AI tools and applications to find solutions for all kinds of issues. Read up on both the risks and benefits. \\\\n\\\\n  \\\\n\\\\nContent\\\\n-------\\\\n\\\\n  \\\\n\\\\nTechnology allows small businesses to be more competitive in today\\\\u2019s fast-paced economy. The federal government has adopted Artificial intelligence (AI) as a way to help them better serve the public. As a small business owner, AI can help your small businesses do more with less. [...] Make better business decisions.AI can help you analyze your small business data and pick out common themes. Use your own client data to make better strategic decisions. Data inclusive tools can also help you compare your business to similar businesses and find gaps that you can address or advantages you can exploit to give your business an extra boost. [...] SBA is dedicated to informing small businesses about the ethical use of AI tools. We also want to help you think about effective ways to implement AI into your business practices. AI is relatively new, so start small. If you are unsure what tool you may need, many AI tools offer basic services for free or at a lower cost. Try testing them to see if they add value to your business. You may find they improve internal efficiencies, freeing up your time to focus on growing your business.\", \"score\": 0.9163571}, {\"title\": \"How Small Businesses Can Benefit From Artificial ...\", \"url\": \"https://blog.workday.com/en-us/how-small-businesses-can-benefit-from-artificial-intelligence.html\", \"content\": \"From automating routine tasks to driving more data-driven decisions, artificial intelligence for small businesses is helping cut costs, work smarter, and drive more reliable growth. But beyond efficiency, it\\\\u2019s also changing the way small businesses operate, making advanced capabilities more accessible and allowing teams to do more with less.\\\\n\\\\n## Why AI Matters for Small Businesses [...] By taking a measured, step-by-step approach, small businesses can seamlessly integrate AI into their operations\\\\u2014boosting efficiency, reducing costs, and unlocking new opportunities for growth.\\\\n\\\\n## The Future of AI for Small Businesses\\\\n\\\\nAs AI technology continues to advance, it will become even more accessible, intuitive, and impactful. Small businesses that embrace emerging AI trends will gain a competitive edge. These are the key trends to watch.\\\\n\\\\n### Adaptive AI Systems [...] Small businesses are constantly finding ways to punch above their weight\\\\u2014solving big challenges with fewer resources. AI is becoming a key part of that equation. Instead of being overwhelmed by data or manual tasks, small businesses can leverage AI to tackle problems more strategically. With AI, SMBs can:\", \"score\": 0.9132521}, {\"title\": \"How Small Businesses Are Using AI\", \"url\": \"https://www.forbes.com/sites/allbusiness/2024/09/19/how-small-businesses-are-using-ai/\", \"content\": \"Dylan Sellberg: Historically, small business growth relied on having more resources. Today, AI is helping small businesses grow without needing to add more. Generative AI allows small companies to scale their output with fewer resources. For example, businesses can use AI tools to draft marketing copy, social media posts, and blog articles, and it can automate time-consuming tasks such as answering simple customer questions, handling data entry, and managing scheduling. This reduces the [...] Sellberg: Currently, AI is making the most significant impact on go-to-market teams across marketing, sales, and service. These teams are critical for small business growth because they\\\\u2019re responsible for bringing products and services to market, ensuring adoption, and generating revenue. [...] More from AllBusiness:\\\\n\\\\n## Implementing AI in a small business\\\\n\\\\nLesonsky: How do small businesses best train their employees to deploy AI?\\\\n\\\\nSellberg: Here are a couple of examples:\\\\n\\\\nStart with a problem and focus on a specific use case: Instead of getting caught up in the AI hype, identify a specific business problem that AI can solve. For instance, if your business struggles with managing customer inquiries, start by implementing a chatbot solution.\", \"score\": 0.90692574}, {\"title\": \"AI trends \\\\u2013 how AI can help small businesses\", \"url\": \"https://www.british-business-bank.co.uk/business-guidance/guidance-articles/business-essentials/ai-trends-how-ai-can-help-small-businesses\", \"content\": \"Common AI technology that smaller businesses will likely encounter includes chatbots for responding to customer issues, tools to analyse data, and services to create content.\\\\n\\\\nAdopting AI isn\\\\u2019t without its challenges for smaller businesses, so entrepreneurs should carefully research the tools available.\\\\n\\\\nYou should also consider how the business will use the technology, how it will be implemented, and what impact it will have.\\\\n\\\\nPotential problems to consider include the following: [...] Research in 2020 by Aberdeen (.PDF, 2.0 MB)(Opens in new window) found that companies using AI capabilities achieve a 3.5 times greater annual increase in customer satisfaction rates.\\\\n\\\\nOne of the most common uses of AI by businesses is customer service chatbots, such as Freshchat, Happy Fox, and Kustomer, to handle routine questions.\\\\n\\\\nThis helps relieve the pressure on human customer service agents and more quickly deal with everyday issues. [...] There are thousands of AI solutions available to small and medium businesses, which can generate many benefits, including helping entrepreneurs better process data, make improved decisions, automate tasks, and create content to reach their target customers.\\\\n\\\\nWhat is AI for smaller businesses?\\\\n----------------------------------\", \"score\": 0.8995547}], \"AI-powered automation\": [{\"title\": \"7 AI Automation Examples Transforming Top Industries in 2025\", \"url\": \"https://www.flowforma.com/blog/ai-automation-examples\", \"content\": \"|  |  |  |\\\\n| --- | --- | --- |\\\\n| Industry | AI Automation Use Case | Key Benefit |\\\\n| Energy | AI-powered automation replaces code-heavy legacy workflows with auto-assigning records, unifying process changes and approvals in one place. |  Increases cost-savings  Boosts efficiency  Increases approval processes | [...] Industry\\\\n\\\\nAI Automation Use Case\\\\n\\\\nKey Benefit\\\\n\\\\nEnergy\\\\n\\\\nAI-powered automation replaces code-heavy legacy workflows with auto-assigning records, unifying process changes and approvals in one place.\\\\n\\\\nFinancial Services\\\\n\\\\nAI-driven fraud detection continuously monitors transactions and flags suspicious activities.\\\\n\\\\nHealthcare\\\\n\\\\nAI automates administrative processes, patient details, and operation notes while unifying siloed communication across departments.\\\\n\\\\nConstruction [...] It is time to say goodbye to manual tasks and unlock operational excellence with secure, AI-powered automation. Start your journey today\\\\u2014sign up for a 7-day free trial with FlowForma!\\\\n\\\\nAutomate Complex Processes to Drive Operational Excellence   Begin your 14-day free trial and discover how FlowForma can effortlessly automate even your most complex processes.    \\\\n\\\\n## Gerard Newman, CTO\", \"score\": 0.9123193}, {\"title\": \"What Is AI Automation?\", \"url\": \"https://www.salesforce.com/artificial-intelligence/ai-automation/\", \"content\": \"Scalability: With machine learning and cloud computing, AI-powered automation can scale with increasing data and demands.\\\\n Speed: AI-driven autonomous agents enable faster response times in customer interactions.\\\\n Accuracy: AI systems excel at precision, especially in tasks such as data entry, quality control, and image recognition.\\\\n Complex tasks: AI can tackle multilayer work that requires real-time decision-making and pattern recognition.\\\\n\\\\n## Examples of AI automation [...] AI-based automation provides significant advantages over traditional automation. It streamlines repetitive tasks, reduces human error, and speeds up processes. The time saved with AI and automation allows employees to focus on strategic, high-impact work that drives growth. By working faster and smarter, intelligent automation helps businesses be more efficient, save money, and stay competitive. [...] AI automation works by combining artificial intelligence techniques with automation processes to perform tasks and make practical decisions, similar to how a human might. It uses algorithms as the foundation for its processes, driving the decision-making and actions. These algorithms consist of sets of rules and calculations and help AI systems analyze data, learn patterns, and make decisions autonomously.\", \"score\": 0.8846886}, {\"title\": \"Key Benefits of AI in 2025: How AI Transforms Industries\", \"url\": \"https://ischool.syracuse.edu/benefits-of-ai/\", \"content\": \"This automation, in addition to saving time, increases productivity across teams. For example, AI-powered tools that assist with scheduling or automating routine reporting tasks are improving office productivity, enabling workers to allocate their time toward more high-value activities.\\\\n\\\\nA study showed that AI-powered customer support agents could handle13.8% more inquiriesper hour compared to traditional methods while also improving work quality by 1.3%. [...] A studyconducted by McKinsey highlighted that AI-driven automation can lead to significant cost reductions for businesses, particularly in human resources. Additionally, the study found that supply chain and inventory management see the highest revenue increases, with more than 5% growth reported by the majority of respondents.\", \"score\": 0.878825}, {\"title\": \"What is AI Automation? Everything you need to know\", \"url\": \"https://www.flowforma.com/blog/ai-automation\", \"content\": \"Consider a customer service chatbot: a basic bot follows a script, while an AI-powered bot understands intent, learns from each interaction, and continuously improves its responses. The difference? One is static; the other adapts and refines itself.\\\\n\\\\nIn short, automation boosts speed and efficiency, while AI infuses adaptability and intelligence, making processes smarter and more dynamic. [...] Artificial intelligence automation or AI automation is the fusion of artificial intelligence and automation, designed to handle repetitive tasks with minimal human intervention. It adapts using machine learning, natural language processing, and predictive analytics, making it more flexible, dynamic, and capable of handling complex workflows. [...] For instance, Downer simplified their most complex process, the Permit to Dig, using FlowForma\\\\u2019s AI-powered automation. A previously manual, paper-based task mandating multiple approvals has been transformed into a streamlined digital workflow.\", \"score\": 0.8763069}, {\"title\": \"What is AI Automation? All You Need to Know\", \"url\": \"https://www.blueprism.com/guides/ai-automation/\", \"content\": \"The reason more organizations turn to AI-powered automation is because of the business benefits. AI\\\\u2019s huge processing power increases the speed, efficiency and scalability of your automations, helping you achieve a better return on investment (ROI).\\\\n\\\\n### Team productivity [...] We\\\\u2019ve learned that intelligent AI automation, or intelligent automation, uses the cognitive \\\\u201cthinking\\\\u201d capabilities of AI linked with robotic process automation (RPA)\\\\u2019s ability to perform tasks to streamline business processes. And now, with gen AI and agentic automation making their debut in AI businesses, the automation possibilities just got a lot broader, where AI adapts to new situations and makes real-time decisions.\\\\n\\\\nHere are your key takeaways for automating more with AI:\\\\n\\\\nAlexis [...] AI automation technologies (AKA intelligent automation or Enterprise AI) allow organizations to augment their human workers with these IA digital workers to streamline business processes. These digital workers can sometimes be referred to as AI workers, or, under Enterprise AI, \\\\u201centerprise agents.\\\\u201d This helps deal with skills and labor shortages and frees employees from boring, repetitive tasks so they can focus on higher-value strategic work.\", \"score\": 0.8706085}], \"AI for customer service\": [{\"title\": \"How to implement AI in customer service - Work Life by Atlassian\", \"url\": \"https://www.atlassian.com/blog/artificial-intelligence/ai-customer-service\", \"content\": \"Teams use AI in customer service to perform tasks typically requiring human intelligence. These AI systems are designed to understand, learn from, and respond to inquiries in a way that mimics human interaction. The core technologies driving AI customer service include natural language processing (NLP), machine learning algorithms, and data analytics. [...] Chatbots and virtual assistants are among the most visible applications of AI for customer service. These tools can manage a range of customer queries, from simple FAQs to more complex issues that may require routing to human agents. Using NLP, these systems can understand the intent behind customer messages and provide relevant responses or solutions.\\\\n\\\\nAI tools work with customer service functions to improve efficiency and customer satisfaction. For instance, AI can: [...] With the help of AI technologies, companies can provide support for their customers more efficiently and better than before. AI for customer service offers a range of capabilities that help businesses interact with their customers. Keep reading to learn how to meet growing consumer expectations by integrating AI into customer service.\\\\n\\\\n## Understanding AI in customer service\", \"score\": 0.9237645}, {\"title\": \"AI in Customer Service: Everything You Need to Know | Salesforce US\", \"url\": \"https://www.salesforce.com/service/ai/customer-service-ai/\", \"content\": \"AI improves customer service efficiency by automating time-consuming tasks such as ticketing, response generation, and case routing. This reduces wait times and case resolution, lets reps focus on higher-value work, and ensures a more seamless customer service experience. AI in customer service plays a critical role in improving customer satisfaction while also helping businesses scale their customer supportoperations effectively. [...] AI in customer service uses artificial intelligence technologies like AI agents built with Agentforce to enhance customer interactions and streamline support processes. AI agents can handle common and complex inquiries, automate responses, and analyze customer sentiment, allowing businesses to provide faster, more personalized support. By using natural language processing (NLP) and predictive analytics, AI agents can understand customer needs, recommend solutions, and even escalate complex [...] AI in customer service enables companies to meet rising customer demands and expectations with fewer resources. The productivity boost from AI not only improves service rep efficiency but also helps businesses build stronger, more loyal customer relationships in today\\'s fast-paced digital world.\\\\n\\\\nIn this guide, we\\\\u2019ll look at how you can use AI in customer service in your business, and show you how the best customer service software can set you up for long-term success.\", \"score\": 0.9205687}, {\"title\": \"AI in customer service: All you need to know - Zendesk\", \"url\": \"https://www.zendesk.com/blog/ai-customer-service/\", \"content\": \"Last updated October 10, 2024\\\\n\\\\nA man on a phone sits in a green chair next to a purple suitcase and a window with a plane taking off in the background.\\\\n\\\\n## What is AI in customer service?\\\\n\\\\nAI in customer service refers to the use of intelligent technology to create support experiences that are fast, efficient, and personalized. AI-powered customer service tools enable organizations to automate experiences, streamline workflows, and assist agents\\\\u2014ultimately saving time and money. [...] One of the most significant benefits of AI in customer service is its ability to understand customer questions and needs accurately. However, not all AI is capable of doing so effectively. Look for AI systems trained on CX conversations. In addition to providing a poor CX, manual training can often be time-consuming and costly. [...] AI in customer service is about leveraging intelligent technology to provide quick, personalized, and seamless support experiences. When implemented correctly, AI can foster authentically human customer connections: The Zendesk Customer Experience Trends Report 2024 revealed that more than two-thirds of CX organizations agree that AI can help businesses provide the warm and familiar human service interactions that build loyalty.\", \"score\": 0.9119436}, {\"title\": \"How AI Benefits Customer Service in 2025 + Examples - VoiceSpin\", \"url\": \"https://www.voicespin.com/blog/how-ai-benefits-customer-service-and-how-it-is-used-in-contact-centers/\", \"content\": \"When AI is integrated into your customer service process, it ultimately helps improve customer service and enhance the customer experience \\\\u2013 and consumers have actually become more responsive to AI solutions, too. According to a Salesforce study, 69% of consumers say they are open to the use of AI to improve their experiences. AI agent assist and sentiment analysis are great examples of customer service AI solutions that can help support reps deliver a more efficient and more personalized [...] With customer expectations rising faster than innovations are adopted, it\\\\u2019s about time to embrace AI and unlock new perspectives to improve the experience for both your support reps and your customers. So how can AI help customer service? In this blog, we\\\\u2019re about to explore in-depth how AI can be used in customer service and support to set the stage for improved support efficiency and better CX.\\\\n\\\\nLooking for a   \\\\nContact Center Solution? [...] Generative AI is already transforming the customer service industry, enhancing the efficiency and productivity of customer support reps with AI-powered assistance. By using Natural Language Processing and Machine Learning to analyze conversations between agents and customers, Generative AI tools (also known as AI agent assist solutions) retrieve relevant data from your knowledge base and CRM and generate ready-to-send responses that your reps can then evaluate, edit, and use without having to\", \"score\": 0.90102744}, {\"title\": \"The Future of AI in Customer Service | IBM\", \"url\": \"https://www.ibm.com/think/insights/customer-service-future\", \"content\": \"Generative AI is evolving into a real-time partner that empowers customer service agents with instant access to knowledge bases, customer history and recommended actions during interactions. Beyond the conversation, AI will automatically summarize chats, update records and flag follow-ups\\\\u2014boosting efficiency and reducing agent burnout.\\\\n\\\\nIn fact, in an IBM Institute for Business Value (IBV) study, mature AI adopters reported a 15% higher human agent satisfaction score.1 [...] In customer service, AI agents have transcended typical automation. They harness gen AI capabilities to engage in lifelike conversations, providing personalized and contextually relevant responses. They can make decisions, designing workflows and interacting with various tools such as application program interfaces (APIs) and databases. For example, if a customer reports a billing issue, an agentic AI system can analyze the account, identify discrepancies, apply corrections and notify the [...] Generative AI, machine learning and agentic AI are now essential components of the customer experience ecosystem, helping companies deliver faster, more accurate and more personalized customer service interactions. Globally, businesses recognize the power of AI. Mature AI adopters (organizations operating or optimizing AI-powered customer service) reported 17% higher customer satisfaction.1\\\\n\\\\n### Proactive support that remembers\", \"score\": 0.8943568}]}', id='45271d3e-4263-40c9-bd90-295553fe6f47', tool_call_id='chatcmpl-tool-a706e2616a1c4e14b57405ae83ef37ff'), AIMessage(content='', additional_kwargs={'tool_calls': [{'id': 'chatcmpl-tool-fc880bf4c7fe40999944bb2a2cf08b92', 'type': 'function', 'function': {'name': 'ReviseAnswer', 'arguments': '{\"answer\": \"AI can improve customer service by automating tasks and providing insights that support agents can use to make informed decisions. It can analyze customer data to identify trends, preferences, and common issues, enabling businesses to tailor their products and services to meet demand.\\\\\", \", \"search_queries\": [\"AI for small business\", \"AI-powered automation\", \"AI for customer service\"], \"reflection\": {\"missing\": \"The answer could benefit from more specific examples of AI-powered tools and platforms that small businesses can use.\", \"superflous\": \"None of the information provided is unnecessary or repetitive.\"}, \"references\": [\"https://www.salesforce.com/blog/ai-tools-for-small-business/\", \"https://www.sba.gov/business-guide/manage-your-business/ai-small-business\", \"https://www.forbes.com/sites/allbusiness/2024/09/19/how-small-businesses-are-using-ai/\"]}'}}]}, response_metadata={'role': 'assistant', 'content': None, 'tool_calls': [{'id': 'chatcmpl-tool-fc880bf4c7fe40999944bb2a2cf08b92', 'type': 'function', 'function': {'name': 'ReviseAnswer', 'arguments': '{\"answer\": \"AI can improve customer service by automating tasks and providing insights that support agents can use to make informed decisions. It can analyze customer data to identify trends, preferences, and common issues, enabling businesses to tailor their products and services to meet demand.\\\\\", \", \"search_queries\": [\"AI for small business\", \"AI-powered automation\", \"AI for customer service\"], \"reflection\": {\"missing\": \"The answer could benefit from more specific examples of AI-powered tools and platforms that small businesses can use.\", \"superflous\": \"None of the information provided is unnecessary or repetitive.\"}, \"references\": [\"https://www.salesforce.com/blog/ai-tools-for-small-business/\", \"https://www.sba.gov/business-guide/manage-your-business/ai-small-business\", \"https://www.forbes.com/sites/allbusiness/2024/09/19/how-small-businesses-are-using-ai/\"]}'}}], 'token_usage': {'prompt_tokens': 14273, 'total_tokens': 14465, 'completion_tokens': 192}, 'finish_reason': 'tool_calls', 'model_name': 'meta/llama-3.1-70b-instruct'}, id='run--15b301f3-a7a1-4a3d-b845-809cef9c25a7-0', tool_calls=[{'name': 'ReviseAnswer', 'args': {'answer': 'AI can improve customer service by automating tasks and providing insights that support agents can use to make informed decisions. It can analyze customer data to identify trends, preferences, and common issues, enabling businesses to tailor their products and services to meet demand.\", ', 'search_queries': ['AI for small business', 'AI-powered automation', 'AI for customer service'], 'reflection': {'missing': 'The answer could benefit from more specific examples of AI-powered tools and platforms that small businesses can use.', 'superflous': 'None of the information provided is unnecessary or repetitive.'}, 'references': ['https://www.salesforce.com/blog/ai-tools-for-small-business/', 'https://www.sba.gov/business-guide/manage-your-business/ai-small-business', 'https://www.forbes.com/sites/allbusiness/2024/09/19/how-small-businesses-are-using-ai/']}, 'id': 'chatcmpl-tool-fc880bf4c7fe40999944bb2a2cf08b92', 'type': 'tool_call'}], usage_metadata={'input_tokens': 14273, 'output_tokens': 192, 'total_tokens': 14465}, role='assistant')]\n"
     ]
    }
   ],
   "source": [
    "print(response)"
   ]
  },
  {
   "cell_type": "code",
   "execution_count": null,
   "id": "5cf8ab1a",
   "metadata": {
    "papermill": {
     "duration": 0.010877,
     "end_time": "2025-08-11T06:27:02.319172",
     "exception": false,
     "start_time": "2025-08-11T06:27:02.308295",
     "status": "completed"
    },
    "tags": []
   },
   "outputs": [],
   "source": []
  }
 ],
 "metadata": {
  "kaggle": {
   "accelerator": "none",
   "dataSources": [],
   "dockerImageVersionId": 31089,
   "isGpuEnabled": false,
   "isInternetEnabled": true,
   "language": "python",
   "sourceType": "notebook"
  },
  "kernelspec": {
   "display_name": "Python 3",
   "language": "python",
   "name": "python3"
  },
  "language_info": {
   "codemirror_mode": {
    "name": "ipython",
    "version": 3
   },
   "file_extension": ".py",
   "mimetype": "text/x-python",
   "name": "python",
   "nbconvert_exporter": "python",
   "pygments_lexer": "ipython3",
   "version": "3.11.13"
  },
  "papermill": {
   "default_parameters": {},
   "duration": 133.342337,
   "end_time": "2025-08-11T06:27:02.849152",
   "environment_variables": {},
   "exception": null,
   "input_path": "__notebook__.ipynb",
   "output_path": "__notebook__.ipynb",
   "parameters": {},
   "start_time": "2025-08-11T06:24:49.506815",
   "version": "2.6.0"
  }
 },
 "nbformat": 4,
 "nbformat_minor": 5
}

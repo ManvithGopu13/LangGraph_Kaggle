{
 "cells": [
  {
   "cell_type": "code",
   "execution_count": 1,
   "id": "aaefd61e",
   "metadata": {
    "_cell_guid": "b1076dfc-b9ad-4769-8c92-a6c4dae69d19",
    "_uuid": "8f2839f25d086af736a60e9eeb907d3b93b6e0e5",
    "execution": {
     "iopub.execute_input": "2025-08-08T06:40:40.047865Z",
     "iopub.status.busy": "2025-08-08T06:40:40.047480Z",
     "iopub.status.idle": "2025-08-08T06:40:41.941781Z",
     "shell.execute_reply": "2025-08-08T06:40:41.940490Z"
    },
    "papermill": {
     "duration": 1.901026,
     "end_time": "2025-08-08T06:40:41.943622",
     "exception": false,
     "start_time": "2025-08-08T06:40:40.042596",
     "status": "completed"
    },
    "tags": []
   },
   "outputs": [],
   "source": [
    "# This Python 3 environment comes with many helpful analytics libraries installed\n",
    "# It is defined by the kaggle/python Docker image: https://github.com/kaggle/docker-python\n",
    "# For example, here's several helpful packages to load\n",
    "\n",
    "import numpy as np # linear algebra\n",
    "import pandas as pd # data processing, CSV file I/O (e.g. pd.read_csv)\n",
    "\n",
    "# Input data files are available in the read-only \"../input/\" directory\n",
    "# For example, running this (by clicking run or pressing Shift+Enter) will list all files under the input directory\n",
    "\n",
    "import os\n",
    "for dirname, _, filenames in os.walk('/kaggle/input'):\n",
    "    for filename in filenames:\n",
    "        print(os.path.join(dirname, filename))\n",
    "\n",
    "# You can write up to 20GB to the current directory (/kaggle/working/) that gets preserved as output when you create a version using \"Save & Run All\" \n",
    "# You can also write temporary files to /kaggle/temp/, but they won't be saved outside of the current session"
   ]
  },
  {
   "cell_type": "code",
   "execution_count": 2,
   "id": "a419bfb8",
   "metadata": {
    "execution": {
     "iopub.execute_input": "2025-08-08T06:40:41.951391Z",
     "iopub.status.busy": "2025-08-08T06:40:41.950920Z",
     "iopub.status.idle": "2025-08-08T06:40:47.982816Z",
     "shell.execute_reply": "2025-08-08T06:40:47.981520Z"
    },
    "papermill": {
     "duration": 6.037593,
     "end_time": "2025-08-08T06:40:47.984813",
     "exception": false,
     "start_time": "2025-08-08T06:40:41.947220",
     "status": "completed"
    },
    "tags": []
   },
   "outputs": [
    {
     "name": "stdout",
     "output_type": "stream",
     "text": [
      "Requirement already satisfied: langchain in /usr/local/lib/python3.11/dist-packages (0.3.26)\r\n",
      "Collecting langchain-nvidia-ai-endpoints\r\n",
      "  Downloading langchain_nvidia_ai_endpoints-0.3.14-py3-none-any.whl.metadata (11 kB)\r\n",
      "Requirement already satisfied: pydantic in /usr/local/lib/python3.11/dist-packages (2.11.7)\r\n",
      "Requirement already satisfied: langchain-core<1.0.0,>=0.3.66 in /usr/local/lib/python3.11/dist-packages (from langchain) (0.3.66)\r\n",
      "Requirement already satisfied: langchain-text-splitters<1.0.0,>=0.3.8 in /usr/local/lib/python3.11/dist-packages (from langchain) (0.3.8)\r\n",
      "Requirement already satisfied: langsmith>=0.1.17 in /usr/local/lib/python3.11/dist-packages (from langchain) (0.4.1)\r\n",
      "Requirement already satisfied: SQLAlchemy<3,>=1.4 in /usr/local/lib/python3.11/dist-packages (from langchain) (2.0.41)\r\n",
      "Requirement already satisfied: requests<3,>=2 in /usr/local/lib/python3.11/dist-packages (from langchain) (2.32.4)\r\n",
      "Requirement already satisfied: PyYAML>=5.3 in /usr/local/lib/python3.11/dist-packages (from langchain) (6.0.2)\r\n",
      "Requirement already satisfied: aiohttp<4.0.0,>=3.9.1 in /usr/local/lib/python3.11/dist-packages (from langchain-nvidia-ai-endpoints) (3.12.13)\r\n",
      "Collecting filetype<2.0.0,>=1.2.0 (from langchain-nvidia-ai-endpoints)\r\n",
      "  Downloading filetype-1.2.0-py2.py3-none-any.whl.metadata (6.5 kB)\r\n",
      "Requirement already satisfied: annotated-types>=0.6.0 in /usr/local/lib/python3.11/dist-packages (from pydantic) (0.7.0)\r\n",
      "Requirement already satisfied: pydantic-core==2.33.2 in /usr/local/lib/python3.11/dist-packages (from pydantic) (2.33.2)\r\n",
      "Requirement already satisfied: typing-extensions>=4.12.2 in /usr/local/lib/python3.11/dist-packages (from pydantic) (4.14.0)\r\n",
      "Requirement already satisfied: typing-inspection>=0.4.0 in /usr/local/lib/python3.11/dist-packages (from pydantic) (0.4.1)\r\n",
      "Requirement already satisfied: aiohappyeyeballs>=2.5.0 in /usr/local/lib/python3.11/dist-packages (from aiohttp<4.0.0,>=3.9.1->langchain-nvidia-ai-endpoints) (2.6.1)\r\n",
      "Requirement already satisfied: aiosignal>=1.1.2 in /usr/local/lib/python3.11/dist-packages (from aiohttp<4.0.0,>=3.9.1->langchain-nvidia-ai-endpoints) (1.3.2)\r\n",
      "Requirement already satisfied: attrs>=17.3.0 in /usr/local/lib/python3.11/dist-packages (from aiohttp<4.0.0,>=3.9.1->langchain-nvidia-ai-endpoints) (25.3.0)\r\n",
      "Requirement already satisfied: frozenlist>=1.1.1 in /usr/local/lib/python3.11/dist-packages (from aiohttp<4.0.0,>=3.9.1->langchain-nvidia-ai-endpoints) (1.7.0)\r\n",
      "Requirement already satisfied: multidict<7.0,>=4.5 in /usr/local/lib/python3.11/dist-packages (from aiohttp<4.0.0,>=3.9.1->langchain-nvidia-ai-endpoints) (6.6.3)\r\n",
      "Requirement already satisfied: propcache>=0.2.0 in /usr/local/lib/python3.11/dist-packages (from aiohttp<4.0.0,>=3.9.1->langchain-nvidia-ai-endpoints) (0.3.2)\r\n",
      "Requirement already satisfied: yarl<2.0,>=1.17.0 in /usr/local/lib/python3.11/dist-packages (from aiohttp<4.0.0,>=3.9.1->langchain-nvidia-ai-endpoints) (1.20.1)\r\n",
      "Requirement already satisfied: tenacity!=8.4.0,<10.0.0,>=8.1.0 in /usr/local/lib/python3.11/dist-packages (from langchain-core<1.0.0,>=0.3.66->langchain) (8.5.0)\r\n",
      "Requirement already satisfied: jsonpatch<2.0,>=1.33 in /usr/local/lib/python3.11/dist-packages (from langchain-core<1.0.0,>=0.3.66->langchain) (1.33)\r\n",
      "Collecting packaging<25,>=23.2 (from langchain-core<1.0.0,>=0.3.66->langchain)\r\n",
      "  Downloading packaging-24.2-py3-none-any.whl.metadata (3.2 kB)\r\n",
      "Requirement already satisfied: httpx<1,>=0.23.0 in /usr/local/lib/python3.11/dist-packages (from langsmith>=0.1.17->langchain) (0.28.1)\r\n",
      "Requirement already satisfied: orjson<4.0.0,>=3.9.14 in /usr/local/lib/python3.11/dist-packages (from langsmith>=0.1.17->langchain) (3.10.18)\r\n",
      "Requirement already satisfied: requests-toolbelt<2.0.0,>=1.0.0 in /usr/local/lib/python3.11/dist-packages (from langsmith>=0.1.17->langchain) (1.0.0)\r\n",
      "Requirement already satisfied: zstandard<0.24.0,>=0.23.0 in /usr/local/lib/python3.11/dist-packages (from langsmith>=0.1.17->langchain) (0.23.0)\r\n",
      "Requirement already satisfied: charset_normalizer<4,>=2 in /usr/local/lib/python3.11/dist-packages (from requests<3,>=2->langchain) (3.4.2)\r\n",
      "Requirement already satisfied: idna<4,>=2.5 in /usr/local/lib/python3.11/dist-packages (from requests<3,>=2->langchain) (3.10)\r\n",
      "Requirement already satisfied: urllib3<3,>=1.21.1 in /usr/local/lib/python3.11/dist-packages (from requests<3,>=2->langchain) (2.5.0)\r\n",
      "Requirement already satisfied: certifi>=2017.4.17 in /usr/local/lib/python3.11/dist-packages (from requests<3,>=2->langchain) (2025.6.15)\r\n",
      "Requirement already satisfied: greenlet>=1 in /usr/local/lib/python3.11/dist-packages (from SQLAlchemy<3,>=1.4->langchain) (3.2.3)\r\n",
      "Requirement already satisfied: anyio in /usr/local/lib/python3.11/dist-packages (from httpx<1,>=0.23.0->langsmith>=0.1.17->langchain) (4.9.0)\r\n",
      "Requirement already satisfied: httpcore==1.* in /usr/local/lib/python3.11/dist-packages (from httpx<1,>=0.23.0->langsmith>=0.1.17->langchain) (1.0.9)\r\n",
      "Requirement already satisfied: h11>=0.16 in /usr/local/lib/python3.11/dist-packages (from httpcore==1.*->httpx<1,>=0.23.0->langsmith>=0.1.17->langchain) (0.16.0)\r\n",
      "Requirement already satisfied: jsonpointer>=1.9 in /usr/local/lib/python3.11/dist-packages (from jsonpatch<2.0,>=1.33->langchain-core<1.0.0,>=0.3.66->langchain) (3.0.0)\r\n",
      "Requirement already satisfied: sniffio>=1.1 in /usr/local/lib/python3.11/dist-packages (from anyio->httpx<1,>=0.23.0->langsmith>=0.1.17->langchain) (1.3.1)\r\n",
      "Downloading langchain_nvidia_ai_endpoints-0.3.14-py3-none-any.whl (42 kB)\r\n",
      "\u001b[2K   \u001b[90m━━━━━━━━━━━━━━━━━━━━━━━━━━━━━━━━━━━━━━━━\u001b[0m \u001b[32m42.8/42.8 kB\u001b[0m \u001b[31m1.5 MB/s\u001b[0m eta \u001b[36m0:00:00\u001b[0m\r\n",
      "\u001b[?25hDownloading filetype-1.2.0-py2.py3-none-any.whl (19 kB)\r\n",
      "Downloading packaging-24.2-py3-none-any.whl (65 kB)\r\n",
      "\u001b[2K   \u001b[90m━━━━━━━━━━━━━━━━━━━━━━━━━━━━━━━━━━━━━━━━\u001b[0m \u001b[32m65.5/65.5 kB\u001b[0m \u001b[31m3.8 MB/s\u001b[0m eta \u001b[36m0:00:00\u001b[0m\r\n",
      "\u001b[?25hInstalling collected packages: filetype, packaging, langchain-nvidia-ai-endpoints\r\n",
      "  Attempting uninstall: packaging\r\n",
      "    Found existing installation: packaging 25.0\r\n",
      "    Uninstalling packaging-25.0:\r\n",
      "      Successfully uninstalled packaging-25.0\r\n",
      "\u001b[31mERROR: pip's dependency resolver does not currently take into account all the packages that are installed. This behaviour is the source of the following dependency conflicts.\r\n",
      "bigframes 2.8.0 requires google-cloud-bigquery-storage<3.0.0,>=2.30.0, which is not installed.\r\n",
      "datasets 3.6.0 requires fsspec[http]<=2025.3.0,>=2023.1.0, but you have fsspec 2025.5.1 which is incompatible.\r\n",
      "cesium 0.12.4 requires numpy<3.0,>=2.0, but you have numpy 1.26.4 which is incompatible.\r\n",
      "pandas-gbq 0.29.1 requires google-api-core<3.0.0,>=2.10.2, but you have google-api-core 1.34.1 which is incompatible.\r\n",
      "thinc 8.3.6 requires numpy<3.0.0,>=2.0.0, but you have numpy 1.26.4 which is incompatible.\r\n",
      "plotnine 0.14.5 requires matplotlib>=3.8.0, but you have matplotlib 3.7.2 which is incompatible.\r\n",
      "dataproc-spark-connect 0.7.5 requires google-api-core>=2.19, but you have google-api-core 1.34.1 which is incompatible.\r\n",
      "bigframes 2.8.0 requires google-cloud-bigquery[bqstorage,pandas]>=3.31.0, but you have google-cloud-bigquery 3.25.0 which is incompatible.\r\n",
      "bigframes 2.8.0 requires rich<14,>=12.4.4, but you have rich 14.0.0 which is incompatible.\r\n",
      "mlxtend 0.23.4 requires scikit-learn>=1.3.1, but you have scikit-learn 1.2.2 which is incompatible.\u001b[0m\u001b[31m\r\n",
      "\u001b[0mSuccessfully installed filetype-1.2.0 langchain-nvidia-ai-endpoints-0.3.14 packaging-24.2\r\n"
     ]
    }
   ],
   "source": [
    "!pip install langchain langchain-nvidia-ai-endpoints pydantic"
   ]
  },
  {
   "cell_type": "code",
   "execution_count": 3,
   "id": "0d4b67fa",
   "metadata": {
    "execution": {
     "iopub.execute_input": "2025-08-08T06:40:47.994531Z",
     "iopub.status.busy": "2025-08-08T06:40:47.994126Z",
     "iopub.status.idle": "2025-08-08T06:40:49.744034Z",
     "shell.execute_reply": "2025-08-08T06:40:49.743102Z"
    },
    "papermill": {
     "duration": 1.756863,
     "end_time": "2025-08-08T06:40:49.745797",
     "exception": false,
     "start_time": "2025-08-08T06:40:47.988934",
     "status": "completed"
    },
    "tags": []
   },
   "outputs": [],
   "source": [
    "from pydantic import BaseModel, Field\n",
    "from langchain_nvidia_ai_endpoints import ChatNVIDIA"
   ]
  },
  {
   "cell_type": "code",
   "execution_count": 4,
   "id": "e7256e17",
   "metadata": {
    "execution": {
     "iopub.execute_input": "2025-08-08T06:40:49.754922Z",
     "iopub.status.busy": "2025-08-08T06:40:49.754475Z",
     "iopub.status.idle": "2025-08-08T06:40:49.910544Z",
     "shell.execute_reply": "2025-08-08T06:40:49.909789Z"
    },
    "papermill": {
     "duration": 0.16243,
     "end_time": "2025-08-08T06:40:49.912146",
     "exception": false,
     "start_time": "2025-08-08T06:40:49.749716",
     "status": "completed"
    },
    "tags": []
   },
   "outputs": [],
   "source": [
    "from kaggle_secrets import UserSecretsClient\n",
    "nvidia_api_key = UserSecretsClient().get_secret(\"NVIDIA_API_KEY\")\n",
    "nvidia_model_name = UserSecretsClient().get_secret(\"NVIDIA_MODEL_NAME\")"
   ]
  },
  {
   "cell_type": "code",
   "execution_count": 5,
   "id": "9331a4d1",
   "metadata": {
    "execution": {
     "iopub.execute_input": "2025-08-08T06:40:49.921255Z",
     "iopub.status.busy": "2025-08-08T06:40:49.920951Z",
     "iopub.status.idle": "2025-08-08T06:40:49.941293Z",
     "shell.execute_reply": "2025-08-08T06:40:49.940418Z"
    },
    "papermill": {
     "duration": 0.026646,
     "end_time": "2025-08-08T06:40:49.942940",
     "exception": false,
     "start_time": "2025-08-08T06:40:49.916294",
     "status": "completed"
    },
    "tags": []
   },
   "outputs": [],
   "source": [
    "llm = ChatNVIDIA(\n",
    "    model = nvidia_model_name,\n",
    "    api_key = nvidia_api_key,\n",
    ")"
   ]
  },
  {
   "cell_type": "code",
   "execution_count": 6,
   "id": "18d275e5",
   "metadata": {
    "execution": {
     "iopub.execute_input": "2025-08-08T06:40:49.951726Z",
     "iopub.status.busy": "2025-08-08T06:40:49.951367Z",
     "iopub.status.idle": "2025-08-08T06:40:49.959290Z",
     "shell.execute_reply": "2025-08-08T06:40:49.958363Z"
    },
    "papermill": {
     "duration": 0.014,
     "end_time": "2025-08-08T06:40:49.960779",
     "exception": false,
     "start_time": "2025-08-08T06:40:49.946779",
     "status": "completed"
    },
    "tags": []
   },
   "outputs": [],
   "source": [
    "class Country(BaseModel):\n",
    "    \"\"\" Information about a country \"\"\"\n",
    "    name: str = Field(description = \"name of the country\")\n",
    "    language: str = Field(description = \"language of the country\")\n",
    "    capital: str = Field(description = \"Capital of the country\" )\n",
    "    "
   ]
  },
  {
   "cell_type": "code",
   "execution_count": 7,
   "id": "80e42ae8",
   "metadata": {
    "execution": {
     "iopub.execute_input": "2025-08-08T06:40:49.969276Z",
     "iopub.status.busy": "2025-08-08T06:40:49.968728Z",
     "iopub.status.idle": "2025-08-08T06:40:50.177405Z",
     "shell.execute_reply": "2025-08-08T06:40:50.176422Z"
    },
    "papermill": {
     "duration": 0.214528,
     "end_time": "2025-08-08T06:40:50.178863",
     "exception": false,
     "start_time": "2025-08-08T06:40:49.964335",
     "status": "completed"
    },
    "tags": []
   },
   "outputs": [
    {
     "data": {
      "text/plain": [
       "RunnableBinding(bound=ChatNVIDIA(base_url='https://integrate.api.nvidia.com/v1', model='meta/llama-3.1-70b-instruct'), kwargs={'nvext': {'guided_json': {'description': 'Information about a country ', 'properties': {'name': {'description': 'name of the country', 'title': 'Name', 'type': 'string'}, 'language': {'description': 'language of the country', 'title': 'Language', 'type': 'string'}, 'capital': {'description': 'Capital of the country', 'title': 'Capital', 'type': 'string'}}, 'required': ['name', 'language', 'capital'], 'title': 'Country', 'type': 'object'}}, 'ls_structured_output_format': {'schema': {'description': 'Information about a country ', 'properties': {'name': {'description': 'name of the country', 'title': 'Name', 'type': 'string'}, 'language': {'description': 'language of the country', 'title': 'Language', 'type': 'string'}, 'capital': {'description': 'Capital of the country', 'title': 'Capital', 'type': 'string'}}, 'required': ['name', 'language', 'capital'], 'title': 'Country', 'type': 'object'}}}, config={}, config_factories=[])\n",
       "| ForgivingPydanticOutputParser(pydantic_object=<class '__main__.Country'>)"
      ]
     },
     "execution_count": 7,
     "metadata": {},
     "output_type": "execute_result"
    }
   ],
   "source": [
    "structured_llm = llm.with_structured_output(Country)\n",
    "structured_llm"
   ]
  },
  {
   "cell_type": "code",
   "execution_count": 8,
   "id": "bf0feacf",
   "metadata": {
    "execution": {
     "iopub.execute_input": "2025-08-08T06:40:50.188691Z",
     "iopub.status.busy": "2025-08-08T06:40:50.187888Z",
     "iopub.status.idle": "2025-08-08T06:40:55.607595Z",
     "shell.execute_reply": "2025-08-08T06:40:55.606699Z"
    },
    "papermill": {
     "duration": 5.426217,
     "end_time": "2025-08-08T06:40:55.609163",
     "exception": false,
     "start_time": "2025-08-08T06:40:50.182946",
     "status": "completed"
    },
    "tags": []
   },
   "outputs": [
    {
     "data": {
      "text/plain": [
       "Country(name='Spain', language='Spanish', capital='Madrid')"
      ]
     },
     "execution_count": 8,
     "metadata": {},
     "output_type": "execute_result"
    }
   ],
   "source": [
    "structured_llm.invoke(\"Tell me about Spain\")"
   ]
  },
  {
   "cell_type": "markdown",
   "id": "6a03435b",
   "metadata": {
    "papermill": {
     "duration": 0.003717,
     "end_time": "2025-08-08T06:40:55.617080",
     "exception": false,
     "start_time": "2025-08-08T06:40:55.613363",
     "status": "completed"
    },
    "tags": []
   },
   "source": [
    "### For No Validations"
   ]
  },
  {
   "cell_type": "code",
   "execution_count": 9,
   "id": "8159a66a",
   "metadata": {
    "execution": {
     "iopub.execute_input": "2025-08-08T06:40:55.625849Z",
     "iopub.status.busy": "2025-08-08T06:40:55.625553Z",
     "iopub.status.idle": "2025-08-08T06:41:17.191472Z",
     "shell.execute_reply": "2025-08-08T06:41:17.190383Z"
    },
    "papermill": {
     "duration": 21.5723,
     "end_time": "2025-08-08T06:41:17.193210",
     "exception": false,
     "start_time": "2025-08-08T06:40:55.620910",
     "status": "completed"
    },
    "tags": []
   },
   "outputs": [
    {
     "name": "stdout",
     "output_type": "stream",
     "text": [
      "Requirement already satisfied: typing-extensions in /usr/local/lib/python3.11/dist-packages (4.14.0)\r\n",
      "Collecting typing-extensions\r\n",
      "  Downloading typing_extensions-4.14.1-py3-none-any.whl.metadata (3.0 kB)\r\n",
      "Downloading typing_extensions-4.14.1-py3-none-any.whl (43 kB)\r\n",
      "\u001b[2K   \u001b[90m━━━━━━━━━━━━━━━━━━━━━━━━━━━━━━━━━━━━━━━━\u001b[0m \u001b[32m43.9/43.9 kB\u001b[0m \u001b[31m1.7 MB/s\u001b[0m eta \u001b[36m0:00:00\u001b[0m\r\n",
      "\u001b[?25hInstalling collected packages: typing-extensions\r\n",
      "  Attempting uninstall: typing-extensions\r\n",
      "    Found existing installation: typing_extensions 4.14.0\r\n",
      "    Uninstalling typing_extensions-4.14.0:\r\n",
      "      Successfully uninstalled typing_extensions-4.14.0\r\n",
      "\u001b[31mERROR: pip's dependency resolver does not currently take into account all the packages that are installed. This behaviour is the source of the following dependency conflicts.\r\n",
      "bigframes 2.8.0 requires google-cloud-bigquery-storage<3.0.0,>=2.30.0, which is not installed.\r\n",
      "onnx 1.18.0 requires protobuf>=4.25.1, but you have protobuf 3.20.3 which is incompatible.\r\n",
      "dopamine-rl 4.1.2 requires gymnasium>=1.0.0, but you have gymnasium 0.29.0 which is incompatible.\r\n",
      "ibis-framework 9.5.0 requires toolz<1,>=0.11, but you have toolz 1.0.0 which is incompatible.\r\n",
      "thinc 8.3.6 requires numpy<3.0.0,>=2.0.0, but you have numpy 1.26.4 which is incompatible.\r\n",
      "torch 2.6.0+cu124 requires nvidia-cublas-cu12==12.4.5.8; platform_system == \"Linux\" and platform_machine == \"x86_64\", but you have nvidia-cublas-cu12 12.5.3.2 which is incompatible.\r\n",
      "torch 2.6.0+cu124 requires nvidia-cuda-cupti-cu12==12.4.127; platform_system == \"Linux\" and platform_machine == \"x86_64\", but you have nvidia-cuda-cupti-cu12 12.5.82 which is incompatible.\r\n",
      "torch 2.6.0+cu124 requires nvidia-cuda-nvrtc-cu12==12.4.127; platform_system == \"Linux\" and platform_machine == \"x86_64\", but you have nvidia-cuda-nvrtc-cu12 12.5.82 which is incompatible.\r\n",
      "torch 2.6.0+cu124 requires nvidia-cuda-runtime-cu12==12.4.127; platform_system == \"Linux\" and platform_machine == \"x86_64\", but you have nvidia-cuda-runtime-cu12 12.5.82 which is incompatible.\r\n",
      "torch 2.6.0+cu124 requires nvidia-cudnn-cu12==9.1.0.70; platform_system == \"Linux\" and platform_machine == \"x86_64\", but you have nvidia-cudnn-cu12 9.3.0.75 which is incompatible.\r\n",
      "torch 2.6.0+cu124 requires nvidia-cufft-cu12==11.2.1.3; platform_system == \"Linux\" and platform_machine == \"x86_64\", but you have nvidia-cufft-cu12 11.2.3.61 which is incompatible.\r\n",
      "torch 2.6.0+cu124 requires nvidia-curand-cu12==10.3.5.147; platform_system == \"Linux\" and platform_machine == \"x86_64\", but you have nvidia-curand-cu12 10.3.6.82 which is incompatible.\r\n",
      "torch 2.6.0+cu124 requires nvidia-cusolver-cu12==11.6.1.9; platform_system == \"Linux\" and platform_machine == \"x86_64\", but you have nvidia-cusolver-cu12 11.6.3.83 which is incompatible.\r\n",
      "torch 2.6.0+cu124 requires nvidia-cusparse-cu12==12.3.1.170; platform_system == \"Linux\" and platform_machine == \"x86_64\", but you have nvidia-cusparse-cu12 12.5.1.3 which is incompatible.\r\n",
      "torch 2.6.0+cu124 requires nvidia-nvjitlink-cu12==12.4.127; platform_system == \"Linux\" and platform_machine == \"x86_64\", but you have nvidia-nvjitlink-cu12 12.5.82 which is incompatible.\r\n",
      "pydrive2 1.21.3 requires cryptography<44, but you have cryptography 44.0.3 which is incompatible.\r\n",
      "pydrive2 1.21.3 requires pyOpenSSL<=24.2.1,>=19.1.0, but you have pyopenssl 25.1.0 which is incompatible.\r\n",
      "bigframes 2.8.0 requires google-cloud-bigquery[bqstorage,pandas]>=3.31.0, but you have google-cloud-bigquery 3.25.0 which is incompatible.\r\n",
      "bigframes 2.8.0 requires rich<14,>=12.4.4, but you have rich 14.0.0 which is incompatible.\u001b[0m\u001b[31m\r\n",
      "\u001b[0mSuccessfully installed typing-extensions-4.14.1\r\n"
     ]
    }
   ],
   "source": [
    "!pip install --upgrade typing-extensions"
   ]
  },
  {
   "cell_type": "code",
   "execution_count": 10,
   "id": "6820a251",
   "metadata": {
    "execution": {
     "iopub.execute_input": "2025-08-08T06:41:17.204693Z",
     "iopub.status.busy": "2025-08-08T06:41:17.204340Z",
     "iopub.status.idle": "2025-08-08T06:41:17.209095Z",
     "shell.execute_reply": "2025-08-08T06:41:17.208341Z"
    },
    "papermill": {
     "duration": 0.011178,
     "end_time": "2025-08-08T06:41:17.210355",
     "exception": false,
     "start_time": "2025-08-08T06:41:17.199177",
     "status": "completed"
    },
    "tags": []
   },
   "outputs": [],
   "source": [
    "from typing_extensions import Annotated, TypedDict\n",
    "from typing import Optional"
   ]
  },
  {
   "cell_type": "code",
   "execution_count": 11,
   "id": "ae94b6b3",
   "metadata": {
    "execution": {
     "iopub.execute_input": "2025-08-08T06:41:17.219516Z",
     "iopub.status.busy": "2025-08-08T06:41:17.219224Z",
     "iopub.status.idle": "2025-08-08T06:41:17.227082Z",
     "shell.execute_reply": "2025-08-08T06:41:17.226243Z"
    },
    "papermill": {
     "duration": 0.013657,
     "end_time": "2025-08-08T06:41:17.228221",
     "exception": false,
     "start_time": "2025-08-08T06:41:17.214564",
     "status": "completed"
    },
    "tags": []
   },
   "outputs": [],
   "source": [
    " class Joke(BaseModel):\n",
    "    \"\"\" Joke to tell the user \"\"\"\n",
    "\n",
    "    setup: Annotated[str, ..., \"The setup of the joke\"]\n",
    "    punchline: Annotated[str, ..., \"The punchline of the joke\"]\n",
    "    rating: Annotated[Optional[int], None, \"how much funny the joke is, from 1 to 10 \"]\n"
   ]
  },
  {
   "cell_type": "code",
   "execution_count": 12,
   "id": "b6ea9ba2",
   "metadata": {
    "execution": {
     "iopub.execute_input": "2025-08-08T06:41:17.237591Z",
     "iopub.status.busy": "2025-08-08T06:41:17.237298Z",
     "iopub.status.idle": "2025-08-08T06:41:17.244892Z",
     "shell.execute_reply": "2025-08-08T06:41:17.244186Z"
    },
    "papermill": {
     "duration": 0.013632,
     "end_time": "2025-08-08T06:41:17.246132",
     "exception": false,
     "start_time": "2025-08-08T06:41:17.232500",
     "status": "completed"
    },
    "tags": []
   },
   "outputs": [],
   "source": [
    "structured_llm = llm.with_structured_output(Joke)"
   ]
  },
  {
   "cell_type": "code",
   "execution_count": 13,
   "id": "02220630",
   "metadata": {
    "execution": {
     "iopub.execute_input": "2025-08-08T06:41:17.255870Z",
     "iopub.status.busy": "2025-08-08T06:41:17.255629Z",
     "iopub.status.idle": "2025-08-08T06:41:19.242472Z",
     "shell.execute_reply": "2025-08-08T06:41:19.241586Z"
    },
    "papermill": {
     "duration": 1.993622,
     "end_time": "2025-08-08T06:41:19.244116",
     "exception": false,
     "start_time": "2025-08-08T06:41:17.250494",
     "status": "completed"
    },
    "tags": []
   },
   "outputs": [
    {
     "data": {
      "text/plain": [
       "Joke(setup='Why did the cat join a band', punchline='becuase it wnted to be a purr-cussionist', rating=8)"
      ]
     },
     "execution_count": 13,
     "metadata": {},
     "output_type": "execute_result"
    }
   ],
   "source": [
    "structured_llm.invoke(\"Tell me a joke about .cats\")"
   ]
  },
  {
   "cell_type": "code",
   "execution_count": null,
   "id": "669e9a59",
   "metadata": {
    "papermill": {
     "duration": 0.004249,
     "end_time": "2025-08-08T06:41:19.253009",
     "exception": false,
     "start_time": "2025-08-08T06:41:19.248760",
     "status": "completed"
    },
    "tags": []
   },
   "outputs": [],
   "source": []
  }
 ],
 "metadata": {
  "kaggle": {
   "accelerator": "none",
   "dataSources": [],
   "dockerImageVersionId": 31089,
   "isGpuEnabled": false,
   "isInternetEnabled": true,
   "language": "python",
   "sourceType": "notebook"
  },
  "kernelspec": {
   "display_name": "Python 3",
   "language": "python",
   "name": "python3"
  },
  "language_info": {
   "codemirror_mode": {
    "name": "ipython",
    "version": 3
   },
   "file_extension": ".py",
   "mimetype": "text/x-python",
   "name": "python",
   "nbconvert_exporter": "python",
   "pygments_lexer": "ipython3",
   "version": "3.11.13"
  },
  "papermill": {
   "default_parameters": {},
   "duration": 44.849902,
   "end_time": "2025-08-08T06:41:19.977985",
   "environment_variables": {},
   "exception": null,
   "input_path": "__notebook__.ipynb",
   "output_path": "__notebook__.ipynb",
   "parameters": {},
   "start_time": "2025-08-08T06:40:35.128083",
   "version": "2.6.0"
  }
 },
 "nbformat": 4,
 "nbformat_minor": 5
}
